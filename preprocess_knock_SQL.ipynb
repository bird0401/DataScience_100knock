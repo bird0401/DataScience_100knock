{
 "cells": [
  {
   "cell_type": "markdown",
   "metadata": {},
   "source": [
    "# データサイエンス100本ノック（構造化データ加工編） - SQL"
   ]
  },
  {
   "cell_type": "markdown",
   "metadata": {
    "tags": []
   },
   "source": [
    "## はじめに\n",
    "- データベースはPostgreSQL12です\n",
    "- 初めに以下のセルを実行してください\n",
    "- セルに %%sql と記載することでSQLを発行することができます\n",
    "- jupyterからはdescribeコマンドによるテーブル構造の確認ができないため、テーブル構造を確認する場合はlimitを指定したSELECTなどで代用してください\n",
    "- 使い慣れたSQLクライアントを使っても問題ありません（接続情報は以下の通り）\n",
    "  - IPアドレス：Docker Desktopの場合はlocalhost、Docker toolboxの場合は192.168.99.100\n",
    "  - Port:5432\n",
    "  - database名: dsdojo_db\n",
    "  - ユーザ名：padawan\n",
    "  - パスワード:padawan12345\n",
    "- 大量出力を行うとJupyterが固まることがあるため、出力件数は制限することを推奨します（設問にも出力件数を記載）\n",
    "    - 結果確認のために表示させる量を適切にコントロールし、作業を軽快にすすめる技術もデータ加工には求められます\n",
    "- 大量結果が出力された場合は、ファイルが重くなり以降開けなくなることもあります\n",
    "    - その場合、作業結果は消えますがファイルをGitHubから取り直してください\n",
    "    - vimエディタなどで大量出力範囲を削除することもできます\n",
    "- 名前、住所等はダミーデータであり、実在するものではありません"
   ]
  },
  {
   "cell_type": "code",
   "execution_count": 1,
   "metadata": {
    "jupyter": {
     "source_hidden": true
    },
    "tags": []
   },
   "outputs": [
    {
     "data": {
      "text/plain": [
       "'Connected: padawan@dsdojo_db'"
      ]
     },
     "execution_count": 1,
     "metadata": {},
     "output_type": "execute_result"
    }
   ],
   "source": [
    "%load_ext sql\n",
    "import os\n",
    "\n",
    "pgconfig = {\n",
    "    'host': 'db',\n",
    "    'port': os.environ['PG_PORT'],\n",
    "    'database': os.environ['PG_DATABASE'],\n",
    "    'user': os.environ['PG_USER'],\n",
    "    'password': os.environ['PG_PASSWORD'],\n",
    "}\n",
    "dsl = 'postgresql://{user}:{password}@{host}:{port}/{database}'.format(**pgconfig)\n",
    "\n",
    "# MagicコマンドでSQLを書くための設定\n",
    "%sql $dsl"
   ]
  },
  {
   "cell_type": "markdown",
   "metadata": {},
   "source": [
    "# 使い方\n",
    "- セルの先頭に%%sqlと記載し、２行目以降にSQLを記述することでJupyterからPostgreSQLに対しSQLを実行できます。"
   ]
  },
  {
   "cell_type": "code",
   "execution_count": 2,
   "metadata": {},
   "outputs": [
    {
     "name": "stdout",
     "output_type": "stream",
     "text": [
      " * postgresql://padawan:***@db:5432/dsdojo_db\n",
      "1 rows affected.\n"
     ]
    },
    {
     "data": {
      "text/html": [
       "<table>\n",
       "    <thead>\n",
       "        <tr>\n",
       "            <th>sample</th>\n",
       "        </tr>\n",
       "    </thead>\n",
       "    <tbody>\n",
       "        <tr>\n",
       "            <td>このように実行できます</td>\n",
       "        </tr>\n",
       "    </tbody>\n",
       "</table>"
      ],
      "text/plain": [
       "[('このように実行できます',)]"
      ]
     },
     "execution_count": 2,
     "metadata": {},
     "output_type": "execute_result"
    }
   ],
   "source": [
    "%%sql\n",
    "select 'このように実行できます' as sample"
   ]
  },
  {
   "cell_type": "markdown",
   "metadata": {},
   "source": [
    "# データ加工100本ノック"
   ]
  },
  {
   "cell_type": "markdown",
   "metadata": {},
   "source": [
    "# 基礎"
   ]
  },
  {
   "cell_type": "markdown",
   "metadata": {},
   "source": [
    "---\n",
    "> S-001: レシート明細テーブル（receipt）から全項目の先頭10件を表示し、どのようなデータを保有しているか目視で確認せよ。\n"
   ]
  },
  {
   "cell_type": "code",
   "execution_count": null,
   "metadata": {},
   "outputs": [],
   "source": [
    "%%sql\n",
    "select * from receipt limit 10"
   ]
  },
  {
   "cell_type": "markdown",
   "metadata": {},
   "source": [
    "---\n",
    "> S-002: レシート明細のテーブル（receipt）から売上日（sales_ymd）、顧客ID（customer_id）、商品コード（product_cd）、売上金額（amount）の順に列を指定し、10件表示させよ。"
   ]
  },
  {
   "cell_type": "code",
   "execution_count": null,
   "metadata": {},
   "outputs": [],
   "source": [
    "%%sql\n"
   ]
  },
  {
   "cell_type": "markdown",
   "metadata": {},
   "source": [
    "---\n",
    "> S-003: レシート明細のテーブル（receipt）から売上日（sales_ymd）、顧客ID（customer_id）、商品コード（product_cd）、売上金額（amount）の順に列を指定し、10件表示させよ。ただし、sales_ymdはsales_dateに項目名を変更しながら抽出すること。"
   ]
  },
  {
   "cell_type": "code",
   "execution_count": null,
   "metadata": {},
   "outputs": [],
   "source": [
    "%%sql\n"
   ]
  },
  {
   "cell_type": "markdown",
   "metadata": {},
   "source": [
    "---\n",
    "> S-004: レシート明細のテーブル（receipt）から売上日（sales_ymd）、顧客ID（customer_id）、商品コード（product_cd）、売上金額（amount）の順に列を指定し、以下の条件を満たすデータを抽出せよ。\n",
    "> - 顧客ID（customer_id）が\"CS018205000001\""
   ]
  },
  {
   "cell_type": "code",
   "execution_count": null,
   "metadata": {},
   "outputs": [],
   "source": [
    "%%sql\n"
   ]
  },
  {
   "cell_type": "markdown",
   "metadata": {},
   "source": [
    "---\n",
    "> S-005: レシート明細のテーブル（receipt）から売上日（sales_ymd）、顧客ID（customer_id）、商品コード（product_cd）、売上金額（amount）の順に列を指定し、以下の条件を満たすデータを抽出せよ。\n",
    "> - 顧客ID（customer_id）が\"CS018205000001\"\n",
    "> - 売上金額（amount）が1,000以上"
   ]
  },
  {
   "cell_type": "code",
   "execution_count": null,
   "metadata": {},
   "outputs": [],
   "source": [
    "%%sql\n"
   ]
  },
  {
   "cell_type": "markdown",
   "metadata": {},
   "source": [
    "---\n",
    "> S-006: レシート明細テーブル（receipt）から売上日（sales_ymd）、顧客ID（customer_id）、商品コード（product_cd）、売上数量（quantity）、売上金額（amount）の順に列を指定し、以下の条件を満たすデータを抽出せよ。\n",
    "> - 顧客ID（customer_id）が\"CS018205000001\"\n",
    "> - 売上金額（amount）が1,000以上または売上数量（quantity）が5以上"
   ]
  },
  {
   "cell_type": "code",
   "execution_count": null,
   "metadata": {},
   "outputs": [],
   "source": [
    "%%sql\n"
   ]
  },
  {
   "cell_type": "markdown",
   "metadata": {},
   "source": [
    "---\n",
    "> S-007: レシート明細のテーブル（receipt）から売上日（sales_ymd）、顧客ID（customer_id）、商品コード（product_cd）、売上金額（amount）の順に列を指定し、以下の条件を満たすデータを抽出せよ。\n",
    "> - 顧客ID（customer_id）が\"CS018205000001\"\n",
    "> - 売上金額（amount）が1,000以上2,000以下"
   ]
  },
  {
   "cell_type": "code",
   "execution_count": null,
   "metadata": {},
   "outputs": [],
   "source": [
    "%%sql\n"
   ]
  },
  {
   "cell_type": "markdown",
   "metadata": {},
   "source": [
    "---\n",
    "> S-008: レシート明細テーブル（receipt）から売上日（sales_ymd）、顧客ID（customer_id）、商品コード（product_cd）、売上金額（amount）の順に列を指定し、以下の条件を満たすデータを抽出せよ。\n",
    "> - 顧客ID（customer_id）が\"CS018205000001\"\n",
    "> - 商品コード（product_cd）が\"P071401019\"以外"
   ]
  },
  {
   "cell_type": "code",
   "execution_count": null,
   "metadata": {},
   "outputs": [],
   "source": [
    "%%sql\n"
   ]
  },
  {
   "cell_type": "markdown",
   "metadata": {},
   "source": [
    "---\n",
    "> S-009: 以下の処理において、出力結果を変えずにORをANDに書き換えよ。\n",
    "\n",
    "`select * from store where not (prefecture_cd = '13' or floor_area > 900)`"
   ]
  },
  {
   "cell_type": "code",
   "execution_count": null,
   "metadata": {},
   "outputs": [],
   "source": [
    "%%sql\n"
   ]
  },
  {
   "cell_type": "markdown",
   "metadata": {},
   "source": [
    "---\n",
    "> S-010: 店舗テーブル（store）から、店舗コード（store_cd）が\"S14\"で始まるものだけ全項目抽出し、10件だけ表示せよ。"
   ]
  },
  {
   "cell_type": "code",
   "execution_count": null,
   "metadata": {},
   "outputs": [],
   "source": [
    "%%sql\n"
   ]
  },
  {
   "cell_type": "markdown",
   "metadata": {},
   "source": [
    "---\n",
    "> S-011: 顧客テーブル（customer）から顧客ID（customer_id）の末尾が1のものだけ全項目抽出し、10件だけ表示せよ。\n"
   ]
  },
  {
   "cell_type": "code",
   "execution_count": null,
   "metadata": {},
   "outputs": [],
   "source": [
    "%%sql\n"
   ]
  },
  {
   "cell_type": "markdown",
   "metadata": {},
   "source": [
    "---\n",
    "> S-012: 店舗テーブル（store）から横浜市の店舗だけ全項目表示せよ。"
   ]
  },
  {
   "cell_type": "code",
   "execution_count": null,
   "metadata": {},
   "outputs": [],
   "source": [
    "%%sql\n"
   ]
  },
  {
   "cell_type": "markdown",
   "metadata": {},
   "source": [
    "---\n",
    "> S-013: 顧客テーブル（customer）から、ステータスコード（status_cd）の先頭がアルファベットのA〜Fで始まるデータを全項目抽出し、10件だけ表示せよ。"
   ]
  },
  {
   "cell_type": "code",
   "execution_count": null,
   "metadata": {},
   "outputs": [],
   "source": [
    "%%sql\n"
   ]
  },
  {
   "cell_type": "markdown",
   "metadata": {},
   "source": [
    "---\n",
    "> S-014: 顧客テーブル（customer）から、ステータスコード（status_cd）の末尾が数字の1〜9で終わるデータを全項目抽出し、10件だけ表示せよ。"
   ]
  },
  {
   "cell_type": "code",
   "execution_count": null,
   "metadata": {},
   "outputs": [],
   "source": [
    "%%sql\n"
   ]
  },
  {
   "cell_type": "markdown",
   "metadata": {},
   "source": [
    "---\n",
    "> S-015: 顧客テーブル（customer）から、ステータスコード（status_cd）の先頭がアルファベットのA〜Fで始まり、末尾が数字の1〜9で終わるデータを全項目抽出し、10件だけ表示せよ。"
   ]
  },
  {
   "cell_type": "code",
   "execution_count": null,
   "metadata": {},
   "outputs": [],
   "source": [
    "%%sql\n"
   ]
  },
  {
   "cell_type": "markdown",
   "metadata": {},
   "source": [
    "---\n",
    "> S-016: 店舗テーブル（store）から、電話番号（tel_no）が3桁-3桁-4桁のデータを全項目表示せよ。"
   ]
  },
  {
   "cell_type": "code",
   "execution_count": null,
   "metadata": {},
   "outputs": [],
   "source": [
    "%%sql\n"
   ]
  },
  {
   "cell_type": "markdown",
   "metadata": {},
   "source": [
    "---\n",
    "> S-017: 顧客テーブル（customer）を生年月日（birth_day）で高齢順にソートし、先頭10件を全項目表示せよ。"
   ]
  },
  {
   "cell_type": "code",
   "execution_count": null,
   "metadata": {},
   "outputs": [],
   "source": [
    "%%sql\n"
   ]
  },
  {
   "cell_type": "markdown",
   "metadata": {},
   "source": [
    "---\n",
    "> S-018: 顧客テーブル（customer）を生年月日（birth_day）で若い順にソートし、先頭10件を全項目表示せよ。"
   ]
  },
  {
   "cell_type": "code",
   "execution_count": null,
   "metadata": {},
   "outputs": [],
   "source": [
    "%%sql\n"
   ]
  },
  {
   "cell_type": "markdown",
   "metadata": {},
   "source": [
    "# RANK, ROW_NUMBER"
   ]
  },
  {
   "cell_type": "markdown",
   "metadata": {},
   "source": [
    "---\n",
    "> S-019: レシート明細テーブル（receipt）に対し、1件あたりの売上金額（amount）が高い順にランクを付与し、先頭10件を抽出せよ。項目は顧客ID（customer_id）、売上金額（amount）、付与したランクを表示させること。なお、売上金額（amount）が等しい場合は同一順位を付与するものとする。"
   ]
  },
  {
   "cell_type": "code",
   "execution_count": 16,
   "metadata": {},
   "outputs": [
    {
     "name": "stdout",
     "output_type": "stream",
     "text": [
      " * postgresql://padawan:***@db:5432/dsdojo_db\n",
      "10 rows affected.\n"
     ]
    },
    {
     "data": {
      "text/html": [
       "<table>\n",
       "    <thead>\n",
       "        <tr>\n",
       "            <th>customer_id</th>\n",
       "            <th>amount</th>\n",
       "            <th>ranking</th>\n",
       "        </tr>\n",
       "    </thead>\n",
       "    <tbody>\n",
       "        <tr>\n",
       "            <td>CS011415000006</td>\n",
       "            <td>10925</td>\n",
       "            <td>1</td>\n",
       "        </tr>\n",
       "        <tr>\n",
       "            <td>ZZ000000000000</td>\n",
       "            <td>6800</td>\n",
       "            <td>2</td>\n",
       "        </tr>\n",
       "        <tr>\n",
       "            <td>CS028605000002</td>\n",
       "            <td>5780</td>\n",
       "            <td>3</td>\n",
       "        </tr>\n",
       "        <tr>\n",
       "            <td>ZZ000000000000</td>\n",
       "            <td>5480</td>\n",
       "            <td>4</td>\n",
       "        </tr>\n",
       "        <tr>\n",
       "            <td>CS015515000034</td>\n",
       "            <td>5480</td>\n",
       "            <td>4</td>\n",
       "        </tr>\n",
       "        <tr>\n",
       "            <td>ZZ000000000000</td>\n",
       "            <td>5480</td>\n",
       "            <td>4</td>\n",
       "        </tr>\n",
       "        <tr>\n",
       "            <td>ZZ000000000000</td>\n",
       "            <td>5440</td>\n",
       "            <td>7</td>\n",
       "        </tr>\n",
       "        <tr>\n",
       "            <td>CS021515000089</td>\n",
       "            <td>5440</td>\n",
       "            <td>7</td>\n",
       "        </tr>\n",
       "        <tr>\n",
       "            <td>ZZ000000000000</td>\n",
       "            <td>5280</td>\n",
       "            <td>9</td>\n",
       "        </tr>\n",
       "        <tr>\n",
       "            <td>CS008513000063</td>\n",
       "            <td>5280</td>\n",
       "            <td>9</td>\n",
       "        </tr>\n",
       "    </tbody>\n",
       "</table>"
      ],
      "text/plain": [
       "[('CS011415000006', 10925, 1),\n",
       " ('ZZ000000000000', 6800, 2),\n",
       " ('CS028605000002', 5780, 3),\n",
       " ('ZZ000000000000', 5480, 4),\n",
       " ('CS015515000034', 5480, 4),\n",
       " ('ZZ000000000000', 5480, 4),\n",
       " ('ZZ000000000000', 5440, 7),\n",
       " ('CS021515000089', 5440, 7),\n",
       " ('ZZ000000000000', 5280, 9),\n",
       " ('CS008513000063', 5280, 9)]"
      ]
     },
     "execution_count": 16,
     "metadata": {},
     "output_type": "execute_result"
    }
   ],
   "source": [
    "%%sql\n",
    "\n",
    "SELECT customer_id,amount,RANK() OVER(ORDER BY amount DESC) AS ranking \n",
    "FROM receipt \n",
    "LIMIT 10"
   ]
  },
  {
   "cell_type": "markdown",
   "metadata": {},
   "source": [
    "---\n",
    "> S-020: レシート明細テーブル（receipt）に対し、1件あたりの売上金額（amount）が高い順にランクを付与し、先頭10件を抽出せよ。項目は顧客ID（customer_id）、売上金額（amount）、付与したランクを表示させること。なお、売上金額（amount）が等しい場合でも別順位を付与すること。"
   ]
  },
  {
   "cell_type": "code",
   "execution_count": 17,
   "metadata": {},
   "outputs": [
    {
     "name": "stdout",
     "output_type": "stream",
     "text": [
      " * postgresql://padawan:***@db:5432/dsdojo_db\n",
      "10 rows affected.\n"
     ]
    },
    {
     "data": {
      "text/html": [
       "<table>\n",
       "    <thead>\n",
       "        <tr>\n",
       "            <th>customer_id</th>\n",
       "            <th>amount</th>\n",
       "            <th>row_number</th>\n",
       "        </tr>\n",
       "    </thead>\n",
       "    <tbody>\n",
       "        <tr>\n",
       "            <td>CS011415000006</td>\n",
       "            <td>10925</td>\n",
       "            <td>1</td>\n",
       "        </tr>\n",
       "        <tr>\n",
       "            <td>ZZ000000000000</td>\n",
       "            <td>6800</td>\n",
       "            <td>2</td>\n",
       "        </tr>\n",
       "        <tr>\n",
       "            <td>CS028605000002</td>\n",
       "            <td>5780</td>\n",
       "            <td>3</td>\n",
       "        </tr>\n",
       "        <tr>\n",
       "            <td>ZZ000000000000</td>\n",
       "            <td>5480</td>\n",
       "            <td>4</td>\n",
       "        </tr>\n",
       "        <tr>\n",
       "            <td>CS015515000034</td>\n",
       "            <td>5480</td>\n",
       "            <td>5</td>\n",
       "        </tr>\n",
       "        <tr>\n",
       "            <td>ZZ000000000000</td>\n",
       "            <td>5480</td>\n",
       "            <td>6</td>\n",
       "        </tr>\n",
       "        <tr>\n",
       "            <td>ZZ000000000000</td>\n",
       "            <td>5440</td>\n",
       "            <td>7</td>\n",
       "        </tr>\n",
       "        <tr>\n",
       "            <td>CS021515000089</td>\n",
       "            <td>5440</td>\n",
       "            <td>8</td>\n",
       "        </tr>\n",
       "        <tr>\n",
       "            <td>ZZ000000000000</td>\n",
       "            <td>5280</td>\n",
       "            <td>9</td>\n",
       "        </tr>\n",
       "        <tr>\n",
       "            <td>ZZ000000000000</td>\n",
       "            <td>5280</td>\n",
       "            <td>10</td>\n",
       "        </tr>\n",
       "    </tbody>\n",
       "</table>"
      ],
      "text/plain": [
       "[('CS011415000006', 10925, 1),\n",
       " ('ZZ000000000000', 6800, 2),\n",
       " ('CS028605000002', 5780, 3),\n",
       " ('ZZ000000000000', 5480, 4),\n",
       " ('CS015515000034', 5480, 5),\n",
       " ('ZZ000000000000', 5480, 6),\n",
       " ('ZZ000000000000', 5440, 7),\n",
       " ('CS021515000089', 5440, 8),\n",
       " ('ZZ000000000000', 5280, 9),\n",
       " ('ZZ000000000000', 5280, 10)]"
      ]
     },
     "execution_count": 17,
     "metadata": {},
     "output_type": "execute_result"
    }
   ],
   "source": [
    "%%sql\n",
    "SELECT customer_id,amount,ROW_NUMBER() OVER(ORDER BY amount DESC)\n",
    "FROM receipt\n",
    "LIMIT 10"
   ]
  },
  {
   "cell_type": "markdown",
   "metadata": {},
   "source": [
    "---\n",
    "> S-021: レシート明細テーブル（receipt）に対し、件数をカウントせよ。"
   ]
  },
  {
   "cell_type": "markdown",
   "metadata": {},
   "source": [
    "# COUNT, SUM, MAX, MIN, AVG"
   ]
  },
  {
   "cell_type": "code",
   "execution_count": null,
   "metadata": {},
   "outputs": [],
   "source": [
    "%%sql\n",
    "SELECT COUNT(*) FROM receipt"
   ]
  },
  {
   "cell_type": "markdown",
   "metadata": {},
   "source": [
    "---\n",
    "> S-022: レシート明細テーブル（receipt）の顧客ID（customer_id）に対し、ユニーク件数をカウントせよ。"
   ]
  },
  {
   "cell_type": "code",
   "execution_count": 28,
   "metadata": {},
   "outputs": [
    {
     "name": "stdout",
     "output_type": "stream",
     "text": [
      " * postgresql://padawan:***@db:5432/dsdojo_db\n",
      "1 rows affected.\n"
     ]
    },
    {
     "data": {
      "text/html": [
       "<table>\n",
       "    <thead>\n",
       "        <tr>\n",
       "            <th>count</th>\n",
       "        </tr>\n",
       "    </thead>\n",
       "    <tbody>\n",
       "        <tr>\n",
       "            <td>8307</td>\n",
       "        </tr>\n",
       "    </tbody>\n",
       "</table>"
      ],
      "text/plain": [
       "[(8307,)]"
      ]
     },
     "execution_count": 28,
     "metadata": {},
     "output_type": "execute_result"
    }
   ],
   "source": [
    "%%sql\n",
    "SELECT COUNT(DISTINCT customer_id) FROM receipt"
   ]
  },
  {
   "cell_type": "markdown",
   "metadata": {},
   "source": [
    "---\n",
    "> S-023: レシート明細テーブル（receipt）に対し、店舗コード（store_cd）ごとに売上金額（amount）と売上数量（quantity）を合計せよ。"
   ]
  },
  {
   "cell_type": "code",
   "execution_count": 30,
   "metadata": {},
   "outputs": [
    {
     "name": "stdout",
     "output_type": "stream",
     "text": [
      " * postgresql://padawan:***@db:5432/dsdojo_db\n",
      "10 rows affected.\n"
     ]
    },
    {
     "data": {
      "text/html": [
       "<table>\n",
       "    <thead>\n",
       "        <tr>\n",
       "            <th>store_cd</th>\n",
       "            <th>amount</th>\n",
       "            <th>quantity</th>\n",
       "        </tr>\n",
       "    </thead>\n",
       "    <tbody>\n",
       "        <tr>\n",
       "            <td>S12007</td>\n",
       "            <td>638761</td>\n",
       "            <td>2099</td>\n",
       "        </tr>\n",
       "        <tr>\n",
       "            <td>S13017</td>\n",
       "            <td>748221</td>\n",
       "            <td>2376</td>\n",
       "        </tr>\n",
       "        <tr>\n",
       "            <td>S13043</td>\n",
       "            <td>587895</td>\n",
       "            <td>1881</td>\n",
       "        </tr>\n",
       "        <tr>\n",
       "            <td>S13052</td>\n",
       "            <td>100314</td>\n",
       "            <td>250</td>\n",
       "        </tr>\n",
       "        <tr>\n",
       "            <td>S13016</td>\n",
       "            <td>793773</td>\n",
       "            <td>2432</td>\n",
       "        </tr>\n",
       "        <tr>\n",
       "            <td>S14027</td>\n",
       "            <td>714550</td>\n",
       "            <td>2303</td>\n",
       "        </tr>\n",
       "        <tr>\n",
       "            <td>S13009</td>\n",
       "            <td>808870</td>\n",
       "            <td>2486</td>\n",
       "        </tr>\n",
       "        <tr>\n",
       "            <td>S14022</td>\n",
       "            <td>651328</td>\n",
       "            <td>2047</td>\n",
       "        </tr>\n",
       "        <tr>\n",
       "            <td>S13019</td>\n",
       "            <td>827833</td>\n",
       "            <td>2541</td>\n",
       "        </tr>\n",
       "        <tr>\n",
       "            <td>S13039</td>\n",
       "            <td>611888</td>\n",
       "            <td>1981</td>\n",
       "        </tr>\n",
       "    </tbody>\n",
       "</table>"
      ],
      "text/plain": [
       "[('S12007', 638761, 2099),\n",
       " ('S13017', 748221, 2376),\n",
       " ('S13043', 587895, 1881),\n",
       " ('S13052', 100314, 250),\n",
       " ('S13016', 793773, 2432),\n",
       " ('S14027', 714550, 2303),\n",
       " ('S13009', 808870, 2486),\n",
       " ('S14022', 651328, 2047),\n",
       " ('S13019', 827833, 2541),\n",
       " ('S13039', 611888, 1981)]"
      ]
     },
     "execution_count": 30,
     "metadata": {},
     "output_type": "execute_result"
    }
   ],
   "source": [
    "%%sql\n",
    "SELECT store_cd,SUM(amount) AS amount,SUM(quantity) AS quantity\n",
    "FROM receipt\n",
    "GROUP BY store_cd\n",
    "LIMIT 10"
   ]
  },
  {
   "cell_type": "markdown",
   "metadata": {},
   "source": [
    "---\n",
    "> S-024: レシート明細テーブル（receipt）に対し、顧客ID（customer_id）ごとに最も新しい売上日（sales_ymd）を求め、10件表示せよ。"
   ]
  },
  {
   "cell_type": "code",
   "execution_count": 37,
   "metadata": {},
   "outputs": [
    {
     "name": "stdout",
     "output_type": "stream",
     "text": [
      " * postgresql://padawan:***@db:5432/dsdojo_db\n",
      "10 rows affected.\n"
     ]
    },
    {
     "data": {
      "text/html": [
       "<table>\n",
       "    <thead>\n",
       "        <tr>\n",
       "            <th>customer_id</th>\n",
       "            <th>newest_ymd</th>\n",
       "        </tr>\n",
       "    </thead>\n",
       "    <tbody>\n",
       "        <tr>\n",
       "            <td>CS001311000059</td>\n",
       "            <td>20180211</td>\n",
       "        </tr>\n",
       "        <tr>\n",
       "            <td>CS004614000122</td>\n",
       "            <td>20181228</td>\n",
       "        </tr>\n",
       "        <tr>\n",
       "            <td>CS003512000043</td>\n",
       "            <td>20180106</td>\n",
       "        </tr>\n",
       "        <tr>\n",
       "            <td>CS011615000061</td>\n",
       "            <td>20190503</td>\n",
       "        </tr>\n",
       "        <tr>\n",
       "            <td>CS029212000033</td>\n",
       "            <td>20180621</td>\n",
       "        </tr>\n",
       "        <tr>\n",
       "            <td>CS007515000119</td>\n",
       "            <td>20190511</td>\n",
       "        </tr>\n",
       "        <tr>\n",
       "            <td>CS034515000123</td>\n",
       "            <td>20190708</td>\n",
       "        </tr>\n",
       "        <tr>\n",
       "            <td>CS004315000058</td>\n",
       "            <td>20170517</td>\n",
       "        </tr>\n",
       "        <tr>\n",
       "            <td>CS026414000014</td>\n",
       "            <td>20190720</td>\n",
       "        </tr>\n",
       "        <tr>\n",
       "            <td>CS001615000099</td>\n",
       "            <td>20170729</td>\n",
       "        </tr>\n",
       "    </tbody>\n",
       "</table>"
      ],
      "text/plain": [
       "[('CS001311000059', 20180211),\n",
       " ('CS004614000122', 20181228),\n",
       " ('CS003512000043', 20180106),\n",
       " ('CS011615000061', 20190503),\n",
       " ('CS029212000033', 20180621),\n",
       " ('CS007515000119', 20190511),\n",
       " ('CS034515000123', 20190708),\n",
       " ('CS004315000058', 20170517),\n",
       " ('CS026414000014', 20190720),\n",
       " ('CS001615000099', 20170729)]"
      ]
     },
     "execution_count": 37,
     "metadata": {},
     "output_type": "execute_result"
    }
   ],
   "source": [
    "%%sql\n",
    "SELECT customer_id,MAX(sales_ymd) AS newest_ymd\n",
    "FROM receipt \n",
    "GROUP BY customer_id\n",
    "LIMIT 10"
   ]
  },
  {
   "cell_type": "markdown",
   "metadata": {},
   "source": [
    "---\n",
    "> S-025: レシート明細テーブル（receipt）に対し、顧客ID（customer_id）ごとに最も古い売上日（sales_ymd）を求め、10件表示せよ。"
   ]
  },
  {
   "cell_type": "code",
   "execution_count": 36,
   "metadata": {},
   "outputs": [
    {
     "name": "stdout",
     "output_type": "stream",
     "text": [
      " * postgresql://padawan:***@db:5432/dsdojo_db\n",
      "10 rows affected.\n"
     ]
    },
    {
     "data": {
      "text/html": [
       "<table>\n",
       "    <thead>\n",
       "        <tr>\n",
       "            <th>customer_id</th>\n",
       "            <th>oldest_ymd</th>\n",
       "        </tr>\n",
       "    </thead>\n",
       "    <tbody>\n",
       "        <tr>\n",
       "            <td>CS001311000059</td>\n",
       "            <td>20180211</td>\n",
       "        </tr>\n",
       "        <tr>\n",
       "            <td>CS004614000122</td>\n",
       "            <td>20181228</td>\n",
       "        </tr>\n",
       "        <tr>\n",
       "            <td>CS003512000043</td>\n",
       "            <td>20180106</td>\n",
       "        </tr>\n",
       "        <tr>\n",
       "            <td>CS011615000061</td>\n",
       "            <td>20190503</td>\n",
       "        </tr>\n",
       "        <tr>\n",
       "            <td>CS029212000033</td>\n",
       "            <td>20170318</td>\n",
       "        </tr>\n",
       "        <tr>\n",
       "            <td>CS007515000119</td>\n",
       "            <td>20170201</td>\n",
       "        </tr>\n",
       "        <tr>\n",
       "            <td>CS034515000123</td>\n",
       "            <td>20170527</td>\n",
       "        </tr>\n",
       "        <tr>\n",
       "            <td>CS004315000058</td>\n",
       "            <td>20170517</td>\n",
       "        </tr>\n",
       "        <tr>\n",
       "            <td>CS026414000014</td>\n",
       "            <td>20170718</td>\n",
       "        </tr>\n",
       "        <tr>\n",
       "            <td>CS001615000099</td>\n",
       "            <td>20170729</td>\n",
       "        </tr>\n",
       "    </tbody>\n",
       "</table>"
      ],
      "text/plain": [
       "[('CS001311000059', 20180211),\n",
       " ('CS004614000122', 20181228),\n",
       " ('CS003512000043', 20180106),\n",
       " ('CS011615000061', 20190503),\n",
       " ('CS029212000033', 20170318),\n",
       " ('CS007515000119', 20170201),\n",
       " ('CS034515000123', 20170527),\n",
       " ('CS004315000058', 20170517),\n",
       " ('CS026414000014', 20170718),\n",
       " ('CS001615000099', 20170729)]"
      ]
     },
     "execution_count": 36,
     "metadata": {},
     "output_type": "execute_result"
    }
   ],
   "source": [
    "%%sql\n",
    "SELECT customer_id,MIN(sales_ymd) AS oldest_ymd\n",
    "FROM receipt\n",
    "GROUP BY customer_id\n",
    "LIMIT 10"
   ]
  },
  {
   "cell_type": "markdown",
   "metadata": {},
   "source": [
    "---\n",
    "> S-026: レシート明細テーブル（receipt）に対し、顧客ID（customer_id）ごとに最も新しい売上日（sales_ymd）と古い売上日を求め、両者が異なるデータを10件表示せよ。"
   ]
  },
  {
   "cell_type": "code",
   "execution_count": 40,
   "metadata": {},
   "outputs": [
    {
     "name": "stdout",
     "output_type": "stream",
     "text": [
      " * postgresql://padawan:***@db:5432/dsdojo_db\n",
      "10 rows affected.\n"
     ]
    },
    {
     "data": {
      "text/html": [
       "<table>\n",
       "    <thead>\n",
       "        <tr>\n",
       "            <th>customer_id</th>\n",
       "            <th>oldest_ymd</th>\n",
       "            <th>newest_ymd</th>\n",
       "        </tr>\n",
       "    </thead>\n",
       "    <tbody>\n",
       "        <tr>\n",
       "            <td>CS029212000033</td>\n",
       "            <td>20170318</td>\n",
       "            <td>20180621</td>\n",
       "        </tr>\n",
       "        <tr>\n",
       "            <td>CS007515000119</td>\n",
       "            <td>20170201</td>\n",
       "            <td>20190511</td>\n",
       "        </tr>\n",
       "        <tr>\n",
       "            <td>CS034515000123</td>\n",
       "            <td>20170527</td>\n",
       "            <td>20190708</td>\n",
       "        </tr>\n",
       "        <tr>\n",
       "            <td>CS026414000014</td>\n",
       "            <td>20170718</td>\n",
       "            <td>20190720</td>\n",
       "        </tr>\n",
       "        <tr>\n",
       "            <td>CS010515000082</td>\n",
       "            <td>20180518</td>\n",
       "            <td>20181204</td>\n",
       "        </tr>\n",
       "        <tr>\n",
       "            <td>CS019315000045</td>\n",
       "            <td>20170423</td>\n",
       "            <td>20170920</td>\n",
       "        </tr>\n",
       "        <tr>\n",
       "            <td>CS008513000099</td>\n",
       "            <td>20170722</td>\n",
       "            <td>20190308</td>\n",
       "        </tr>\n",
       "        <tr>\n",
       "            <td>CS007615000070</td>\n",
       "            <td>20170929</td>\n",
       "            <td>20191025</td>\n",
       "        </tr>\n",
       "        <tr>\n",
       "            <td>CS025415000155</td>\n",
       "            <td>20170314</td>\n",
       "            <td>20191026</td>\n",
       "        </tr>\n",
       "        <tr>\n",
       "            <td>CS016414000063</td>\n",
       "            <td>20170109</td>\n",
       "            <td>20190617</td>\n",
       "        </tr>\n",
       "    </tbody>\n",
       "</table>"
      ],
      "text/plain": [
       "[('CS029212000033', 20170318, 20180621),\n",
       " ('CS007515000119', 20170201, 20190511),\n",
       " ('CS034515000123', 20170527, 20190708),\n",
       " ('CS026414000014', 20170718, 20190720),\n",
       " ('CS010515000082', 20180518, 20181204),\n",
       " ('CS019315000045', 20170423, 20170920),\n",
       " ('CS008513000099', 20170722, 20190308),\n",
       " ('CS007615000070', 20170929, 20191025),\n",
       " ('CS025415000155', 20170314, 20191026),\n",
       " ('CS016414000063', 20170109, 20190617)]"
      ]
     },
     "execution_count": 40,
     "metadata": {},
     "output_type": "execute_result"
    }
   ],
   "source": [
    "%%sql\n",
    "SELECT customer_id, MIN(sales_ymd) AS oldest_ymd, MAX(sales_ymd) AS newest_ymd\n",
    "FROM receipt\n",
    "GROUP BY customer_id\n",
    "HAVING MIN(sales_ymd)!=MAX(sales_ymd)\n",
    "LIMIT 10"
   ]
  },
  {
   "cell_type": "markdown",
   "metadata": {},
   "source": [
    "---\n",
    "> S-027: レシート明細テーブル（receipt）に対し、店舗コード（store_cd）ごとに売上金額（amount）の平均を計算し、降順でTOP5を表示せよ。"
   ]
  },
  {
   "cell_type": "code",
   "execution_count": 44,
   "metadata": {},
   "outputs": [
    {
     "name": "stdout",
     "output_type": "stream",
     "text": [
      " * postgresql://padawan:***@db:5432/dsdojo_db\n",
      "5 rows affected.\n"
     ]
    },
    {
     "data": {
      "text/html": [
       "<table>\n",
       "    <thead>\n",
       "        <tr>\n",
       "            <th>store_cd</th>\n",
       "            <th>avg_amount</th>\n",
       "        </tr>\n",
       "    </thead>\n",
       "    <tbody>\n",
       "        <tr>\n",
       "            <td>S13052</td>\n",
       "            <td>402.8674698795180723</td>\n",
       "        </tr>\n",
       "        <tr>\n",
       "            <td>S13015</td>\n",
       "            <td>351.1119604316546763</td>\n",
       "        </tr>\n",
       "        <tr>\n",
       "            <td>S13003</td>\n",
       "            <td>350.9155188246097337</td>\n",
       "        </tr>\n",
       "        <tr>\n",
       "            <td>S14010</td>\n",
       "            <td>348.7912621359223301</td>\n",
       "        </tr>\n",
       "        <tr>\n",
       "            <td>S13001</td>\n",
       "            <td>348.4703862660944206</td>\n",
       "        </tr>\n",
       "    </tbody>\n",
       "</table>"
      ],
      "text/plain": [
       "[('S13052', Decimal('402.8674698795180723')),\n",
       " ('S13015', Decimal('351.1119604316546763')),\n",
       " ('S13003', Decimal('350.9155188246097337')),\n",
       " ('S14010', Decimal('348.7912621359223301')),\n",
       " ('S13001', Decimal('348.4703862660944206'))]"
      ]
     },
     "execution_count": 44,
     "metadata": {},
     "output_type": "execute_result"
    }
   ],
   "source": [
    "%%sql\n",
    "SELECT store_cd,AVG(amount) AS avg_amount\n",
    "FROM receipt\n",
    "GROUP BY store_cd\n",
    "ORDER BY AVG(amount) DESC\n",
    "LIMIT 5"
   ]
  },
  {
   "cell_type": "markdown",
   "metadata": {},
   "source": [
    "---\n",
    "> S-028: レシート明細テーブル（receipt）に対し、店舗コード（store_cd）ごとに売上金額（amount）の中央値を計算し、降順でTOP5を表示せよ。"
   ]
  },
  {
   "cell_type": "markdown",
   "metadata": {},
   "source": [
    "# PERCENTILE_CONT"
   ]
  },
  {
   "cell_type": "code",
   "execution_count": 46,
   "metadata": {},
   "outputs": [
    {
     "name": "stdout",
     "output_type": "stream",
     "text": [
      " * postgresql://padawan:***@db:5432/dsdojo_db\n",
      "5 rows affected.\n"
     ]
    },
    {
     "data": {
      "text/html": [
       "<table>\n",
       "    <thead>\n",
       "        <tr>\n",
       "            <th>store_cd</th>\n",
       "            <th>middle_value</th>\n",
       "        </tr>\n",
       "    </thead>\n",
       "    <tbody>\n",
       "        <tr>\n",
       "            <td>S13052</td>\n",
       "            <td>190.0</td>\n",
       "        </tr>\n",
       "        <tr>\n",
       "            <td>S14010</td>\n",
       "            <td>188.0</td>\n",
       "        </tr>\n",
       "        <tr>\n",
       "            <td>S14050</td>\n",
       "            <td>185.0</td>\n",
       "        </tr>\n",
       "        <tr>\n",
       "            <td>S13003</td>\n",
       "            <td>180.0</td>\n",
       "        </tr>\n",
       "        <tr>\n",
       "            <td>S13018</td>\n",
       "            <td>180.0</td>\n",
       "        </tr>\n",
       "    </tbody>\n",
       "</table>"
      ],
      "text/plain": [
       "[('S13052', 190.0),\n",
       " ('S14010', 188.0),\n",
       " ('S14050', 185.0),\n",
       " ('S13003', 180.0),\n",
       " ('S13018', 180.0)]"
      ]
     },
     "execution_count": 46,
     "metadata": {},
     "output_type": "execute_result"
    }
   ],
   "source": [
    "%%sql\n",
    "SELECT \n",
    "    store_cd,\n",
    "    PERCENTILE_CONT(0.5) WITHIN GROUP (ORDER BY amount) AS middle_value\n",
    "FROM receipt\n",
    "GROUP BY store_cd\n",
    "ORDER BY middle_value DESC\n",
    "LIMIT 5"
   ]
  },
  {
   "cell_type": "markdown",
   "metadata": {},
   "source": [
    "---\n",
    "> S-029: レシート明細テーブル（receipt）に対し、店舗コード（store_cd）ごとに商品コード（product_cd）の最頻値を求めよ。"
   ]
  },
  {
   "cell_type": "markdown",
   "metadata": {},
   "source": [
    "# WITH句"
   ]
  },
  {
   "cell_type": "code",
   "execution_count": 52,
   "metadata": {},
   "outputs": [
    {
     "name": "stdout",
     "output_type": "stream",
     "text": [
      " * postgresql://padawan:***@db:5432/dsdojo_db\n",
      "10 rows affected.\n"
     ]
    },
    {
     "data": {
      "text/html": [
       "<table>\n",
       "    <thead>\n",
       "        <tr>\n",
       "            <th>store_cd</th>\n",
       "            <th>product_cd</th>\n",
       "            <th>mode_val</th>\n",
       "        </tr>\n",
       "    </thead>\n",
       "    <tbody>\n",
       "        <tr>\n",
       "            <td>S12007</td>\n",
       "            <td>P060303001</td>\n",
       "            <td>72</td>\n",
       "        </tr>\n",
       "        <tr>\n",
       "            <td>S12013</td>\n",
       "            <td>P060303001</td>\n",
       "            <td>107</td>\n",
       "        </tr>\n",
       "        <tr>\n",
       "            <td>S12014</td>\n",
       "            <td>P060303001</td>\n",
       "            <td>65</td>\n",
       "        </tr>\n",
       "        <tr>\n",
       "            <td>S12029</td>\n",
       "            <td>P060303001</td>\n",
       "            <td>92</td>\n",
       "        </tr>\n",
       "        <tr>\n",
       "            <td>S12030</td>\n",
       "            <td>P060303001</td>\n",
       "            <td>115</td>\n",
       "        </tr>\n",
       "        <tr>\n",
       "            <td>S13001</td>\n",
       "            <td>P060303001</td>\n",
       "            <td>67</td>\n",
       "        </tr>\n",
       "        <tr>\n",
       "            <td>S13002</td>\n",
       "            <td>P060303001</td>\n",
       "            <td>78</td>\n",
       "        </tr>\n",
       "        <tr>\n",
       "            <td>S13003</td>\n",
       "            <td>P071401001</td>\n",
       "            <td>65</td>\n",
       "        </tr>\n",
       "        <tr>\n",
       "            <td>S13004</td>\n",
       "            <td>P060303001</td>\n",
       "            <td>88</td>\n",
       "        </tr>\n",
       "        <tr>\n",
       "            <td>S13005</td>\n",
       "            <td>P040503001</td>\n",
       "            <td>36</td>\n",
       "        </tr>\n",
       "    </tbody>\n",
       "</table>"
      ],
      "text/plain": [
       "[('S12007', 'P060303001', 72),\n",
       " ('S12013', 'P060303001', 107),\n",
       " ('S12014', 'P060303001', 65),\n",
       " ('S12029', 'P060303001', 92),\n",
       " ('S12030', 'P060303001', 115),\n",
       " ('S13001', 'P060303001', 67),\n",
       " ('S13002', 'P060303001', 78),\n",
       " ('S13003', 'P071401001', 65),\n",
       " ('S13004', 'P060303001', 88),\n",
       " ('S13005', 'P040503001', 36)]"
      ]
     },
     "execution_count": 52,
     "metadata": {},
     "output_type": "execute_result"
    }
   ],
   "source": [
    "%%sql\n",
    "WITH modes AS (    \n",
    "    SELECT\n",
    "        store_cd,product_cd,\n",
    "        COUNT(1) AS mode_val,\n",
    "        RANK() OVER(PARTITION BY store_cd ORDER BY COUNT(1) DESC) AS rank\n",
    "    FROM receipt\n",
    "    GROUP BY store_cd,product_cd\n",
    ")\n",
    "SELECT store_cd,product_cd,mode_val\n",
    "FROM modes\n",
    "WHERE rank=1\n",
    "LIMIT 10"
   ]
  },
  {
   "cell_type": "markdown",
   "metadata": {},
   "source": [
    "---\n",
    "> S-030: レシート明細テーブル（receipt）に対し、店舗コード（store_cd）ごとに売上金額（amount）の標本分散を計算し、降順でTOP5を表示せよ。"
   ]
  },
  {
   "cell_type": "markdown",
   "metadata": {},
   "source": [
    "# VAR_POP, STDDEV_POP, PERCENTILE_CONT"
   ]
  },
  {
   "cell_type": "code",
   "execution_count": 55,
   "metadata": {},
   "outputs": [
    {
     "name": "stdout",
     "output_type": "stream",
     "text": [
      " * postgresql://padawan:***@db:5432/dsdojo_db\n",
      "5 rows affected.\n"
     ]
    },
    {
     "data": {
      "text/html": [
       "<table>\n",
       "    <thead>\n",
       "        <tr>\n",
       "            <th>store_cd</th>\n",
       "            <th>var_amount</th>\n",
       "        </tr>\n",
       "    </thead>\n",
       "    <tbody>\n",
       "        <tr>\n",
       "            <td>S13052</td>\n",
       "            <td>440088.701311269173</td>\n",
       "        </tr>\n",
       "        <tr>\n",
       "            <td>S14011</td>\n",
       "            <td>306314.558163888889</td>\n",
       "        </tr>\n",
       "        <tr>\n",
       "            <td>S14034</td>\n",
       "            <td>296920.081011283873</td>\n",
       "        </tr>\n",
       "        <tr>\n",
       "            <td>S13001</td>\n",
       "            <td>295431.993329035348</td>\n",
       "        </tr>\n",
       "        <tr>\n",
       "            <td>S13015</td>\n",
       "            <td>295294.361115940880</td>\n",
       "        </tr>\n",
       "    </tbody>\n",
       "</table>"
      ],
      "text/plain": [
       "[('S13052', Decimal('440088.701311269173')),\n",
       " ('S14011', Decimal('306314.558163888889')),\n",
       " ('S14034', Decimal('296920.081011283873')),\n",
       " ('S13001', Decimal('295431.993329035348')),\n",
       " ('S13015', Decimal('295294.361115940880'))]"
      ]
     },
     "execution_count": 55,
     "metadata": {},
     "output_type": "execute_result"
    }
   ],
   "source": [
    "%%sql\n",
    "SELECT \n",
    "    store_cd,\n",
    "    VAR_POP(amount) AS var_amount\n",
    "FROM receipt\n",
    "GROUP BY store_cd\n",
    "ORDER BY var_amount DESC\n",
    "LIMIT 5"
   ]
  },
  {
   "cell_type": "markdown",
   "metadata": {},
   "source": [
    "---\n",
    "> S-031: レシート明細テーブル（receipt）に対し、店舗コード（store_cd）ごとに売上金額（amount）の標本標準偏差を計算し、降順でTOP5を表示せよ。"
   ]
  },
  {
   "cell_type": "code",
   "execution_count": 56,
   "metadata": {},
   "outputs": [
    {
     "name": "stdout",
     "output_type": "stream",
     "text": [
      " * postgresql://padawan:***@db:5432/dsdojo_db\n",
      "5 rows affected.\n"
     ]
    },
    {
     "data": {
      "text/html": [
       "<table>\n",
       "    <thead>\n",
       "        <tr>\n",
       "            <th>store_cd</th>\n",
       "            <th>std_amount</th>\n",
       "        </tr>\n",
       "    </thead>\n",
       "    <tbody>\n",
       "        <tr>\n",
       "            <td>S13052</td>\n",
       "            <td>663.391815830787</td>\n",
       "        </tr>\n",
       "        <tr>\n",
       "            <td>S14011</td>\n",
       "            <td>553.456916267101</td>\n",
       "        </tr>\n",
       "        <tr>\n",
       "            <td>S14034</td>\n",
       "            <td>544.903735545357</td>\n",
       "        </tr>\n",
       "        <tr>\n",
       "            <td>S13001</td>\n",
       "            <td>543.536561170484</td>\n",
       "        </tr>\n",
       "        <tr>\n",
       "            <td>S13015</td>\n",
       "            <td>543.409938366921</td>\n",
       "        </tr>\n",
       "    </tbody>\n",
       "</table>"
      ],
      "text/plain": [
       "[('S13052', Decimal('663.391815830787')),\n",
       " ('S14011', Decimal('553.456916267101')),\n",
       " ('S14034', Decimal('544.903735545357')),\n",
       " ('S13001', Decimal('543.536561170484')),\n",
       " ('S13015', Decimal('543.409938366921'))]"
      ]
     },
     "execution_count": 56,
     "metadata": {},
     "output_type": "execute_result"
    }
   ],
   "source": [
    "%%sql\n",
    "SELECT \n",
    "    store_cd,\n",
    "    STDDEV_POP(amount) AS std_amount\n",
    "FROM receipt\n",
    "GROUP BY store_cd\n",
    "ORDER BY std_amount DESC\n",
    "LIMIT 5"
   ]
  },
  {
   "cell_type": "markdown",
   "metadata": {},
   "source": [
    "---\n",
    "> S-032: レシート明細テーブル（receipt）の売上金額（amount）について、25％刻みでパーセンタイル値を求めよ。"
   ]
  },
  {
   "cell_type": "code",
   "execution_count": 57,
   "metadata": {},
   "outputs": [
    {
     "name": "stdout",
     "output_type": "stream",
     "text": [
      " * postgresql://padawan:***@db:5432/dsdojo_db\n",
      "1 rows affected.\n"
     ]
    },
    {
     "data": {
      "text/html": [
       "<table>\n",
       "    <thead>\n",
       "        <tr>\n",
       "            <th>amount_25per</th>\n",
       "            <th>amount_50per</th>\n",
       "            <th>amount_75per</th>\n",
       "            <th>amount_100per</th>\n",
       "        </tr>\n",
       "    </thead>\n",
       "    <tbody>\n",
       "        <tr>\n",
       "            <td>102.0</td>\n",
       "            <td>170.0</td>\n",
       "            <td>288.0</td>\n",
       "            <td>10925.0</td>\n",
       "        </tr>\n",
       "    </tbody>\n",
       "</table>"
      ],
      "text/plain": [
       "[(102.0, 170.0, 288.0, 10925.0)]"
      ]
     },
     "execution_count": 57,
     "metadata": {},
     "output_type": "execute_result"
    }
   ],
   "source": [
    "%%sql\n",
    "SELECT \n",
    "    PERCENTILE_CONT(0.25) WITHIN GROUP (ORDER BY amount) AS amount_25per,\n",
    "    PERCENTILE_CONT(0.5) WITHIN GROUP (ORDER BY amount) AS amount_50per,\n",
    "    PERCENTILE_CONT(0.75) WITHIN GROUP (ORDER BY amount) AS amount_75per,\n",
    "    PERCENTILE_CONT(1) WITHIN GROUP (ORDER BY amount) AS amount_100per\n",
    "FROM receipt"
   ]
  },
  {
   "cell_type": "markdown",
   "metadata": {},
   "source": [
    "---\n",
    "> S-033: レシート明細テーブル（receipt）に対し、店舗コード（store_cd）ごとに売上金額（amount）の平均を計算し、330以上のものを抽出せよ。"
   ]
  },
  {
   "cell_type": "code",
   "execution_count": 59,
   "metadata": {},
   "outputs": [
    {
     "name": "stdout",
     "output_type": "stream",
     "text": [
      " * postgresql://padawan:***@db:5432/dsdojo_db\n",
      "13 rows affected.\n"
     ]
    },
    {
     "data": {
      "text/html": [
       "<table>\n",
       "    <thead>\n",
       "        <tr>\n",
       "            <th>store_cd</th>\n",
       "            <th>avg_amount</th>\n",
       "        </tr>\n",
       "    </thead>\n",
       "    <tbody>\n",
       "        <tr>\n",
       "            <td>S13052</td>\n",
       "            <td>402.8674698795180723</td>\n",
       "        </tr>\n",
       "        <tr>\n",
       "            <td>S13019</td>\n",
       "            <td>330.2086158755484643</td>\n",
       "        </tr>\n",
       "        <tr>\n",
       "            <td>S13003</td>\n",
       "            <td>350.9155188246097337</td>\n",
       "        </tr>\n",
       "        <tr>\n",
       "            <td>S14045</td>\n",
       "            <td>330.0820734341252700</td>\n",
       "        </tr>\n",
       "        <tr>\n",
       "            <td>S13004</td>\n",
       "            <td>330.9439490445859873</td>\n",
       "        </tr>\n",
       "        <tr>\n",
       "            <td>S13001</td>\n",
       "            <td>348.4703862660944206</td>\n",
       "        </tr>\n",
       "        <tr>\n",
       "            <td>S14026</td>\n",
       "            <td>332.3405884723901653</td>\n",
       "        </tr>\n",
       "        <tr>\n",
       "            <td>S14010</td>\n",
       "            <td>348.7912621359223301</td>\n",
       "        </tr>\n",
       "        <tr>\n",
       "            <td>S13015</td>\n",
       "            <td>351.1119604316546763</td>\n",
       "        </tr>\n",
       "        <tr>\n",
       "            <td>S12013</td>\n",
       "            <td>330.1941299790356394</td>\n",
       "        </tr>\n",
       "        <tr>\n",
       "            <td>S14047</td>\n",
       "            <td>330.0770731707317073</td>\n",
       "        </tr>\n",
       "        <tr>\n",
       "            <td>S14011</td>\n",
       "            <td>335.7183333333333333</td>\n",
       "        </tr>\n",
       "        <tr>\n",
       "            <td>S13020</td>\n",
       "            <td>337.8799321170980059</td>\n",
       "        </tr>\n",
       "    </tbody>\n",
       "</table>"
      ],
      "text/plain": [
       "[('S13052', Decimal('402.8674698795180723')),\n",
       " ('S13019', Decimal('330.2086158755484643')),\n",
       " ('S13003', Decimal('350.9155188246097337')),\n",
       " ('S14045', Decimal('330.0820734341252700')),\n",
       " ('S13004', Decimal('330.9439490445859873')),\n",
       " ('S13001', Decimal('348.4703862660944206')),\n",
       " ('S14026', Decimal('332.3405884723901653')),\n",
       " ('S14010', Decimal('348.7912621359223301')),\n",
       " ('S13015', Decimal('351.1119604316546763')),\n",
       " ('S12013', Decimal('330.1941299790356394')),\n",
       " ('S14047', Decimal('330.0770731707317073')),\n",
       " ('S14011', Decimal('335.7183333333333333')),\n",
       " ('S13020', Decimal('337.8799321170980059'))]"
      ]
     },
     "execution_count": 59,
     "metadata": {},
     "output_type": "execute_result"
    }
   ],
   "source": [
    "%%sql\n",
    "SELECT store_cd,AVG(amount) AS avg_amount\n",
    "FROM receipt\n",
    "GROUP BY store_cd\n",
    "HAVING AVG(amount)>=330"
   ]
  },
  {
   "cell_type": "markdown",
   "metadata": {},
   "source": [
    "---\n",
    "> S-034: レシート明細テーブル（receipt）に対し、顧客ID（customer_id）ごとに売上金額（amount）を合計して全顧客の平均を求めよ。ただし、顧客IDが\"Z\"から始まるのものは非会員を表すため、除外して計算すること。"
   ]
  },
  {
   "cell_type": "code",
   "execution_count": 62,
   "metadata": {},
   "outputs": [
    {
     "name": "stdout",
     "output_type": "stream",
     "text": [
      " * postgresql://padawan:***@db:5432/dsdojo_db\n",
      "1 rows affected.\n"
     ]
    },
    {
     "data": {
      "text/html": [
       "<table>\n",
       "    <thead>\n",
       "        <tr>\n",
       "            <th>avg_customer_amount</th>\n",
       "        </tr>\n",
       "    </thead>\n",
       "    <tbody>\n",
       "        <tr>\n",
       "            <td>2547.7422345292559595</td>\n",
       "        </tr>\n",
       "    </tbody>\n",
       "</table>"
      ],
      "text/plain": [
       "[(Decimal('2547.7422345292559595'),)]"
      ]
     },
     "execution_count": 62,
     "metadata": {},
     "output_type": "execute_result"
    }
   ],
   "source": [
    "%%sql\n",
    "WITH sum_per_customer AS (\n",
    "    SELECT customer_id,SUM(amount) AS sum_amount\n",
    "    FROM receipt\n",
    "    WHERE customer_id NOT LIKE 'Z%'\n",
    "    GROUP BY customer_id\n",
    ")\n",
    "SELECT AVG(sum_amount) AS avg_customer_amount\n",
    "FROM sum_per_customer"
   ]
  },
  {
   "cell_type": "markdown",
   "metadata": {},
   "source": [
    "---\n",
    "> S-035: レシート明細テーブル（receipt）に対し、顧客ID（customer_id）ごとに売上金額（amount）を合計して全顧客の平均を求め、平均以上に買い物をしている顧客を抽出せよ。ただし、顧客IDが\"Z\"から始まるのものは非会員を表すため、除外して計算すること。なお、データは10件だけ表示させれば良い。"
   ]
  },
  {
   "cell_type": "code",
   "execution_count": 68,
   "metadata": {},
   "outputs": [
    {
     "name": "stdout",
     "output_type": "stream",
     "text": [
      " * postgresql://padawan:***@db:5432/dsdojo_db\n",
      "10 rows affected.\n"
     ]
    },
    {
     "data": {
      "text/html": [
       "<table>\n",
       "    <thead>\n",
       "        <tr>\n",
       "            <th>customer_id</th>\n",
       "            <th>sum_amount</th>\n",
       "        </tr>\n",
       "    </thead>\n",
       "    <tbody>\n",
       "        <tr>\n",
       "            <td>CS029212000033</td>\n",
       "            <td>3604</td>\n",
       "        </tr>\n",
       "        <tr>\n",
       "            <td>CS007515000119</td>\n",
       "            <td>7157</td>\n",
       "        </tr>\n",
       "        <tr>\n",
       "            <td>CS034515000123</td>\n",
       "            <td>3699</td>\n",
       "        </tr>\n",
       "        <tr>\n",
       "            <td>CS026414000014</td>\n",
       "            <td>6671</td>\n",
       "        </tr>\n",
       "        <tr>\n",
       "            <td>CS007615000070</td>\n",
       "            <td>2975</td>\n",
       "        </tr>\n",
       "        <tr>\n",
       "            <td>CS016414000063</td>\n",
       "            <td>6207</td>\n",
       "        </tr>\n",
       "        <tr>\n",
       "            <td>CS012514000018</td>\n",
       "            <td>2562</td>\n",
       "        </tr>\n",
       "        <tr>\n",
       "            <td>CS029515000142</td>\n",
       "            <td>3420</td>\n",
       "        </tr>\n",
       "        <tr>\n",
       "            <td>CS015215000021</td>\n",
       "            <td>3090</td>\n",
       "        </tr>\n",
       "        <tr>\n",
       "            <td>CS039814000011</td>\n",
       "            <td>8031</td>\n",
       "        </tr>\n",
       "    </tbody>\n",
       "</table>"
      ],
      "text/plain": [
       "[('CS029212000033', 3604),\n",
       " ('CS007515000119', 7157),\n",
       " ('CS034515000123', 3699),\n",
       " ('CS026414000014', 6671),\n",
       " ('CS007615000070', 2975),\n",
       " ('CS016414000063', 6207),\n",
       " ('CS012514000018', 2562),\n",
       " ('CS029515000142', 3420),\n",
       " ('CS015215000021', 3090),\n",
       " ('CS039814000011', 8031)]"
      ]
     },
     "execution_count": 68,
     "metadata": {},
     "output_type": "execute_result"
    }
   ],
   "source": [
    "%%sql\n",
    "WITH sum_per_customer AS (\n",
    "    SELECT customer_id,SUM(amount) AS sum_amount\n",
    "    FROM receipt\n",
    "    WHERE customer_id NOT LIKE 'Z%'\n",
    "    GROUP BY customer_id\n",
    ")\n",
    "SELECT customer_id,sum_amount\n",
    "FROM sum_per_customer\n",
    "WHERE sum_amount>=(SELECT AVG(sum_amount) FROM sum_per_customer)\n",
    "LIMIT 10"
   ]
  },
  {
   "cell_type": "markdown",
   "metadata": {},
   "source": [
    "# JOIN"
   ]
  },
  {
   "cell_type": "markdown",
   "metadata": {},
   "source": [
    "---\n",
    "> S-036: レシート明細テーブル（receipt）と店舗テーブル（store）を内部結合し、レシート明細テーブルの全項目と店舗テーブルの店舗名（store_name）を10件表示させよ。"
   ]
  },
  {
   "cell_type": "code",
   "execution_count": 78,
   "metadata": {},
   "outputs": [
    {
     "name": "stdout",
     "output_type": "stream",
     "text": [
      " * postgresql://padawan:***@db:5432/dsdojo_db\n",
      "10 rows affected.\n"
     ]
    },
    {
     "data": {
      "text/html": [
       "<table>\n",
       "    <thead>\n",
       "        <tr>\n",
       "            <th>sales_ymd</th>\n",
       "            <th>sales_epoch</th>\n",
       "            <th>store_cd</th>\n",
       "            <th>receipt_no</th>\n",
       "            <th>receipt_sub_no</th>\n",
       "            <th>customer_id</th>\n",
       "            <th>product_cd</th>\n",
       "            <th>quantity</th>\n",
       "            <th>amount</th>\n",
       "            <th>store_name</th>\n",
       "        </tr>\n",
       "    </thead>\n",
       "    <tbody>\n",
       "        <tr>\n",
       "            <td>20181103</td>\n",
       "            <td>1541203200</td>\n",
       "            <td>S14006</td>\n",
       "            <td>112</td>\n",
       "            <td>1</td>\n",
       "            <td>CS006214000001</td>\n",
       "            <td>P070305012</td>\n",
       "            <td>1</td>\n",
       "            <td>158</td>\n",
       "            <td>葛が谷店</td>\n",
       "        </tr>\n",
       "        <tr>\n",
       "            <td>20181118</td>\n",
       "            <td>1542499200</td>\n",
       "            <td>S13008</td>\n",
       "            <td>1132</td>\n",
       "            <td>2</td>\n",
       "            <td>CS008415000097</td>\n",
       "            <td>P070701017</td>\n",
       "            <td>1</td>\n",
       "            <td>81</td>\n",
       "            <td>成城店</td>\n",
       "        </tr>\n",
       "        <tr>\n",
       "            <td>20170712</td>\n",
       "            <td>1499817600</td>\n",
       "            <td>S14028</td>\n",
       "            <td>1102</td>\n",
       "            <td>1</td>\n",
       "            <td>CS028414000014</td>\n",
       "            <td>P060101005</td>\n",
       "            <td>1</td>\n",
       "            <td>170</td>\n",
       "            <td>二ツ橋店</td>\n",
       "        </tr>\n",
       "        <tr>\n",
       "            <td>20190205</td>\n",
       "            <td>1549324800</td>\n",
       "            <td>S14042</td>\n",
       "            <td>1132</td>\n",
       "            <td>1</td>\n",
       "            <td>ZZ000000000000</td>\n",
       "            <td>P050301001</td>\n",
       "            <td>1</td>\n",
       "            <td>25</td>\n",
       "            <td>新山下店</td>\n",
       "        </tr>\n",
       "        <tr>\n",
       "            <td>20180821</td>\n",
       "            <td>1534809600</td>\n",
       "            <td>S14025</td>\n",
       "            <td>1102</td>\n",
       "            <td>2</td>\n",
       "            <td>CS025415000050</td>\n",
       "            <td>P060102007</td>\n",
       "            <td>1</td>\n",
       "            <td>90</td>\n",
       "            <td>大和店</td>\n",
       "        </tr>\n",
       "        <tr>\n",
       "            <td>20190605</td>\n",
       "            <td>1559692800</td>\n",
       "            <td>S13003</td>\n",
       "            <td>1112</td>\n",
       "            <td>1</td>\n",
       "            <td>CS003515000195</td>\n",
       "            <td>P050102002</td>\n",
       "            <td>1</td>\n",
       "            <td>138</td>\n",
       "            <td>狛江店</td>\n",
       "        </tr>\n",
       "        <tr>\n",
       "            <td>20181205</td>\n",
       "            <td>1543968000</td>\n",
       "            <td>S14024</td>\n",
       "            <td>1102</td>\n",
       "            <td>2</td>\n",
       "            <td>CS024514000042</td>\n",
       "            <td>P080101005</td>\n",
       "            <td>1</td>\n",
       "            <td>30</td>\n",
       "            <td>三田店</td>\n",
       "        </tr>\n",
       "        <tr>\n",
       "            <td>20190922</td>\n",
       "            <td>1569110400</td>\n",
       "            <td>S14040</td>\n",
       "            <td>1102</td>\n",
       "            <td>1</td>\n",
       "            <td>CS040415000178</td>\n",
       "            <td>P070501004</td>\n",
       "            <td>1</td>\n",
       "            <td>128</td>\n",
       "            <td>長津田店</td>\n",
       "        </tr>\n",
       "        <tr>\n",
       "            <td>20170504</td>\n",
       "            <td>1493856000</td>\n",
       "            <td>S13020</td>\n",
       "            <td>1112</td>\n",
       "            <td>2</td>\n",
       "            <td>ZZ000000000000</td>\n",
       "            <td>P071302010</td>\n",
       "            <td>1</td>\n",
       "            <td>770</td>\n",
       "            <td>十条仲原店</td>\n",
       "        </tr>\n",
       "        <tr>\n",
       "            <td>20191010</td>\n",
       "            <td>1570665600</td>\n",
       "            <td>S14027</td>\n",
       "            <td>1102</td>\n",
       "            <td>1</td>\n",
       "            <td>CS027514000015</td>\n",
       "            <td>P071101003</td>\n",
       "            <td>1</td>\n",
       "            <td>680</td>\n",
       "            <td>南藤沢店</td>\n",
       "        </tr>\n",
       "    </tbody>\n",
       "</table>"
      ],
      "text/plain": [
       "[(20181103, 1541203200, 'S14006', 112, 1, 'CS006214000001', 'P070305012', 1, 158, '葛が谷店'),\n",
       " (20181118, 1542499200, 'S13008', 1132, 2, 'CS008415000097', 'P070701017', 1, 81, '成城店'),\n",
       " (20170712, 1499817600, 'S14028', 1102, 1, 'CS028414000014', 'P060101005', 1, 170, '二ツ橋店'),\n",
       " (20190205, 1549324800, 'S14042', 1132, 1, 'ZZ000000000000', 'P050301001', 1, 25, '新山下店'),\n",
       " (20180821, 1534809600, 'S14025', 1102, 2, 'CS025415000050', 'P060102007', 1, 90, '大和店'),\n",
       " (20190605, 1559692800, 'S13003', 1112, 1, 'CS003515000195', 'P050102002', 1, 138, '狛江店'),\n",
       " (20181205, 1543968000, 'S14024', 1102, 2, 'CS024514000042', 'P080101005', 1, 30, '三田店'),\n",
       " (20190922, 1569110400, 'S14040', 1102, 1, 'CS040415000178', 'P070501004', 1, 128, '長津田店'),\n",
       " (20170504, 1493856000, 'S13020', 1112, 2, 'ZZ000000000000', 'P071302010', 1, 770, '十条仲原店'),\n",
       " (20191010, 1570665600, 'S14027', 1102, 1, 'CS027514000015', 'P071101003', 1, 680, '南藤沢店')]"
      ]
     },
     "execution_count": 78,
     "metadata": {},
     "output_type": "execute_result"
    }
   ],
   "source": [
    "%%sql\n",
    "SELECT receipt.*,store.store_name\n",
    "FROM receipt\n",
    "JOIN store\n",
    "ON receipt.store_cd=store.store_cd\n",
    "LIMIT 10"
   ]
  },
  {
   "cell_type": "markdown",
   "metadata": {},
   "source": [
    "---\n",
    "> S-037: 商品テーブル（product）とカテゴリテーブル（category）を内部結合し、商品テーブルの全項目とカテゴリテーブルの小区分名（category_small_name）を10件表示させよ。"
   ]
  },
  {
   "cell_type": "code",
   "execution_count": 82,
   "metadata": {},
   "outputs": [
    {
     "name": "stdout",
     "output_type": "stream",
     "text": [
      " * postgresql://padawan:***@db:5432/dsdojo_db\n",
      "10 rows affected.\n"
     ]
    },
    {
     "data": {
      "text/html": [
       "<table>\n",
       "    <thead>\n",
       "        <tr>\n",
       "            <th>product_cd</th>\n",
       "            <th>category_major_cd</th>\n",
       "            <th>category_medium_cd</th>\n",
       "            <th>category_small_cd</th>\n",
       "            <th>unit_price</th>\n",
       "            <th>unit_cost</th>\n",
       "            <th>category_small_name</th>\n",
       "        </tr>\n",
       "    </thead>\n",
       "    <tbody>\n",
       "        <tr>\n",
       "            <td>P040101001</td>\n",
       "            <td>04</td>\n",
       "            <td>0401</td>\n",
       "            <td>040101</td>\n",
       "            <td>198</td>\n",
       "            <td>149</td>\n",
       "            <td>弁当類</td>\n",
       "        </tr>\n",
       "        <tr>\n",
       "            <td>P040101002</td>\n",
       "            <td>04</td>\n",
       "            <td>0401</td>\n",
       "            <td>040101</td>\n",
       "            <td>218</td>\n",
       "            <td>164</td>\n",
       "            <td>弁当類</td>\n",
       "        </tr>\n",
       "        <tr>\n",
       "            <td>P040101003</td>\n",
       "            <td>04</td>\n",
       "            <td>0401</td>\n",
       "            <td>040101</td>\n",
       "            <td>230</td>\n",
       "            <td>173</td>\n",
       "            <td>弁当類</td>\n",
       "        </tr>\n",
       "        <tr>\n",
       "            <td>P040101004</td>\n",
       "            <td>04</td>\n",
       "            <td>0401</td>\n",
       "            <td>040101</td>\n",
       "            <td>248</td>\n",
       "            <td>186</td>\n",
       "            <td>弁当類</td>\n",
       "        </tr>\n",
       "        <tr>\n",
       "            <td>P040101005</td>\n",
       "            <td>04</td>\n",
       "            <td>0401</td>\n",
       "            <td>040101</td>\n",
       "            <td>268</td>\n",
       "            <td>201</td>\n",
       "            <td>弁当類</td>\n",
       "        </tr>\n",
       "        <tr>\n",
       "            <td>P040101006</td>\n",
       "            <td>04</td>\n",
       "            <td>0401</td>\n",
       "            <td>040101</td>\n",
       "            <td>298</td>\n",
       "            <td>224</td>\n",
       "            <td>弁当類</td>\n",
       "        </tr>\n",
       "        <tr>\n",
       "            <td>P040101007</td>\n",
       "            <td>04</td>\n",
       "            <td>0401</td>\n",
       "            <td>040101</td>\n",
       "            <td>338</td>\n",
       "            <td>254</td>\n",
       "            <td>弁当類</td>\n",
       "        </tr>\n",
       "        <tr>\n",
       "            <td>P040101008</td>\n",
       "            <td>04</td>\n",
       "            <td>0401</td>\n",
       "            <td>040101</td>\n",
       "            <td>420</td>\n",
       "            <td>315</td>\n",
       "            <td>弁当類</td>\n",
       "        </tr>\n",
       "        <tr>\n",
       "            <td>P040101009</td>\n",
       "            <td>04</td>\n",
       "            <td>0401</td>\n",
       "            <td>040101</td>\n",
       "            <td>498</td>\n",
       "            <td>374</td>\n",
       "            <td>弁当類</td>\n",
       "        </tr>\n",
       "        <tr>\n",
       "            <td>P040101010</td>\n",
       "            <td>04</td>\n",
       "            <td>0401</td>\n",
       "            <td>040101</td>\n",
       "            <td>580</td>\n",
       "            <td>435</td>\n",
       "            <td>弁当類</td>\n",
       "        </tr>\n",
       "    </tbody>\n",
       "</table>"
      ],
      "text/plain": [
       "[('P040101001', '04', '0401', '040101', 198, 149, '弁当類'),\n",
       " ('P040101002', '04', '0401', '040101', 218, 164, '弁当類'),\n",
       " ('P040101003', '04', '0401', '040101', 230, 173, '弁当類'),\n",
       " ('P040101004', '04', '0401', '040101', 248, 186, '弁当類'),\n",
       " ('P040101005', '04', '0401', '040101', 268, 201, '弁当類'),\n",
       " ('P040101006', '04', '0401', '040101', 298, 224, '弁当類'),\n",
       " ('P040101007', '04', '0401', '040101', 338, 254, '弁当類'),\n",
       " ('P040101008', '04', '0401', '040101', 420, 315, '弁当類'),\n",
       " ('P040101009', '04', '0401', '040101', 498, 374, '弁当類'),\n",
       " ('P040101010', '04', '0401', '040101', 580, 435, '弁当類')]"
      ]
     },
     "execution_count": 82,
     "metadata": {},
     "output_type": "execute_result"
    }
   ],
   "source": [
    "%%sql\n",
    "SELECT product.*,category.category_small_name\n",
    "FROM product\n",
    "JOIN category\n",
    "ON product.category_small_cd=category.category_small_cd\n",
    "LIMIT 10"
   ]
  },
  {
   "cell_type": "markdown",
   "metadata": {},
   "source": [
    "---\n",
    "> S-038: 顧客テーブル（customer）とレシート明細テーブル（receipt）から、各顧客ごとの売上金額合計を求めよ。ただし、売上実績がない顧客については売上金額を0として表示させること。また、顧客は性別コード（gender_cd）が女性（1）であるものを対象とし、非会員（顧客IDが\"Z\"から始まるもの）は除外すること。なお、結果は10件だけ表示させれば良い。"
   ]
  },
  {
   "cell_type": "code",
   "execution_count": 110,
   "metadata": {},
   "outputs": [
    {
     "name": "stdout",
     "output_type": "stream",
     "text": [
      " * postgresql://padawan:***@db:5432/dsdojo_db\n",
      "10 rows affected.\n"
     ]
    },
    {
     "data": {
      "text/html": [
       "<table>\n",
       "    <thead>\n",
       "        <tr>\n",
       "            <th>customer_id</th>\n",
       "            <th>coalesce</th>\n",
       "        </tr>\n",
       "    </thead>\n",
       "    <tbody>\n",
       "        <tr>\n",
       "            <td>CS021313000114</td>\n",
       "            <td>0</td>\n",
       "        </tr>\n",
       "        <tr>\n",
       "            <td>CS031415000172</td>\n",
       "            <td>5088</td>\n",
       "        </tr>\n",
       "        <tr>\n",
       "            <td>CS028811000001</td>\n",
       "            <td>0</td>\n",
       "        </tr>\n",
       "        <tr>\n",
       "            <td>CS001215000145</td>\n",
       "            <td>875</td>\n",
       "        </tr>\n",
       "        <tr>\n",
       "            <td>CS015414000103</td>\n",
       "            <td>3122</td>\n",
       "        </tr>\n",
       "        <tr>\n",
       "            <td>CS033513000180</td>\n",
       "            <td>868</td>\n",
       "        </tr>\n",
       "        <tr>\n",
       "            <td>CS035614000014</td>\n",
       "            <td>0</td>\n",
       "        </tr>\n",
       "        <tr>\n",
       "            <td>CS011215000048</td>\n",
       "            <td>3444</td>\n",
       "        </tr>\n",
       "        <tr>\n",
       "            <td>CS009413000079</td>\n",
       "            <td>0</td>\n",
       "        </tr>\n",
       "        <tr>\n",
       "            <td>CS040412000191</td>\n",
       "            <td>210</td>\n",
       "        </tr>\n",
       "    </tbody>\n",
       "</table>"
      ],
      "text/plain": [
       "[('CS021313000114', 0),\n",
       " ('CS031415000172', 5088),\n",
       " ('CS028811000001', 0),\n",
       " ('CS001215000145', 875),\n",
       " ('CS015414000103', 3122),\n",
       " ('CS033513000180', 868),\n",
       " ('CS035614000014', 0),\n",
       " ('CS011215000048', 3444),\n",
       " ('CS009413000079', 0),\n",
       " ('CS040412000191', 210)]"
      ]
     },
     "execution_count": 110,
     "metadata": {},
     "output_type": "execute_result"
    }
   ],
   "source": [
    "%%sql\n",
    "WITH c_sum AS (\n",
    "    SELECT customer_id,SUM(amount) AS sum_amount\n",
    "    FROM receipt\n",
    "    GROUP BY customer_id\n",
    ")\n",
    "SELECT customer.customer_id,COALESCE(c_sum.sum_amount,0)\n",
    "FROM customer\n",
    "LEFT JOIN c_sum\n",
    "ON customer.customer_id=c_sum.customer_id\n",
    "WHERE customer.gender_cd='1' AND customer.customer_id NOT LIKE 'Z%'\n",
    "LIMIT 10"
   ]
  },
  {
   "cell_type": "markdown",
   "metadata": {},
   "source": [
    "---\n",
    "> S-039: レシート明細テーブル（receipt）から売上日数の多い顧客の上位20件と、売上金額合計の多い顧客の上位20件を抽出し、完全外部結合せよ。ただし、非会員（顧客IDが\"Z\"から始まるもの）は除外すること。"
   ]
  },
  {
   "cell_type": "code",
   "execution_count": 115,
   "metadata": {},
   "outputs": [
    {
     "name": "stdout",
     "output_type": "stream",
     "text": [
      " * postgresql://padawan:***@db:5432/dsdojo_db\n",
      "34 rows affected.\n"
     ]
    },
    {
     "data": {
      "text/html": [
       "<table>\n",
       "    <thead>\n",
       "        <tr>\n",
       "            <th>customer_id</th>\n",
       "            <th>sales_days</th>\n",
       "            <th>sum_amount</th>\n",
       "        </tr>\n",
       "    </thead>\n",
       "    <tbody>\n",
       "        <tr>\n",
       "            <td>CS040214000008</td>\n",
       "            <td>23</td>\n",
       "            <td>None</td>\n",
       "        </tr>\n",
       "        <tr>\n",
       "            <td>CS015415000185</td>\n",
       "            <td>22</td>\n",
       "            <td>20153</td>\n",
       "        </tr>\n",
       "        <tr>\n",
       "            <td>CS010214000010</td>\n",
       "            <td>22</td>\n",
       "            <td>18585</td>\n",
       "        </tr>\n",
       "        <tr>\n",
       "            <td>CS028415000007</td>\n",
       "            <td>21</td>\n",
       "            <td>19127</td>\n",
       "        </tr>\n",
       "        <tr>\n",
       "            <td>CS010214000002</td>\n",
       "            <td>21</td>\n",
       "            <td>None</td>\n",
       "        </tr>\n",
       "        <tr>\n",
       "            <td>CS017415000097</td>\n",
       "            <td>20</td>\n",
       "            <td>23086</td>\n",
       "        </tr>\n",
       "        <tr>\n",
       "            <td>CS016415000141</td>\n",
       "            <td>20</td>\n",
       "            <td>18372</td>\n",
       "        </tr>\n",
       "        <tr>\n",
       "            <td>CS021514000045</td>\n",
       "            <td>19</td>\n",
       "            <td>None</td>\n",
       "        </tr>\n",
       "        <tr>\n",
       "            <td>CS022515000226</td>\n",
       "            <td>19</td>\n",
       "            <td>None</td>\n",
       "        </tr>\n",
       "        <tr>\n",
       "            <td>CS031414000051</td>\n",
       "            <td>19</td>\n",
       "            <td>19202</td>\n",
       "        </tr>\n",
       "        <tr>\n",
       "            <td>CS039414000052</td>\n",
       "            <td>19</td>\n",
       "            <td>None</td>\n",
       "        </tr>\n",
       "        <tr>\n",
       "            <td>CS014214000023</td>\n",
       "            <td>19</td>\n",
       "            <td>None</td>\n",
       "        </tr>\n",
       "        <tr>\n",
       "            <td>CS021515000172</td>\n",
       "            <td>19</td>\n",
       "            <td>None</td>\n",
       "        </tr>\n",
       "        <tr>\n",
       "            <td>CS031414000073</td>\n",
       "            <td>18</td>\n",
       "            <td>None</td>\n",
       "        </tr>\n",
       "        <tr>\n",
       "            <td>CS007515000107</td>\n",
       "            <td>18</td>\n",
       "            <td>None</td>\n",
       "        </tr>\n",
       "        <tr>\n",
       "            <td>CS014415000077</td>\n",
       "            <td>18</td>\n",
       "            <td>None</td>\n",
       "        </tr>\n",
       "        <tr>\n",
       "            <td>CS021515000056</td>\n",
       "            <td>18</td>\n",
       "            <td>None</td>\n",
       "        </tr>\n",
       "        <tr>\n",
       "            <td>CS032415000209</td>\n",
       "            <td>18</td>\n",
       "            <td>None</td>\n",
       "        </tr>\n",
       "        <tr>\n",
       "            <td>CS021515000211</td>\n",
       "            <td>18</td>\n",
       "            <td>None</td>\n",
       "        </tr>\n",
       "        <tr>\n",
       "            <td>CS022515000028</td>\n",
       "            <td>18</td>\n",
       "            <td>None</td>\n",
       "        </tr>\n",
       "        <tr>\n",
       "            <td>None</td>\n",
       "            <td>None</td>\n",
       "            <td>16094</td>\n",
       "        </tr>\n",
       "        <tr>\n",
       "            <td>None</td>\n",
       "            <td>None</td>\n",
       "            <td>16348</td>\n",
       "        </tr>\n",
       "        <tr>\n",
       "            <td>None</td>\n",
       "            <td>None</td>\n",
       "            <td>15468</td>\n",
       "        </tr>\n",
       "        <tr>\n",
       "            <td>None</td>\n",
       "            <td>None</td>\n",
       "            <td>17580</td>\n",
       "        </tr>\n",
       "        <tr>\n",
       "            <td>None</td>\n",
       "            <td>None</td>\n",
       "            <td>16083</td>\n",
       "        </tr>\n",
       "        <tr>\n",
       "            <td>None</td>\n",
       "            <td>None</td>\n",
       "            <td>18372</td>\n",
       "        </tr>\n",
       "        <tr>\n",
       "            <td>None</td>\n",
       "            <td>None</td>\n",
       "            <td>17847</td>\n",
       "        </tr>\n",
       "        <tr>\n",
       "            <td>None</td>\n",
       "            <td>None</td>\n",
       "            <td>15300</td>\n",
       "        </tr>\n",
       "        <tr>\n",
       "            <td>None</td>\n",
       "            <td>None</td>\n",
       "            <td>16563</td>\n",
       "        </tr>\n",
       "        <tr>\n",
       "            <td>None</td>\n",
       "            <td>None</td>\n",
       "            <td>18338</td>\n",
       "        </tr>\n",
       "        <tr>\n",
       "            <td>None</td>\n",
       "            <td>None</td>\n",
       "            <td>18925</td>\n",
       "        </tr>\n",
       "        <tr>\n",
       "            <td>None</td>\n",
       "            <td>None</td>\n",
       "            <td>15492</td>\n",
       "        </tr>\n",
       "        <tr>\n",
       "            <td>None</td>\n",
       "            <td>None</td>\n",
       "            <td>17615</td>\n",
       "        </tr>\n",
       "        <tr>\n",
       "            <td>None</td>\n",
       "            <td>None</td>\n",
       "            <td>15735</td>\n",
       "        </tr>\n",
       "    </tbody>\n",
       "</table>"
      ],
      "text/plain": [
       "[('CS040214000008', 23, None),\n",
       " ('CS015415000185', 22, 20153),\n",
       " ('CS010214000010', 22, 18585),\n",
       " ('CS028415000007', 21, 19127),\n",
       " ('CS010214000002', 21, None),\n",
       " ('CS017415000097', 20, 23086),\n",
       " ('CS016415000141', 20, 18372),\n",
       " ('CS021514000045', 19, None),\n",
       " ('CS022515000226', 19, None),\n",
       " ('CS031414000051', 19, 19202),\n",
       " ('CS039414000052', 19, None),\n",
       " ('CS014214000023', 19, None),\n",
       " ('CS021515000172', 19, None),\n",
       " ('CS031414000073', 18, None),\n",
       " ('CS007515000107', 18, None),\n",
       " ('CS014415000077', 18, None),\n",
       " ('CS021515000056', 18, None),\n",
       " ('CS032415000209', 18, None),\n",
       " ('CS021515000211', 18, None),\n",
       " ('CS022515000028', 18, None),\n",
       " (None, None, 16094),\n",
       " (None, None, 16348),\n",
       " (None, None, 15468),\n",
       " (None, None, 17580),\n",
       " (None, None, 16083),\n",
       " (None, None, 18372),\n",
       " (None, None, 17847),\n",
       " (None, None, 15300),\n",
       " (None, None, 16563),\n",
       " (None, None, 18338),\n",
       " (None, None, 18925),\n",
       " (None, None, 15492),\n",
       " (None, None, 17615),\n",
       " (None, None, 15735)]"
      ]
     },
     "execution_count": 115,
     "metadata": {},
     "output_type": "execute_result"
    }
   ],
   "source": [
    "%%sql\n",
    "WITH \n",
    "by_days AS (\n",
    "    SELECT customer_id,COUNT(DISTINCT sales_ymd) AS sales_days\n",
    "    FROM receipt\n",
    "    WHERE customer_id NOT LIKE 'Z%'\n",
    "    GROUP BY customer_id\n",
    "    \n",
    "    ORDER BY sales_days DESC\n",
    "    LIMIT 20\n",
    "),\n",
    "by_amounts AS (\n",
    "    SELECT customer_id,SUM(amount) AS sum_amount\n",
    "    FROM receipt\n",
    "    WHERE customer_id NOT LIKE 'Z%'\n",
    "    GROUP BY customer_id\n",
    "    \n",
    "    ORDER BY sum_amount DESC\n",
    "    LIMIT 20\n",
    ")\n",
    "SELECT by_days.*,by_amounts.sum_amount\n",
    "FROM by_days\n",
    "FULL OUTER JOIN by_amounts\n",
    "ON by_days.customer_id=by_amounts.customer_id"
   ]
  },
  {
   "cell_type": "markdown",
   "metadata": {},
   "source": [
    "---\n",
    "> S-040: 全ての店舗と全ての商品を組み合わせると何件のデータとなるか調査したい。店舗（store）と商品（product）を直積した件数を計算せよ。"
   ]
  },
  {
   "cell_type": "code",
   "execution_count": 116,
   "metadata": {},
   "outputs": [
    {
     "name": "stdout",
     "output_type": "stream",
     "text": [
      " * postgresql://padawan:***@db:5432/dsdojo_db\n",
      "1 rows affected.\n"
     ]
    },
    {
     "data": {
      "text/html": [
       "<table>\n",
       "    <thead>\n",
       "        <tr>\n",
       "            <th>count</th>\n",
       "        </tr>\n",
       "    </thead>\n",
       "    <tbody>\n",
       "        <tr>\n",
       "            <td>531590</td>\n",
       "        </tr>\n",
       "    </tbody>\n",
       "</table>"
      ],
      "text/plain": [
       "[(531590,)]"
      ]
     },
     "execution_count": 116,
     "metadata": {},
     "output_type": "execute_result"
    }
   ],
   "source": [
    "%%sql\n",
    "SELECT COUNT(1)\n",
    "FROM store\n",
    "CROSS JOIN product"
   ]
  },
  {
   "cell_type": "markdown",
   "metadata": {},
   "source": [
    "# LAG, TRUNC, UNIONALL"
   ]
  },
  {
   "cell_type": "markdown",
   "metadata": {},
   "source": [
    "---\n",
    "> S-041: レシート明細テーブル（receipt）の売上金額（amount）を日付（sales_ymd）ごとに集計し、前日からの売上金額増減を計算せよ。なお、計算結果は10件表示すればよい。"
   ]
  },
  {
   "cell_type": "code",
   "execution_count": 123,
   "metadata": {},
   "outputs": [
    {
     "name": "stdout",
     "output_type": "stream",
     "text": [
      " * postgresql://padawan:***@db:5432/dsdojo_db\n",
      "10 rows affected.\n"
     ]
    },
    {
     "data": {
      "text/html": [
       "<table>\n",
       "    <thead>\n",
       "        <tr>\n",
       "            <th>sales_ymd</th>\n",
       "            <th>lag_ymd</th>\n",
       "            <th>sum_amount</th>\n",
       "            <th>lag_amount</th>\n",
       "            <th>diff_amount</th>\n",
       "        </tr>\n",
       "    </thead>\n",
       "    <tbody>\n",
       "        <tr>\n",
       "            <td>20170101</td>\n",
       "            <td>None</td>\n",
       "            <td>33723</td>\n",
       "            <td>None</td>\n",
       "            <td>None</td>\n",
       "        </tr>\n",
       "        <tr>\n",
       "            <td>20170102</td>\n",
       "            <td>20170101</td>\n",
       "            <td>24165</td>\n",
       "            <td>33723</td>\n",
       "            <td>-9558</td>\n",
       "        </tr>\n",
       "        <tr>\n",
       "            <td>20170103</td>\n",
       "            <td>20170102</td>\n",
       "            <td>27503</td>\n",
       "            <td>24165</td>\n",
       "            <td>3338</td>\n",
       "        </tr>\n",
       "        <tr>\n",
       "            <td>20170104</td>\n",
       "            <td>20170103</td>\n",
       "            <td>36165</td>\n",
       "            <td>27503</td>\n",
       "            <td>8662</td>\n",
       "        </tr>\n",
       "        <tr>\n",
       "            <td>20170105</td>\n",
       "            <td>20170104</td>\n",
       "            <td>37830</td>\n",
       "            <td>36165</td>\n",
       "            <td>1665</td>\n",
       "        </tr>\n",
       "        <tr>\n",
       "            <td>20170106</td>\n",
       "            <td>20170105</td>\n",
       "            <td>32387</td>\n",
       "            <td>37830</td>\n",
       "            <td>-5443</td>\n",
       "        </tr>\n",
       "        <tr>\n",
       "            <td>20170107</td>\n",
       "            <td>20170106</td>\n",
       "            <td>23415</td>\n",
       "            <td>32387</td>\n",
       "            <td>-8972</td>\n",
       "        </tr>\n",
       "        <tr>\n",
       "            <td>20170108</td>\n",
       "            <td>20170107</td>\n",
       "            <td>24737</td>\n",
       "            <td>23415</td>\n",
       "            <td>1322</td>\n",
       "        </tr>\n",
       "        <tr>\n",
       "            <td>20170109</td>\n",
       "            <td>20170108</td>\n",
       "            <td>26718</td>\n",
       "            <td>24737</td>\n",
       "            <td>1981</td>\n",
       "        </tr>\n",
       "        <tr>\n",
       "            <td>20170110</td>\n",
       "            <td>20170109</td>\n",
       "            <td>20143</td>\n",
       "            <td>26718</td>\n",
       "            <td>-6575</td>\n",
       "        </tr>\n",
       "    </tbody>\n",
       "</table>"
      ],
      "text/plain": [
       "[(20170101, None, 33723, None, None),\n",
       " (20170102, 20170101, 24165, 33723, -9558),\n",
       " (20170103, 20170102, 27503, 24165, 3338),\n",
       " (20170104, 20170103, 36165, 27503, 8662),\n",
       " (20170105, 20170104, 37830, 36165, 1665),\n",
       " (20170106, 20170105, 32387, 37830, -5443),\n",
       " (20170107, 20170106, 23415, 32387, -8972),\n",
       " (20170108, 20170107, 24737, 23415, 1322),\n",
       " (20170109, 20170108, 26718, 24737, 1981),\n",
       " (20170110, 20170109, 20143, 26718, -6575)]"
      ]
     },
     "execution_count": 123,
     "metadata": {},
     "output_type": "execute_result"
    }
   ],
   "source": [
    "%%sql\n",
    "WITH sum_amount_by_ymd AS(\n",
    "    SELECT sales_ymd,SUM(amount) AS sum_amount\n",
    "    FROM receipt\n",
    "    GROUP BY sales_ymd\n",
    "    ORDER BY sales_ymd\n",
    ")\n",
    "SELECT\n",
    "    sales_ymd,\n",
    "    LAG(sales_ymd,1) OVER (ORDER BY sales_ymd) AS lag_ymd,\n",
    "    sum_amount,\n",
    "    LAG(sum_amount,1) OVER (ORDER BY sales_ymd) AS lag_amount,\n",
    "    sum_amount-LAG(sum_amount,1) OVER (ORDER BY sales_ymd)  AS diff_amount\n",
    "FROM sum_amount_by_ymd\n",
    "LIMIT 10"
   ]
  },
  {
   "cell_type": "markdown",
   "metadata": {},
   "source": [
    "---\n",
    "> S-042: レシート明細テーブル（receipt）の売上金額（amount）を日付（sales_ymd）ごとに集計し、各日付のデータに対し、１日前、２日前、３日前のデータを結合せよ。結果は10件表示すればよい。"
   ]
  },
  {
   "cell_type": "code",
   "execution_count": 129,
   "metadata": {},
   "outputs": [
    {
     "name": "stdout",
     "output_type": "stream",
     "text": [
      " * postgresql://padawan:***@db:5432/dsdojo_db\n",
      "10 rows affected.\n"
     ]
    },
    {
     "data": {
      "text/html": [
       "<table>\n",
       "    <thead>\n",
       "        <tr>\n",
       "            <th>sales_ymd</th>\n",
       "            <th>sum_amount</th>\n",
       "            <th>lag_ymd_1</th>\n",
       "            <th>lag_sum_1</th>\n",
       "            <th>lag_ymd_2</th>\n",
       "            <th>lag_sum_2</th>\n",
       "            <th>lag_ymd_3</th>\n",
       "            <th>lag_sum_3</th>\n",
       "        </tr>\n",
       "    </thead>\n",
       "    <tbody>\n",
       "        <tr>\n",
       "            <td>20170104</td>\n",
       "            <td>36165</td>\n",
       "            <td>20170103</td>\n",
       "            <td>27503</td>\n",
       "            <td>20170102</td>\n",
       "            <td>24165</td>\n",
       "            <td>20170101</td>\n",
       "            <td>33723</td>\n",
       "        </tr>\n",
       "        <tr>\n",
       "            <td>20170105</td>\n",
       "            <td>37830</td>\n",
       "            <td>20170104</td>\n",
       "            <td>36165</td>\n",
       "            <td>20170103</td>\n",
       "            <td>27503</td>\n",
       "            <td>20170102</td>\n",
       "            <td>24165</td>\n",
       "        </tr>\n",
       "        <tr>\n",
       "            <td>20170106</td>\n",
       "            <td>32387</td>\n",
       "            <td>20170105</td>\n",
       "            <td>37830</td>\n",
       "            <td>20170104</td>\n",
       "            <td>36165</td>\n",
       "            <td>20170103</td>\n",
       "            <td>27503</td>\n",
       "        </tr>\n",
       "        <tr>\n",
       "            <td>20170107</td>\n",
       "            <td>23415</td>\n",
       "            <td>20170106</td>\n",
       "            <td>32387</td>\n",
       "            <td>20170105</td>\n",
       "            <td>37830</td>\n",
       "            <td>20170104</td>\n",
       "            <td>36165</td>\n",
       "        </tr>\n",
       "        <tr>\n",
       "            <td>20170108</td>\n",
       "            <td>24737</td>\n",
       "            <td>20170107</td>\n",
       "            <td>23415</td>\n",
       "            <td>20170106</td>\n",
       "            <td>32387</td>\n",
       "            <td>20170105</td>\n",
       "            <td>37830</td>\n",
       "        </tr>\n",
       "        <tr>\n",
       "            <td>20170109</td>\n",
       "            <td>26718</td>\n",
       "            <td>20170108</td>\n",
       "            <td>24737</td>\n",
       "            <td>20170107</td>\n",
       "            <td>23415</td>\n",
       "            <td>20170106</td>\n",
       "            <td>32387</td>\n",
       "        </tr>\n",
       "        <tr>\n",
       "            <td>20170110</td>\n",
       "            <td>20143</td>\n",
       "            <td>20170109</td>\n",
       "            <td>26718</td>\n",
       "            <td>20170108</td>\n",
       "            <td>24737</td>\n",
       "            <td>20170107</td>\n",
       "            <td>23415</td>\n",
       "        </tr>\n",
       "        <tr>\n",
       "            <td>20170111</td>\n",
       "            <td>24287</td>\n",
       "            <td>20170110</td>\n",
       "            <td>20143</td>\n",
       "            <td>20170109</td>\n",
       "            <td>26718</td>\n",
       "            <td>20170108</td>\n",
       "            <td>24737</td>\n",
       "        </tr>\n",
       "        <tr>\n",
       "            <td>20170112</td>\n",
       "            <td>23526</td>\n",
       "            <td>20170111</td>\n",
       "            <td>24287</td>\n",
       "            <td>20170110</td>\n",
       "            <td>20143</td>\n",
       "            <td>20170109</td>\n",
       "            <td>26718</td>\n",
       "        </tr>\n",
       "        <tr>\n",
       "            <td>20170113</td>\n",
       "            <td>28004</td>\n",
       "            <td>20170112</td>\n",
       "            <td>23526</td>\n",
       "            <td>20170111</td>\n",
       "            <td>24287</td>\n",
       "            <td>20170110</td>\n",
       "            <td>20143</td>\n",
       "        </tr>\n",
       "    </tbody>\n",
       "</table>"
      ],
      "text/plain": [
       "[(20170104, 36165, 20170103, 27503, 20170102, 24165, 20170101, 33723),\n",
       " (20170105, 37830, 20170104, 36165, 20170103, 27503, 20170102, 24165),\n",
       " (20170106, 32387, 20170105, 37830, 20170104, 36165, 20170103, 27503),\n",
       " (20170107, 23415, 20170106, 32387, 20170105, 37830, 20170104, 36165),\n",
       " (20170108, 24737, 20170107, 23415, 20170106, 32387, 20170105, 37830),\n",
       " (20170109, 26718, 20170108, 24737, 20170107, 23415, 20170106, 32387),\n",
       " (20170110, 20143, 20170109, 26718, 20170108, 24737, 20170107, 23415),\n",
       " (20170111, 24287, 20170110, 20143, 20170109, 26718, 20170108, 24737),\n",
       " (20170112, 23526, 20170111, 24287, 20170110, 20143, 20170109, 26718),\n",
       " (20170113, 28004, 20170112, 23526, 20170111, 24287, 20170110, 20143)]"
      ]
     },
     "execution_count": 129,
     "metadata": {},
     "output_type": "execute_result"
    }
   ],
   "source": [
    "%%sql\n",
    "WITH \n",
    "    sum_amount_by_ymd AS (\n",
    "        SELECT sales_ymd,SUM(amount) AS sum_amount\n",
    "        FROM receipt\n",
    "        GROUP BY sales_ymd\n",
    "    ),\n",
    "    lag_sum AS(\n",
    "        SELECT \n",
    "            sales_ymd,\n",
    "            sum_amount,\n",
    "            LAG(sales_ymd,1) OVER (ORDER BY sales_ymd) AS lag_ymd_1,\n",
    "            LAG(sum_amount,1) OVER (ORDER BY sales_ymd) AS lag_sum_1,\n",
    "            LAG(sales_ymd,2) OVER (ORDER BY sales_ymd) AS lag_ymd_2,\n",
    "            LAG(sum_amount,2) OVER (ORDER BY sales_ymd) AS lag_sum_2,\n",
    "            LAG(sales_ymd,3) OVER (ORDER BY sales_ymd) AS lag_ymd_3,\n",
    "            LAG(sum_amount,3) OVER (ORDER BY sales_ymd) AS lag_sum_3\n",
    "        FROM sum_amount_by_ymd\n",
    "    )\n",
    "SELECT *\n",
    "FROM lag_sum\n",
    "WHERE lag_ymd_3 IS NOT NULL\n",
    "LIMIT 10"
   ]
  },
  {
   "cell_type": "markdown",
   "metadata": {},
   "source": [
    "---\n",
    "> S-043: レシート明細テーブル（receipt）と顧客テーブル（customer）を結合し、性別（gender）と年代（ageから計算）ごとに売上金額（amount）を合計した売上サマリテーブル（sales_summary）を作成せよ。性別は0が男性、1が女性、9が不明を表すものとする。\n",
    ">\n",
    ">ただし、項目構成は年代、女性の売上金額、男性の売上金額、性別不明の売上金額の4項目とすること（縦に年代、横に性別のクロス集計）。また、年代は10歳ごとの階級とすること。"
   ]
  },
  {
   "cell_type": "code",
   "execution_count": 174,
   "metadata": {},
   "outputs": [
    {
     "name": "stdout",
     "output_type": "stream",
     "text": [
      " * postgresql://padawan:***@db:5432/dsdojo_db\n",
      "9 rows affected.\n"
     ]
    },
    {
     "data": {
      "text/html": [
       "<table>\n",
       "    <thead>\n",
       "        <tr>\n",
       "            <th>era</th>\n",
       "            <th>male</th>\n",
       "            <th>female</th>\n",
       "            <th>unknown</th>\n",
       "        </tr>\n",
       "    </thead>\n",
       "    <tbody>\n",
       "        <tr>\n",
       "            <td>10.0</td>\n",
       "            <td>1591</td>\n",
       "            <td>149836</td>\n",
       "            <td>4317</td>\n",
       "        </tr>\n",
       "        <tr>\n",
       "            <td>20.0</td>\n",
       "            <td>72940</td>\n",
       "            <td>1363724</td>\n",
       "            <td>44328</td>\n",
       "        </tr>\n",
       "        <tr>\n",
       "            <td>30.0</td>\n",
       "            <td>177322</td>\n",
       "            <td>693047</td>\n",
       "            <td>50441</td>\n",
       "        </tr>\n",
       "        <tr>\n",
       "            <td>40.0</td>\n",
       "            <td>19355</td>\n",
       "            <td>9320791</td>\n",
       "            <td>483512</td>\n",
       "        </tr>\n",
       "        <tr>\n",
       "            <td>50.0</td>\n",
       "            <td>54320</td>\n",
       "            <td>6685192</td>\n",
       "            <td>342923</td>\n",
       "        </tr>\n",
       "        <tr>\n",
       "            <td>60.0</td>\n",
       "            <td>272469</td>\n",
       "            <td>987741</td>\n",
       "            <td>71418</td>\n",
       "        </tr>\n",
       "        <tr>\n",
       "            <td>70.0</td>\n",
       "            <td>13435</td>\n",
       "            <td>29764</td>\n",
       "            <td>2427</td>\n",
       "        </tr>\n",
       "        <tr>\n",
       "            <td>80.0</td>\n",
       "            <td>46360</td>\n",
       "            <td>262923</td>\n",
       "            <td>5111</td>\n",
       "        </tr>\n",
       "        <tr>\n",
       "            <td>90.0</td>\n",
       "            <td>0</td>\n",
       "            <td>6260</td>\n",
       "            <td>0</td>\n",
       "        </tr>\n",
       "    </tbody>\n",
       "</table>"
      ],
      "text/plain": [
       "[(10.0, 1591, 149836, 4317),\n",
       " (20.0, 72940, 1363724, 44328),\n",
       " (30.0, 177322, 693047, 50441),\n",
       " (40.0, 19355, 9320791, 483512),\n",
       " (50.0, 54320, 6685192, 342923),\n",
       " (60.0, 272469, 987741, 71418),\n",
       " (70.0, 13435, 29764, 2427),\n",
       " (80.0, 46360, 262923, 5111),\n",
       " (90.0, 0, 6260, 0)]"
      ]
     },
     "execution_count": 174,
     "metadata": {},
     "output_type": "execute_result"
    }
   ],
   "source": [
    "%%sql\n",
    "WITH \n",
    "    group_by_gender_age AS (\n",
    "        SELECT \n",
    "            c.gender_cd,\n",
    "            TRUNC(c.age/10)*10 AS era,\n",
    "            SUM(amount) AS sum_amount\n",
    "        FROM receipt AS r\n",
    "        JOIN customer AS c\n",
    "        ON r.customer_id=c.customer_id\n",
    "        GROUP BY c.gender_cd,era\n",
    "    ),\n",
    "    gender_era AS (\n",
    "        SELECT \n",
    "            era,\n",
    "            MAX(CASE gender_cd WHEN '0' THEN sum_amount ELSE 0 END) AS male,\n",
    "            MAX(CASE gender_cd WHEN '1' THEN sum_amount ELSE 0 END) AS female,\n",
    "            MAX(CASE gender_cd WHEN '9' THEN sum_amount ELSE 0 END) AS unknown\n",
    "        FROM group_by_gender_age\n",
    "        GROUP BY era \n",
    "    )\n",
    "SELECT *\n",
    "FROM gender_era"
   ]
  },
  {
   "cell_type": "markdown",
   "metadata": {},
   "source": [
    "---\n",
    "> S-044: 前設問で作成した売上サマリテーブル（sales_summary）は性別の売上を横持ちさせたものであった。このテーブルから性別を縦持ちさせ、年代、性別コード、売上金額の3項目に変換せよ。ただし、性別コードは男性を\"00\"、女性を\"01\"、不明を\"99\"とする。"
   ]
  },
  {
   "cell_type": "code",
   "execution_count": 181,
   "metadata": {},
   "outputs": [
    {
     "name": "stdout",
     "output_type": "stream",
     "text": [
      " * postgresql://padawan:***@db:5432/dsdojo_db\n",
      "27 rows affected.\n"
     ]
    },
    {
     "data": {
      "text/html": [
       "<table>\n",
       "    <thead>\n",
       "        <tr>\n",
       "            <th>era</th>\n",
       "            <th>gender</th>\n",
       "            <th>amount</th>\n",
       "        </tr>\n",
       "    </thead>\n",
       "    <tbody>\n",
       "        <tr>\n",
       "            <td>10.0</td>\n",
       "            <td>00</td>\n",
       "            <td>1591</td>\n",
       "        </tr>\n",
       "        <tr>\n",
       "            <td>20.0</td>\n",
       "            <td>00</td>\n",
       "            <td>72940</td>\n",
       "        </tr>\n",
       "        <tr>\n",
       "            <td>30.0</td>\n",
       "            <td>00</td>\n",
       "            <td>177322</td>\n",
       "        </tr>\n",
       "        <tr>\n",
       "            <td>40.0</td>\n",
       "            <td>00</td>\n",
       "            <td>19355</td>\n",
       "        </tr>\n",
       "        <tr>\n",
       "            <td>50.0</td>\n",
       "            <td>00</td>\n",
       "            <td>54320</td>\n",
       "        </tr>\n",
       "        <tr>\n",
       "            <td>60.0</td>\n",
       "            <td>00</td>\n",
       "            <td>272469</td>\n",
       "        </tr>\n",
       "        <tr>\n",
       "            <td>70.0</td>\n",
       "            <td>00</td>\n",
       "            <td>13435</td>\n",
       "        </tr>\n",
       "        <tr>\n",
       "            <td>80.0</td>\n",
       "            <td>00</td>\n",
       "            <td>46360</td>\n",
       "        </tr>\n",
       "        <tr>\n",
       "            <td>90.0</td>\n",
       "            <td>00</td>\n",
       "            <td>0</td>\n",
       "        </tr>\n",
       "        <tr>\n",
       "            <td>10.0</td>\n",
       "            <td>01</td>\n",
       "            <td>149836</td>\n",
       "        </tr>\n",
       "        <tr>\n",
       "            <td>20.0</td>\n",
       "            <td>01</td>\n",
       "            <td>1363724</td>\n",
       "        </tr>\n",
       "        <tr>\n",
       "            <td>30.0</td>\n",
       "            <td>01</td>\n",
       "            <td>693047</td>\n",
       "        </tr>\n",
       "        <tr>\n",
       "            <td>40.0</td>\n",
       "            <td>01</td>\n",
       "            <td>9320791</td>\n",
       "        </tr>\n",
       "        <tr>\n",
       "            <td>50.0</td>\n",
       "            <td>01</td>\n",
       "            <td>6685192</td>\n",
       "        </tr>\n",
       "        <tr>\n",
       "            <td>60.0</td>\n",
       "            <td>01</td>\n",
       "            <td>987741</td>\n",
       "        </tr>\n",
       "        <tr>\n",
       "            <td>70.0</td>\n",
       "            <td>01</td>\n",
       "            <td>29764</td>\n",
       "        </tr>\n",
       "        <tr>\n",
       "            <td>80.0</td>\n",
       "            <td>01</td>\n",
       "            <td>262923</td>\n",
       "        </tr>\n",
       "        <tr>\n",
       "            <td>90.0</td>\n",
       "            <td>01</td>\n",
       "            <td>6260</td>\n",
       "        </tr>\n",
       "        <tr>\n",
       "            <td>10.0</td>\n",
       "            <td>99</td>\n",
       "            <td>4317</td>\n",
       "        </tr>\n",
       "        <tr>\n",
       "            <td>20.0</td>\n",
       "            <td>99</td>\n",
       "            <td>44328</td>\n",
       "        </tr>\n",
       "        <tr>\n",
       "            <td>30.0</td>\n",
       "            <td>99</td>\n",
       "            <td>50441</td>\n",
       "        </tr>\n",
       "        <tr>\n",
       "            <td>40.0</td>\n",
       "            <td>99</td>\n",
       "            <td>483512</td>\n",
       "        </tr>\n",
       "        <tr>\n",
       "            <td>50.0</td>\n",
       "            <td>99</td>\n",
       "            <td>342923</td>\n",
       "        </tr>\n",
       "        <tr>\n",
       "            <td>60.0</td>\n",
       "            <td>99</td>\n",
       "            <td>71418</td>\n",
       "        </tr>\n",
       "        <tr>\n",
       "            <td>70.0</td>\n",
       "            <td>99</td>\n",
       "            <td>2427</td>\n",
       "        </tr>\n",
       "        <tr>\n",
       "            <td>80.0</td>\n",
       "            <td>99</td>\n",
       "            <td>5111</td>\n",
       "        </tr>\n",
       "        <tr>\n",
       "            <td>90.0</td>\n",
       "            <td>99</td>\n",
       "            <td>0</td>\n",
       "        </tr>\n",
       "    </tbody>\n",
       "</table>"
      ],
      "text/plain": [
       "[(10.0, '00', 1591),\n",
       " (20.0, '00', 72940),\n",
       " (30.0, '00', 177322),\n",
       " (40.0, '00', 19355),\n",
       " (50.0, '00', 54320),\n",
       " (60.0, '00', 272469),\n",
       " (70.0, '00', 13435),\n",
       " (80.0, '00', 46360),\n",
       " (90.0, '00', 0),\n",
       " (10.0, '01', 149836),\n",
       " (20.0, '01', 1363724),\n",
       " (30.0, '01', 693047),\n",
       " (40.0, '01', 9320791),\n",
       " (50.0, '01', 6685192),\n",
       " (60.0, '01', 987741),\n",
       " (70.0, '01', 29764),\n",
       " (80.0, '01', 262923),\n",
       " (90.0, '01', 6260),\n",
       " (10.0, '99', 4317),\n",
       " (20.0, '99', 44328),\n",
       " (30.0, '99', 50441),\n",
       " (40.0, '99', 483512),\n",
       " (50.0, '99', 342923),\n",
       " (60.0, '99', 71418),\n",
       " (70.0, '99', 2427),\n",
       " (80.0, '99', 5111),\n",
       " (90.0, '99', 0)]"
      ]
     },
     "execution_count": 181,
     "metadata": {},
     "output_type": "execute_result"
    }
   ],
   "source": [
    "%%sql\n",
    "WITH \n",
    "    group_by_gender_age AS (\n",
    "        SELECT \n",
    "            c.gender_cd,\n",
    "            TRUNC(c.age/10)*10 AS era,\n",
    "            SUM(amount) AS sum_amount\n",
    "        FROM receipt AS r\n",
    "        JOIN customer AS c\n",
    "        ON r.customer_id=c.customer_id\n",
    "        GROUP BY c.gender_cd,era\n",
    "    ),\n",
    "    gender_era AS (\n",
    "        SELECT \n",
    "            era,\n",
    "            MAX(CASE gender_cd WHEN '0' THEN sum_amount ELSE 0 END) AS male,\n",
    "            MAX(CASE gender_cd WHEN '1' THEN sum_amount ELSE 0 END) AS female,\n",
    "            MAX(CASE gender_cd WHEN '9' THEN sum_amount ELSE 0 END) AS unknown\n",
    "        FROM group_by_gender_age\n",
    "        GROUP BY era \n",
    "    )\n",
    "SELECT era,'00' AS gender,male AS amount FROM gender_era\n",
    "UNION ALL\n",
    "SELECT era,'01' AS gender,female AS amount FROM gender_era\n",
    "UNION ALL\n",
    "SELECT era,'99' AS gender,unknown AS amount FROM gender_era"
   ]
  },
  {
   "cell_type": "markdown",
   "metadata": {},
   "source": [
    "# 日付"
   ]
  },
  {
   "cell_type": "markdown",
   "metadata": {},
   "source": [
    "---\n",
    "> S-045: 顧客テーブル（customer）の生年月日（birth_day）は日付型でデータを保有している。これをYYYYMMDD形式の文字列に変換し、顧客ID（customer_id）とともに抽出せよ。データは10件を抽出すれば良い。"
   ]
  },
  {
   "cell_type": "code",
   "execution_count": 184,
   "metadata": {},
   "outputs": [
    {
     "name": "stdout",
     "output_type": "stream",
     "text": [
      " * postgresql://padawan:***@db:5432/dsdojo_db\n",
      "10 rows affected.\n"
     ]
    },
    {
     "data": {
      "text/html": [
       "<table>\n",
       "    <thead>\n",
       "        <tr>\n",
       "            <th>customer_id</th>\n",
       "            <th>to_char</th>\n",
       "        </tr>\n",
       "    </thead>\n",
       "    <tbody>\n",
       "        <tr>\n",
       "            <td>CS021313000114</td>\n",
       "            <td>19810429</td>\n",
       "        </tr>\n",
       "        <tr>\n",
       "            <td>CS037613000071</td>\n",
       "            <td>19520401</td>\n",
       "        </tr>\n",
       "        <tr>\n",
       "            <td>CS031415000172</td>\n",
       "            <td>19761004</td>\n",
       "        </tr>\n",
       "        <tr>\n",
       "            <td>CS028811000001</td>\n",
       "            <td>19330327</td>\n",
       "        </tr>\n",
       "        <tr>\n",
       "            <td>CS001215000145</td>\n",
       "            <td>19950329</td>\n",
       "        </tr>\n",
       "        <tr>\n",
       "            <td>CS020401000016</td>\n",
       "            <td>19740915</td>\n",
       "        </tr>\n",
       "        <tr>\n",
       "            <td>CS015414000103</td>\n",
       "            <td>19770809</td>\n",
       "        </tr>\n",
       "        <tr>\n",
       "            <td>CS029403000008</td>\n",
       "            <td>19730817</td>\n",
       "        </tr>\n",
       "        <tr>\n",
       "            <td>CS015804000004</td>\n",
       "            <td>19310502</td>\n",
       "        </tr>\n",
       "        <tr>\n",
       "            <td>CS033513000180</td>\n",
       "            <td>19620711</td>\n",
       "        </tr>\n",
       "    </tbody>\n",
       "</table>"
      ],
      "text/plain": [
       "[('CS021313000114', '19810429'),\n",
       " ('CS037613000071', '19520401'),\n",
       " ('CS031415000172', '19761004'),\n",
       " ('CS028811000001', '19330327'),\n",
       " ('CS001215000145', '19950329'),\n",
       " ('CS020401000016', '19740915'),\n",
       " ('CS015414000103', '19770809'),\n",
       " ('CS029403000008', '19730817'),\n",
       " ('CS015804000004', '19310502'),\n",
       " ('CS033513000180', '19620711')]"
      ]
     },
     "execution_count": 184,
     "metadata": {},
     "output_type": "execute_result"
    }
   ],
   "source": [
    "%%sql\n",
    "SELECT customer_id,TO_CHAR(birth_day,'YYYYMMDD')\n",
    "FROM customer\n",
    "LIMIT 10"
   ]
  },
  {
   "cell_type": "markdown",
   "metadata": {},
   "source": [
    "---\n",
    "> S-046: 顧客テーブル（customer）の申し込み日（application_date）はYYYYMMDD形式の文字列型でデータを保有している。これを日付型に変換し、顧客ID（customer_id）とともに抽出せよ。データは10件を抽出すれば良い。"
   ]
  },
  {
   "cell_type": "code",
   "execution_count": 197,
   "metadata": {},
   "outputs": [
    {
     "name": "stdout",
     "output_type": "stream",
     "text": [
      " * postgresql://padawan:***@db:5432/dsdojo_db\n",
      "10 rows affected.\n"
     ]
    },
    {
     "data": {
      "text/html": [
       "<table>\n",
       "    <thead>\n",
       "        <tr>\n",
       "            <th>customer_id</th>\n",
       "            <th>to_date</th>\n",
       "        </tr>\n",
       "    </thead>\n",
       "    <tbody>\n",
       "        <tr>\n",
       "            <td>CS021313000114</td>\n",
       "            <td>2015-09-05</td>\n",
       "        </tr>\n",
       "        <tr>\n",
       "            <td>CS037613000071</td>\n",
       "            <td>2015-04-14</td>\n",
       "        </tr>\n",
       "        <tr>\n",
       "            <td>CS031415000172</td>\n",
       "            <td>2015-05-29</td>\n",
       "        </tr>\n",
       "        <tr>\n",
       "            <td>CS028811000001</td>\n",
       "            <td>2016-01-15</td>\n",
       "        </tr>\n",
       "        <tr>\n",
       "            <td>CS001215000145</td>\n",
       "            <td>2017-06-05</td>\n",
       "        </tr>\n",
       "        <tr>\n",
       "            <td>CS020401000016</td>\n",
       "            <td>2015-02-25</td>\n",
       "        </tr>\n",
       "        <tr>\n",
       "            <td>CS015414000103</td>\n",
       "            <td>2015-07-22</td>\n",
       "        </tr>\n",
       "        <tr>\n",
       "            <td>CS029403000008</td>\n",
       "            <td>2015-05-15</td>\n",
       "        </tr>\n",
       "        <tr>\n",
       "            <td>CS015804000004</td>\n",
       "            <td>2015-06-07</td>\n",
       "        </tr>\n",
       "        <tr>\n",
       "            <td>CS033513000180</td>\n",
       "            <td>2015-07-28</td>\n",
       "        </tr>\n",
       "    </tbody>\n",
       "</table>"
      ],
      "text/plain": [
       "[('CS021313000114', datetime.date(2015, 9, 5)),\n",
       " ('CS037613000071', datetime.date(2015, 4, 14)),\n",
       " ('CS031415000172', datetime.date(2015, 5, 29)),\n",
       " ('CS028811000001', datetime.date(2016, 1, 15)),\n",
       " ('CS001215000145', datetime.date(2017, 6, 5)),\n",
       " ('CS020401000016', datetime.date(2015, 2, 25)),\n",
       " ('CS015414000103', datetime.date(2015, 7, 22)),\n",
       " ('CS029403000008', datetime.date(2015, 5, 15)),\n",
       " ('CS015804000004', datetime.date(2015, 6, 7)),\n",
       " ('CS033513000180', datetime.date(2015, 7, 28))]"
      ]
     },
     "execution_count": 197,
     "metadata": {},
     "output_type": "execute_result"
    }
   ],
   "source": [
    "%%sql\n",
    "SELECT customer_id,TO_DATE(application_date,'YYYYMMDD')\n",
    "FROM customer\n",
    "LIMIT 10"
   ]
  },
  {
   "cell_type": "markdown",
   "metadata": {},
   "source": [
    "---\n",
    "> S-047: レシート明細テーブル（receipt）の売上日（sales_ymd）はYYYYMMDD形式の数値型でデータを保有している。これを日付型に変換し、レシート番号(receipt_no)、レシートサブ番号（receipt_sub_no）とともに抽出せよ。データは10件を抽出すれば良い。"
   ]
  },
  {
   "cell_type": "code",
   "execution_count": 203,
   "metadata": {},
   "outputs": [
    {
     "name": "stdout",
     "output_type": "stream",
     "text": [
      " * postgresql://padawan:***@db:5432/dsdojo_db\n",
      "10 rows affected.\n"
     ]
    },
    {
     "data": {
      "text/html": [
       "<table>\n",
       "    <thead>\n",
       "        <tr>\n",
       "            <th>to_date</th>\n",
       "            <th>receipt_no</th>\n",
       "            <th>receipt_sub_no</th>\n",
       "        </tr>\n",
       "    </thead>\n",
       "    <tbody>\n",
       "        <tr>\n",
       "            <td>2018-11-03</td>\n",
       "            <td>112</td>\n",
       "            <td>1</td>\n",
       "        </tr>\n",
       "        <tr>\n",
       "            <td>2018-11-18</td>\n",
       "            <td>1132</td>\n",
       "            <td>2</td>\n",
       "        </tr>\n",
       "        <tr>\n",
       "            <td>2017-07-12</td>\n",
       "            <td>1102</td>\n",
       "            <td>1</td>\n",
       "        </tr>\n",
       "        <tr>\n",
       "            <td>2019-02-05</td>\n",
       "            <td>1132</td>\n",
       "            <td>1</td>\n",
       "        </tr>\n",
       "        <tr>\n",
       "            <td>2018-08-21</td>\n",
       "            <td>1102</td>\n",
       "            <td>2</td>\n",
       "        </tr>\n",
       "        <tr>\n",
       "            <td>2019-06-05</td>\n",
       "            <td>1112</td>\n",
       "            <td>1</td>\n",
       "        </tr>\n",
       "        <tr>\n",
       "            <td>2018-12-05</td>\n",
       "            <td>1102</td>\n",
       "            <td>2</td>\n",
       "        </tr>\n",
       "        <tr>\n",
       "            <td>2019-09-22</td>\n",
       "            <td>1102</td>\n",
       "            <td>1</td>\n",
       "        </tr>\n",
       "        <tr>\n",
       "            <td>2017-05-04</td>\n",
       "            <td>1112</td>\n",
       "            <td>2</td>\n",
       "        </tr>\n",
       "        <tr>\n",
       "            <td>2019-10-10</td>\n",
       "            <td>1102</td>\n",
       "            <td>1</td>\n",
       "        </tr>\n",
       "    </tbody>\n",
       "</table>"
      ],
      "text/plain": [
       "[(datetime.date(2018, 11, 3), 112, 1),\n",
       " (datetime.date(2018, 11, 18), 1132, 2),\n",
       " (datetime.date(2017, 7, 12), 1102, 1),\n",
       " (datetime.date(2019, 2, 5), 1132, 1),\n",
       " (datetime.date(2018, 8, 21), 1102, 2),\n",
       " (datetime.date(2019, 6, 5), 1112, 1),\n",
       " (datetime.date(2018, 12, 5), 1102, 2),\n",
       " (datetime.date(2019, 9, 22), 1102, 1),\n",
       " (datetime.date(2017, 5, 4), 1112, 2),\n",
       " (datetime.date(2019, 10, 10), 1102, 1)]"
      ]
     },
     "execution_count": 203,
     "metadata": {},
     "output_type": "execute_result"
    }
   ],
   "source": [
    "%%sql\n",
    "SELECT TO_DATE(CAST(sales_ymd AS VARCHAR),'YYYYMMDD'),receipt_no,receipt_sub_no\n",
    "FROM receipt \n",
    "LIMIT 10"
   ]
  },
  {
   "cell_type": "markdown",
   "metadata": {},
   "source": [
    "---\n",
    "> S-048: レシート明細テーブル（receipt）の売上エポック秒（sales_epoch）は数値型のUNIX秒でデータを保有している。これを日付型に変換し、レシート番号(receipt_no)、レシートサブ番号（receipt_sub_no）とともに抽出せよ。データは10件を抽出すれば良い。"
   ]
  },
  {
   "cell_type": "code",
   "execution_count": 204,
   "metadata": {},
   "outputs": [
    {
     "name": "stdout",
     "output_type": "stream",
     "text": [
      " * postgresql://padawan:***@db:5432/dsdojo_db\n",
      "10 rows affected.\n"
     ]
    },
    {
     "data": {
      "text/html": [
       "<table>\n",
       "    <thead>\n",
       "        <tr>\n",
       "            <th>to_timestamp</th>\n",
       "            <th>receipt_no</th>\n",
       "            <th>receipt_sub_no</th>\n",
       "        </tr>\n",
       "    </thead>\n",
       "    <tbody>\n",
       "        <tr>\n",
       "            <td>2018-11-03 00:00:00+00:00</td>\n",
       "            <td>112</td>\n",
       "            <td>1</td>\n",
       "        </tr>\n",
       "        <tr>\n",
       "            <td>2018-11-18 00:00:00+00:00</td>\n",
       "            <td>1132</td>\n",
       "            <td>2</td>\n",
       "        </tr>\n",
       "        <tr>\n",
       "            <td>2017-07-12 00:00:00+00:00</td>\n",
       "            <td>1102</td>\n",
       "            <td>1</td>\n",
       "        </tr>\n",
       "        <tr>\n",
       "            <td>2019-02-05 00:00:00+00:00</td>\n",
       "            <td>1132</td>\n",
       "            <td>1</td>\n",
       "        </tr>\n",
       "        <tr>\n",
       "            <td>2018-08-21 00:00:00+00:00</td>\n",
       "            <td>1102</td>\n",
       "            <td>2</td>\n",
       "        </tr>\n",
       "        <tr>\n",
       "            <td>2019-06-05 00:00:00+00:00</td>\n",
       "            <td>1112</td>\n",
       "            <td>1</td>\n",
       "        </tr>\n",
       "        <tr>\n",
       "            <td>2018-12-05 00:00:00+00:00</td>\n",
       "            <td>1102</td>\n",
       "            <td>2</td>\n",
       "        </tr>\n",
       "        <tr>\n",
       "            <td>2019-09-22 00:00:00+00:00</td>\n",
       "            <td>1102</td>\n",
       "            <td>1</td>\n",
       "        </tr>\n",
       "        <tr>\n",
       "            <td>2017-05-04 00:00:00+00:00</td>\n",
       "            <td>1112</td>\n",
       "            <td>2</td>\n",
       "        </tr>\n",
       "        <tr>\n",
       "            <td>2019-10-10 00:00:00+00:00</td>\n",
       "            <td>1102</td>\n",
       "            <td>1</td>\n",
       "        </tr>\n",
       "    </tbody>\n",
       "</table>"
      ],
      "text/plain": [
       "[(datetime.datetime(2018, 11, 3, 0, 0, tzinfo=psycopg2.tz.FixedOffsetTimezone(offset=0, name=None)), 112, 1),\n",
       " (datetime.datetime(2018, 11, 18, 0, 0, tzinfo=psycopg2.tz.FixedOffsetTimezone(offset=0, name=None)), 1132, 2),\n",
       " (datetime.datetime(2017, 7, 12, 0, 0, tzinfo=psycopg2.tz.FixedOffsetTimezone(offset=0, name=None)), 1102, 1),\n",
       " (datetime.datetime(2019, 2, 5, 0, 0, tzinfo=psycopg2.tz.FixedOffsetTimezone(offset=0, name=None)), 1132, 1),\n",
       " (datetime.datetime(2018, 8, 21, 0, 0, tzinfo=psycopg2.tz.FixedOffsetTimezone(offset=0, name=None)), 1102, 2),\n",
       " (datetime.datetime(2019, 6, 5, 0, 0, tzinfo=psycopg2.tz.FixedOffsetTimezone(offset=0, name=None)), 1112, 1),\n",
       " (datetime.datetime(2018, 12, 5, 0, 0, tzinfo=psycopg2.tz.FixedOffsetTimezone(offset=0, name=None)), 1102, 2),\n",
       " (datetime.datetime(2019, 9, 22, 0, 0, tzinfo=psycopg2.tz.FixedOffsetTimezone(offset=0, name=None)), 1102, 1),\n",
       " (datetime.datetime(2017, 5, 4, 0, 0, tzinfo=psycopg2.tz.FixedOffsetTimezone(offset=0, name=None)), 1112, 2),\n",
       " (datetime.datetime(2019, 10, 10, 0, 0, tzinfo=psycopg2.tz.FixedOffsetTimezone(offset=0, name=None)), 1102, 1)]"
      ]
     },
     "execution_count": 204,
     "metadata": {},
     "output_type": "execute_result"
    }
   ],
   "source": [
    "%%sql\n",
    "SELECT TO_TIMESTAMP(sales_epoch),receipt_no,receipt_sub_no\n",
    "FROM receipt\n",
    "LIMIT 10"
   ]
  },
  {
   "cell_type": "markdown",
   "metadata": {},
   "source": [
    "---\n",
    "> S-049: レシート明細テーブル（receipt）の販売エポック秒（sales_epoch）を日付型に変換し、「年」だけ取り出してレシート番号(receipt_no)、レシートサブ番号（receipt_sub_no）とともに抽出せよ。データは10件を抽出すれば良い。"
   ]
  },
  {
   "cell_type": "code",
   "execution_count": 223,
   "metadata": {},
   "outputs": [
    {
     "name": "stdout",
     "output_type": "stream",
     "text": [
      " * postgresql://padawan:***@db:5432/dsdojo_db\n",
      "10 rows affected.\n"
     ]
    },
    {
     "data": {
      "text/html": [
       "<table>\n",
       "    <thead>\n",
       "        <tr>\n",
       "            <th>to_char</th>\n",
       "            <th>receipt_no</th>\n",
       "            <th>receipt_sub_no</th>\n",
       "        </tr>\n",
       "    </thead>\n",
       "    <tbody>\n",
       "        <tr>\n",
       "            <td>2018</td>\n",
       "            <td>112</td>\n",
       "            <td>1</td>\n",
       "        </tr>\n",
       "        <tr>\n",
       "            <td>2018</td>\n",
       "            <td>1132</td>\n",
       "            <td>2</td>\n",
       "        </tr>\n",
       "        <tr>\n",
       "            <td>2017</td>\n",
       "            <td>1102</td>\n",
       "            <td>1</td>\n",
       "        </tr>\n",
       "        <tr>\n",
       "            <td>2019</td>\n",
       "            <td>1132</td>\n",
       "            <td>1</td>\n",
       "        </tr>\n",
       "        <tr>\n",
       "            <td>2018</td>\n",
       "            <td>1102</td>\n",
       "            <td>2</td>\n",
       "        </tr>\n",
       "        <tr>\n",
       "            <td>2019</td>\n",
       "            <td>1112</td>\n",
       "            <td>1</td>\n",
       "        </tr>\n",
       "        <tr>\n",
       "            <td>2018</td>\n",
       "            <td>1102</td>\n",
       "            <td>2</td>\n",
       "        </tr>\n",
       "        <tr>\n",
       "            <td>2019</td>\n",
       "            <td>1102</td>\n",
       "            <td>1</td>\n",
       "        </tr>\n",
       "        <tr>\n",
       "            <td>2017</td>\n",
       "            <td>1112</td>\n",
       "            <td>2</td>\n",
       "        </tr>\n",
       "        <tr>\n",
       "            <td>2019</td>\n",
       "            <td>1102</td>\n",
       "            <td>1</td>\n",
       "        </tr>\n",
       "    </tbody>\n",
       "</table>"
      ],
      "text/plain": [
       "[('2018', 112, 1),\n",
       " ('2018', 1132, 2),\n",
       " ('2017', 1102, 1),\n",
       " ('2019', 1132, 1),\n",
       " ('2018', 1102, 2),\n",
       " ('2019', 1112, 1),\n",
       " ('2018', 1102, 2),\n",
       " ('2019', 1102, 1),\n",
       " ('2017', 1112, 2),\n",
       " ('2019', 1102, 1)]"
      ]
     },
     "execution_count": 223,
     "metadata": {},
     "output_type": "execute_result"
    }
   ],
   "source": [
    "%%sql\n",
    "SELECT \n",
    "    TO_CHAR(EXTRACT(YEAR FROM TO_TIMESTAMP(sales_epoch)),'FM9999'),\n",
    "    receipt_no,receipt_sub_no\n",
    "FROM receipt\n",
    "LIMIT 10"
   ]
  },
  {
   "cell_type": "markdown",
   "metadata": {},
   "source": [
    "---\n",
    "> S-050: レシート明細テーブル（receipt）の売上エポック秒（sales_epoch）を日付型に変換し、「月」だけ取り出してレシート番号(receipt_no)、レシートサブ番号（receipt_sub_no）とともに抽出せよ。なお、「月」は0埋め2桁で取り出すこと。データは10件を抽出すれば良い。"
   ]
  },
  {
   "cell_type": "code",
   "execution_count": 226,
   "metadata": {},
   "outputs": [
    {
     "name": "stdout",
     "output_type": "stream",
     "text": [
      " * postgresql://padawan:***@db:5432/dsdojo_db\n",
      "10 rows affected.\n"
     ]
    },
    {
     "data": {
      "text/html": [
       "<table>\n",
       "    <thead>\n",
       "        <tr>\n",
       "            <th>to_char</th>\n",
       "            <th>receipt_no</th>\n",
       "            <th>receipt_sub_no</th>\n",
       "        </tr>\n",
       "    </thead>\n",
       "    <tbody>\n",
       "        <tr>\n",
       "            <td>11</td>\n",
       "            <td>112</td>\n",
       "            <td>1</td>\n",
       "        </tr>\n",
       "        <tr>\n",
       "            <td>11</td>\n",
       "            <td>1132</td>\n",
       "            <td>2</td>\n",
       "        </tr>\n",
       "        <tr>\n",
       "            <td>07</td>\n",
       "            <td>1102</td>\n",
       "            <td>1</td>\n",
       "        </tr>\n",
       "        <tr>\n",
       "            <td>02</td>\n",
       "            <td>1132</td>\n",
       "            <td>1</td>\n",
       "        </tr>\n",
       "        <tr>\n",
       "            <td>08</td>\n",
       "            <td>1102</td>\n",
       "            <td>2</td>\n",
       "        </tr>\n",
       "        <tr>\n",
       "            <td>06</td>\n",
       "            <td>1112</td>\n",
       "            <td>1</td>\n",
       "        </tr>\n",
       "        <tr>\n",
       "            <td>12</td>\n",
       "            <td>1102</td>\n",
       "            <td>2</td>\n",
       "        </tr>\n",
       "        <tr>\n",
       "            <td>09</td>\n",
       "            <td>1102</td>\n",
       "            <td>1</td>\n",
       "        </tr>\n",
       "        <tr>\n",
       "            <td>05</td>\n",
       "            <td>1112</td>\n",
       "            <td>2</td>\n",
       "        </tr>\n",
       "        <tr>\n",
       "            <td>10</td>\n",
       "            <td>1102</td>\n",
       "            <td>1</td>\n",
       "        </tr>\n",
       "    </tbody>\n",
       "</table>"
      ],
      "text/plain": [
       "[('11', 112, 1),\n",
       " ('11', 1132, 2),\n",
       " ('07', 1102, 1),\n",
       " ('02', 1132, 1),\n",
       " ('08', 1102, 2),\n",
       " ('06', 1112, 1),\n",
       " ('12', 1102, 2),\n",
       " ('09', 1102, 1),\n",
       " ('05', 1112, 2),\n",
       " ('10', 1102, 1)]"
      ]
     },
     "execution_count": 226,
     "metadata": {},
     "output_type": "execute_result"
    }
   ],
   "source": [
    "%%sql\n",
    "SELECT \n",
    "    TO_CHAR(EXTRACT(MONTH FROM TO_TIMESTAMP(sales_epoch)),'FM00'),\n",
    "    receipt_no,receipt_sub_no\n",
    "FROM receipt\n",
    "LIMIT 10"
   ]
  },
  {
   "cell_type": "markdown",
   "metadata": {},
   "source": [
    "---\n",
    "> S-051: レシート明細テーブル（receipt）の売上エポック秒を日付型に変換し、「日」だけ取り出してレシート番号(receipt_no)、レシートサブ番号（receipt_sub_no）とともに抽出せよ。なお、「日」は0埋め2桁で取り出すこと。データは10件を抽出すれば良い。"
   ]
  },
  {
   "cell_type": "code",
   "execution_count": 231,
   "metadata": {},
   "outputs": [
    {
     "name": "stdout",
     "output_type": "stream",
     "text": [
      " * postgresql://padawan:***@db:5432/dsdojo_db\n",
      "10 rows affected.\n"
     ]
    },
    {
     "data": {
      "text/html": [
       "<table>\n",
       "    <thead>\n",
       "        <tr>\n",
       "            <th>sales_day</th>\n",
       "            <th>receipt_no</th>\n",
       "            <th>receipt_sub_no</th>\n",
       "        </tr>\n",
       "    </thead>\n",
       "    <tbody>\n",
       "        <tr>\n",
       "            <td>03</td>\n",
       "            <td>112</td>\n",
       "            <td>1</td>\n",
       "        </tr>\n",
       "        <tr>\n",
       "            <td>18</td>\n",
       "            <td>1132</td>\n",
       "            <td>2</td>\n",
       "        </tr>\n",
       "        <tr>\n",
       "            <td>12</td>\n",
       "            <td>1102</td>\n",
       "            <td>1</td>\n",
       "        </tr>\n",
       "        <tr>\n",
       "            <td>05</td>\n",
       "            <td>1132</td>\n",
       "            <td>1</td>\n",
       "        </tr>\n",
       "        <tr>\n",
       "            <td>21</td>\n",
       "            <td>1102</td>\n",
       "            <td>2</td>\n",
       "        </tr>\n",
       "        <tr>\n",
       "            <td>05</td>\n",
       "            <td>1112</td>\n",
       "            <td>1</td>\n",
       "        </tr>\n",
       "        <tr>\n",
       "            <td>05</td>\n",
       "            <td>1102</td>\n",
       "            <td>2</td>\n",
       "        </tr>\n",
       "        <tr>\n",
       "            <td>22</td>\n",
       "            <td>1102</td>\n",
       "            <td>1</td>\n",
       "        </tr>\n",
       "        <tr>\n",
       "            <td>04</td>\n",
       "            <td>1112</td>\n",
       "            <td>2</td>\n",
       "        </tr>\n",
       "        <tr>\n",
       "            <td>10</td>\n",
       "            <td>1102</td>\n",
       "            <td>1</td>\n",
       "        </tr>\n",
       "    </tbody>\n",
       "</table>"
      ],
      "text/plain": [
       "[('03', 112, 1),\n",
       " ('18', 1132, 2),\n",
       " ('12', 1102, 1),\n",
       " ('05', 1132, 1),\n",
       " ('21', 1102, 2),\n",
       " ('05', 1112, 1),\n",
       " ('05', 1102, 2),\n",
       " ('22', 1102, 1),\n",
       " ('04', 1112, 2),\n",
       " ('10', 1102, 1)]"
      ]
     },
     "execution_count": 231,
     "metadata": {},
     "output_type": "execute_result"
    }
   ],
   "source": [
    "%%sql\n",
    "SELECT \n",
    "    TO_CHAR(EXTRACT(DAY FROM TO_TIMESTAMP(sales_epoch)),'FM00') AS sales_day,\n",
    "    receipt_no,receipt_sub_no\n",
    "FROM receipt\n",
    "LIMIT 10"
   ]
  },
  {
   "cell_type": "markdown",
   "metadata": {},
   "source": [
    "# CASE, SUBSTR, LEAST"
   ]
  },
  {
   "cell_type": "markdown",
   "metadata": {},
   "source": [
    "---\n",
    "> S-052: レシート明細テーブル（re1ceipt）の売上金額（amount）を顧客ID（customer_id）ごとに合計の上、売上金額合計に対して2,000円以下を0、2,000円より大きい金額を1に2値化し、顧客ID、売上金額合計とともに10件表示せよ。ただし、顧客IDが\"Z\"から始まるのものは非会員を表すため、除外して計算すること。"
   ]
  },
  {
   "cell_type": "code",
   "execution_count": 238,
   "metadata": {},
   "outputs": [
    {
     "name": "stdout",
     "output_type": "stream",
     "text": [
      " * postgresql://padawan:***@db:5432/dsdojo_db\n",
      "10 rows affected.\n"
     ]
    },
    {
     "data": {
      "text/html": [
       "<table>\n",
       "    <thead>\n",
       "        <tr>\n",
       "            <th>customer_id</th>\n",
       "            <th>sum_amount</th>\n",
       "            <th>flg</th>\n",
       "        </tr>\n",
       "    </thead>\n",
       "    <tbody>\n",
       "        <tr>\n",
       "            <td>CS001311000059</td>\n",
       "            <td>2302</td>\n",
       "            <td>1</td>\n",
       "        </tr>\n",
       "        <tr>\n",
       "            <td>CS004614000122</td>\n",
       "            <td>248</td>\n",
       "            <td>0</td>\n",
       "        </tr>\n",
       "        <tr>\n",
       "            <td>CS003512000043</td>\n",
       "            <td>298</td>\n",
       "            <td>0</td>\n",
       "        </tr>\n",
       "        <tr>\n",
       "            <td>CS011615000061</td>\n",
       "            <td>246</td>\n",
       "            <td>0</td>\n",
       "        </tr>\n",
       "        <tr>\n",
       "            <td>CS029212000033</td>\n",
       "            <td>3604</td>\n",
       "            <td>1</td>\n",
       "        </tr>\n",
       "        <tr>\n",
       "            <td>CS007515000119</td>\n",
       "            <td>7157</td>\n",
       "            <td>1</td>\n",
       "        </tr>\n",
       "        <tr>\n",
       "            <td>CS034515000123</td>\n",
       "            <td>3699</td>\n",
       "            <td>1</td>\n",
       "        </tr>\n",
       "        <tr>\n",
       "            <td>CS004315000058</td>\n",
       "            <td>490</td>\n",
       "            <td>0</td>\n",
       "        </tr>\n",
       "        <tr>\n",
       "            <td>CS026414000014</td>\n",
       "            <td>6671</td>\n",
       "            <td>1</td>\n",
       "        </tr>\n",
       "        <tr>\n",
       "            <td>CS001615000099</td>\n",
       "            <td>768</td>\n",
       "            <td>0</td>\n",
       "        </tr>\n",
       "    </tbody>\n",
       "</table>"
      ],
      "text/plain": [
       "[('CS001311000059', 2302, 1),\n",
       " ('CS004614000122', 248, 0),\n",
       " ('CS003512000043', 298, 0),\n",
       " ('CS011615000061', 246, 0),\n",
       " ('CS029212000033', 3604, 1),\n",
       " ('CS007515000119', 7157, 1),\n",
       " ('CS034515000123', 3699, 1),\n",
       " ('CS004315000058', 490, 0),\n",
       " ('CS026414000014', 6671, 1),\n",
       " ('CS001615000099', 768, 0)]"
      ]
     },
     "execution_count": 238,
     "metadata": {},
     "output_type": "execute_result"
    }
   ],
   "source": [
    "%%sql\n",
    "SELECT \n",
    "    customer_id,SUM(amount) AS sum_amount, \n",
    "    CASE \n",
    "        WHEN SUM(amount)<=2000 THEN 0\n",
    "        ELSE 1\n",
    "    END AS FLG\n",
    "FROM receipt\n",
    "WHERE customer_id NOT LIKE'Z%'\n",
    "GROUP BY customer_id\n",
    "LIMIT 10"
   ]
  },
  {
   "cell_type": "markdown",
   "metadata": {},
   "source": [
    "---\n",
    "> S-053: 顧客テーブル（customer）の郵便番号（postal_cd）に対し、東京（先頭3桁が100〜209のもの）を1、それ以外のものを0に２値化せよ。さらにレシート明細テーブル（receipt）と結合し、全期間において売上実績がある顧客数を、作成した2値ごとにカウントせよ。"
   ]
  },
  {
   "cell_type": "code",
   "execution_count": 252,
   "metadata": {},
   "outputs": [
    {
     "name": "stdout",
     "output_type": "stream",
     "text": [
      " * postgresql://padawan:***@db:5432/dsdojo_db\n",
      "2 rows affected.\n"
     ]
    },
    {
     "data": {
      "text/html": [
       "<table>\n",
       "    <thead>\n",
       "        <tr>\n",
       "            <th>flg</th>\n",
       "            <th>count</th>\n",
       "        </tr>\n",
       "    </thead>\n",
       "    <tbody>\n",
       "        <tr>\n",
       "            <td>0</td>\n",
       "            <td>3906</td>\n",
       "        </tr>\n",
       "        <tr>\n",
       "            <td>1</td>\n",
       "            <td>4400</td>\n",
       "        </tr>\n",
       "    </tbody>\n",
       "</table>"
      ],
      "text/plain": [
       "[(0, 3906), (1, 4400)]"
      ]
     },
     "execution_count": 252,
     "metadata": {},
     "output_type": "execute_result"
    }
   ],
   "source": [
    "%%sql\n",
    "WITH \n",
    "post AS (\n",
    "    SELECT \n",
    "        customer_id,postal_cd,\n",
    "        CASE\n",
    "            WHEN CAST(SUBSTR(postal_cd,1,3) AS INTEGER)>=100 AND CAST(SUBSTR(postal_cd,1,3) AS INTEGER)<=209 THEN 1\n",
    "            ELSE 0\n",
    "        END AS flg\n",
    "    FROM customer\n",
    "),\n",
    "cust AS (\n",
    "    SELECT customer_id\n",
    "    FROM receipt\n",
    "    GROUP BY customer_id\n",
    ")\n",
    "SELECT flg,COUNT(post.customer_id)\n",
    "FROM post\n",
    "JOIN cust\n",
    "ON post.customer_id=cust.customer_id\n",
    "GROUP BY flg"
   ]
  },
  {
   "cell_type": "markdown",
   "metadata": {},
   "source": [
    "---\n",
    "> S-054: 顧客テーブル（customer）の住所（address）は、埼玉県、千葉県、東京都、神奈川県のいずれかとなっている。都道府県毎にコード値を作成し、顧客ID、住所とともに抽出せよ。値は埼玉県を11、千葉県を12、東京都を13、神奈川県を14とすること。結果は10件表示させれば良い。"
   ]
  },
  {
   "cell_type": "code",
   "execution_count": 255,
   "metadata": {},
   "outputs": [
    {
     "name": "stdout",
     "output_type": "stream",
     "text": [
      " * postgresql://padawan:***@db:5432/dsdojo_db\n",
      "10 rows affected.\n"
     ]
    },
    {
     "data": {
      "text/html": [
       "<table>\n",
       "    <thead>\n",
       "        <tr>\n",
       "            <th>customer_id</th>\n",
       "            <th>address</th>\n",
       "            <th>add_cd</th>\n",
       "        </tr>\n",
       "    </thead>\n",
       "    <tbody>\n",
       "        <tr>\n",
       "            <td>CS021313000114</td>\n",
       "            <td>神奈川県伊勢原市粟窪**********</td>\n",
       "            <td>14</td>\n",
       "        </tr>\n",
       "        <tr>\n",
       "            <td>CS037613000071</td>\n",
       "            <td>東京都江東区南砂**********</td>\n",
       "            <td>13</td>\n",
       "        </tr>\n",
       "        <tr>\n",
       "            <td>CS031415000172</td>\n",
       "            <td>東京都渋谷区代々木**********</td>\n",
       "            <td>13</td>\n",
       "        </tr>\n",
       "        <tr>\n",
       "            <td>CS028811000001</td>\n",
       "            <td>神奈川県横浜市泉区和泉町**********</td>\n",
       "            <td>14</td>\n",
       "        </tr>\n",
       "        <tr>\n",
       "            <td>CS001215000145</td>\n",
       "            <td>東京都大田区仲六郷**********</td>\n",
       "            <td>13</td>\n",
       "        </tr>\n",
       "        <tr>\n",
       "            <td>CS020401000016</td>\n",
       "            <td>東京都板橋区若木**********</td>\n",
       "            <td>13</td>\n",
       "        </tr>\n",
       "        <tr>\n",
       "            <td>CS015414000103</td>\n",
       "            <td>東京都江東区北砂**********</td>\n",
       "            <td>13</td>\n",
       "        </tr>\n",
       "        <tr>\n",
       "            <td>CS029403000008</td>\n",
       "            <td>千葉県浦安市海楽**********</td>\n",
       "            <td>12</td>\n",
       "        </tr>\n",
       "        <tr>\n",
       "            <td>CS015804000004</td>\n",
       "            <td>東京都江東区北砂**********</td>\n",
       "            <td>13</td>\n",
       "        </tr>\n",
       "        <tr>\n",
       "            <td>CS033513000180</td>\n",
       "            <td>神奈川県横浜市旭区善部町**********</td>\n",
       "            <td>14</td>\n",
       "        </tr>\n",
       "    </tbody>\n",
       "</table>"
      ],
      "text/plain": [
       "[('CS021313000114', '神奈川県伊勢原市粟窪**********', 14),\n",
       " ('CS037613000071', '東京都江東区南砂**********', 13),\n",
       " ('CS031415000172', '東京都渋谷区代々木**********', 13),\n",
       " ('CS028811000001', '神奈川県横浜市泉区和泉町**********', 14),\n",
       " ('CS001215000145', '東京都大田区仲六郷**********', 13),\n",
       " ('CS020401000016', '東京都板橋区若木**********', 13),\n",
       " ('CS015414000103', '東京都江東区北砂**********', 13),\n",
       " ('CS029403000008', '千葉県浦安市海楽**********', 12),\n",
       " ('CS015804000004', '東京都江東区北砂**********', 13),\n",
       " ('CS033513000180', '神奈川県横浜市旭区善部町**********', 14)]"
      ]
     },
     "execution_count": 255,
     "metadata": {},
     "output_type": "execute_result"
    }
   ],
   "source": [
    "%%sql\n",
    "SELECT\n",
    "    customer_id,address,\n",
    "    CASE SUBSTR(address,1,3)\n",
    "        WHEN '埼玉県' THEN 11\n",
    "        WHEN '千葉県' THEN 12\n",
    "        WHEN '東京都' THEN 13\n",
    "        WHEN '神奈川' THEN 14\n",
    "    END AS add_cd\n",
    "FROM customer\n",
    "LIMIT 10"
   ]
  },
  {
   "cell_type": "markdown",
   "metadata": {},
   "source": [
    "---\n",
    "> S-055: レシート明細テーブル（receipt）の売上金額（amount）を顧客ID（customer_id）ごとに合計し、その合計金額の四分位点を求めよ。その上で、顧客ごとの売上金額合計に対して以下の基準でカテゴリ値を作成し、顧客ID、売上金額合計とともに表示せよ。カテゴリ値は上から順に1〜4とする。結果は10件表示させれば良い。\n",
    ">\n",
    "> - 最小値以上第一四分位未満\n",
    "> - 第一四分位以上第二四分位未満\n",
    "> - 第二四分位以上第三四分位未満\n",
    "> - 第三四分位以上"
   ]
  },
  {
   "cell_type": "code",
   "execution_count": 269,
   "metadata": {},
   "outputs": [
    {
     "name": "stdout",
     "output_type": "stream",
     "text": [
      " * postgresql://padawan:***@db:5432/dsdojo_db\n",
      "10 rows affected.\n"
     ]
    },
    {
     "data": {
      "text/html": [
       "<table>\n",
       "    <thead>\n",
       "        <tr>\n",
       "            <th>customer_id</th>\n",
       "            <th>sum_amount</th>\n",
       "            <th>flg</th>\n",
       "        </tr>\n",
       "    </thead>\n",
       "    <tbody>\n",
       "        <tr>\n",
       "            <td>CS001311000059</td>\n",
       "            <td>2302</td>\n",
       "            <td>3</td>\n",
       "        </tr>\n",
       "        <tr>\n",
       "            <td>CS004614000122</td>\n",
       "            <td>248</td>\n",
       "            <td>1</td>\n",
       "        </tr>\n",
       "        <tr>\n",
       "            <td>CS003512000043</td>\n",
       "            <td>298</td>\n",
       "            <td>1</td>\n",
       "        </tr>\n",
       "        <tr>\n",
       "            <td>CS011615000061</td>\n",
       "            <td>246</td>\n",
       "            <td>1</td>\n",
       "        </tr>\n",
       "        <tr>\n",
       "            <td>CS029212000033</td>\n",
       "            <td>3604</td>\n",
       "            <td>3</td>\n",
       "        </tr>\n",
       "        <tr>\n",
       "            <td>CS007515000119</td>\n",
       "            <td>7157</td>\n",
       "            <td>4</td>\n",
       "        </tr>\n",
       "        <tr>\n",
       "            <td>CS034515000123</td>\n",
       "            <td>3699</td>\n",
       "            <td>4</td>\n",
       "        </tr>\n",
       "        <tr>\n",
       "            <td>CS004315000058</td>\n",
       "            <td>490</td>\n",
       "            <td>1</td>\n",
       "        </tr>\n",
       "        <tr>\n",
       "            <td>CS026414000014</td>\n",
       "            <td>6671</td>\n",
       "            <td>4</td>\n",
       "        </tr>\n",
       "        <tr>\n",
       "            <td>CS001615000099</td>\n",
       "            <td>768</td>\n",
       "            <td>2</td>\n",
       "        </tr>\n",
       "    </tbody>\n",
       "</table>"
      ],
      "text/plain": [
       "[('CS001311000059', 2302, 3),\n",
       " ('CS004614000122', 248, 1),\n",
       " ('CS003512000043', 298, 1),\n",
       " ('CS011615000061', 246, 1),\n",
       " ('CS029212000033', 3604, 3),\n",
       " ('CS007515000119', 7157, 4),\n",
       " ('CS034515000123', 3699, 4),\n",
       " ('CS004315000058', 490, 1),\n",
       " ('CS026414000014', 6671, 4),\n",
       " ('CS001615000099', 768, 2)]"
      ]
     },
     "execution_count": 269,
     "metadata": {},
     "output_type": "execute_result"
    }
   ],
   "source": [
    "%%sql\n",
    "WITH \n",
    "    s AS (\n",
    "        SELECT \n",
    "            customer_id,SUM(amount) AS sum_amount\n",
    "        FROM receipt\n",
    "        GROUP BY customer_id\n",
    "    ),\n",
    "    per AS (\n",
    "        SELECT\n",
    "            PERCENTILE_CONT(0.25) WITHIN GROUP (ORDER BY sum_amount) AS per25,\n",
    "            PERCENTILE_CONT(0.5) WITHIN GROUP (ORDER BY sum_amount) AS per50,\n",
    "            PERCENTILE_CONT(0.75) WITHIN GROUP (ORDER BY sum_amount) AS per75\n",
    "        FROM s\n",
    "    )\n",
    "SELECT \n",
    "    s.customer_id,s.sum_amount,\n",
    "    CASE \n",
    "        WHEN s.sum_amount<per.per25 THEN 1\n",
    "        WHEN s.sum_amount>=per.per25 AND s.sum_amount<per.per50 THEN 2\n",
    "        WHEN s.sum_amount>=per.per50 AND s.sum_amount<per.per75 THEN 3\n",
    "        WHEN s.sum_amount>=per.per75 THEN 4\n",
    "    END AS flg\n",
    "FROM s\n",
    "CROSS JOIN per\n",
    "LIMIT 10"
   ]
  },
  {
   "cell_type": "markdown",
   "metadata": {},
   "source": [
    "---\n",
    "> S-056: 顧客テーブル（customer）の年齢（age）をもとに10歳刻みで年代を算出し、顧客ID（customer_id）、生年月日（birth_day）とともに抽出せよ。ただし、60歳以上は全て60歳代とすること。年代を表すカテゴリ名は任意とする。先頭10件を表示させればよい。"
   ]
  },
  {
   "cell_type": "code",
   "execution_count": 281,
   "metadata": {},
   "outputs": [
    {
     "name": "stdout",
     "output_type": "stream",
     "text": [
      " * postgresql://padawan:***@db:5432/dsdojo_db\n",
      "10 rows affected.\n"
     ]
    },
    {
     "data": {
      "text/html": [
       "<table>\n",
       "    <thead>\n",
       "        <tr>\n",
       "            <th>customer_id</th>\n",
       "            <th>birth_day</th>\n",
       "            <th>era</th>\n",
       "        </tr>\n",
       "    </thead>\n",
       "    <tbody>\n",
       "        <tr>\n",
       "            <td>CS001105000001</td>\n",
       "            <td>2000-01-14</td>\n",
       "            <td>10</td>\n",
       "        </tr>\n",
       "        <tr>\n",
       "            <td>CS001112000009</td>\n",
       "            <td>2006-08-24</td>\n",
       "            <td>10</td>\n",
       "        </tr>\n",
       "        <tr>\n",
       "            <td>CS001112000019</td>\n",
       "            <td>2001-01-31</td>\n",
       "            <td>10</td>\n",
       "        </tr>\n",
       "        <tr>\n",
       "            <td>CS001112000021</td>\n",
       "            <td>2001-12-15</td>\n",
       "            <td>10</td>\n",
       "        </tr>\n",
       "        <tr>\n",
       "            <td>CS001112000023</td>\n",
       "            <td>2004-01-26</td>\n",
       "            <td>10</td>\n",
       "        </tr>\n",
       "        <tr>\n",
       "            <td>CS001112000024</td>\n",
       "            <td>2001-01-16</td>\n",
       "            <td>10</td>\n",
       "        </tr>\n",
       "        <tr>\n",
       "            <td>CS001112000029</td>\n",
       "            <td>2005-01-24</td>\n",
       "            <td>10</td>\n",
       "        </tr>\n",
       "        <tr>\n",
       "            <td>CS001112000030</td>\n",
       "            <td>2003-03-02</td>\n",
       "            <td>10</td>\n",
       "        </tr>\n",
       "        <tr>\n",
       "            <td>CS001113000004</td>\n",
       "            <td>2003-02-22</td>\n",
       "            <td>10</td>\n",
       "        </tr>\n",
       "        <tr>\n",
       "            <td>CS001113000010</td>\n",
       "            <td>2005-05-09</td>\n",
       "            <td>10</td>\n",
       "        </tr>\n",
       "    </tbody>\n",
       "</table>"
      ],
      "text/plain": [
       "[('CS001105000001', datetime.date(2000, 1, 14), 10),\n",
       " ('CS001112000009', datetime.date(2006, 8, 24), 10),\n",
       " ('CS001112000019', datetime.date(2001, 1, 31), 10),\n",
       " ('CS001112000021', datetime.date(2001, 12, 15), 10),\n",
       " ('CS001112000023', datetime.date(2004, 1, 26), 10),\n",
       " ('CS001112000024', datetime.date(2001, 1, 16), 10),\n",
       " ('CS001112000029', datetime.date(2005, 1, 24), 10),\n",
       " ('CS001112000030', datetime.date(2003, 3, 2), 10),\n",
       " ('CS001113000004', datetime.date(2003, 2, 22), 10),\n",
       " ('CS001113000010', datetime.date(2005, 5, 9), 10)]"
      ]
     },
     "execution_count": 281,
     "metadata": {},
     "output_type": "execute_result"
    }
   ],
   "source": [
    "%%sql\n",
    "SELECT \n",
    "    customer_id,birth_day,\n",
    "    LEAST(CAST(TRUNC(age/10)*10 AS INTEGER),60) AS era\n",
    "FROM customer\n",
    "GROUP BY customer_id\n",
    "LIMIT 10"
   ]
  },
  {
   "cell_type": "markdown",
   "metadata": {},
   "source": [
    "---\n",
    "> S-057: 前問題の抽出結果と性別（gender）を組み合わせ、新たに性別×年代の組み合わせを表すカテゴリデータを作成せよ。組み合わせを表すカテゴリの値は任意とする。先頭10件を表示させればよい。"
   ]
  },
  {
   "cell_type": "code",
   "execution_count": 284,
   "metadata": {},
   "outputs": [
    {
     "name": "stdout",
     "output_type": "stream",
     "text": [
      " * postgresql://padawan:***@db:5432/dsdojo_db\n",
      "10 rows affected.\n"
     ]
    },
    {
     "data": {
      "text/html": [
       "<table>\n",
       "    <thead>\n",
       "        <tr>\n",
       "            <th>customer_id</th>\n",
       "            <th>birth_day</th>\n",
       "            <th>era</th>\n",
       "        </tr>\n",
       "    </thead>\n",
       "    <tbody>\n",
       "        <tr>\n",
       "            <td>CS001105000001</td>\n",
       "            <td>2000-01-14</td>\n",
       "            <td>男性10</td>\n",
       "        </tr>\n",
       "        <tr>\n",
       "            <td>CS001112000009</td>\n",
       "            <td>2006-08-24</td>\n",
       "            <td>女性10</td>\n",
       "        </tr>\n",
       "        <tr>\n",
       "            <td>CS001112000019</td>\n",
       "            <td>2001-01-31</td>\n",
       "            <td>女性10</td>\n",
       "        </tr>\n",
       "        <tr>\n",
       "            <td>CS001112000021</td>\n",
       "            <td>2001-12-15</td>\n",
       "            <td>女性10</td>\n",
       "        </tr>\n",
       "        <tr>\n",
       "            <td>CS001112000023</td>\n",
       "            <td>2004-01-26</td>\n",
       "            <td>女性10</td>\n",
       "        </tr>\n",
       "        <tr>\n",
       "            <td>CS001112000024</td>\n",
       "            <td>2001-01-16</td>\n",
       "            <td>女性10</td>\n",
       "        </tr>\n",
       "        <tr>\n",
       "            <td>CS001112000029</td>\n",
       "            <td>2005-01-24</td>\n",
       "            <td>女性10</td>\n",
       "        </tr>\n",
       "        <tr>\n",
       "            <td>CS001112000030</td>\n",
       "            <td>2003-03-02</td>\n",
       "            <td>女性10</td>\n",
       "        </tr>\n",
       "        <tr>\n",
       "            <td>CS001113000004</td>\n",
       "            <td>2003-02-22</td>\n",
       "            <td>女性10</td>\n",
       "        </tr>\n",
       "        <tr>\n",
       "            <td>CS001113000010</td>\n",
       "            <td>2005-05-09</td>\n",
       "            <td>女性10</td>\n",
       "        </tr>\n",
       "    </tbody>\n",
       "</table>"
      ],
      "text/plain": [
       "[('CS001105000001', datetime.date(2000, 1, 14), '男性10'),\n",
       " ('CS001112000009', datetime.date(2006, 8, 24), '女性10'),\n",
       " ('CS001112000019', datetime.date(2001, 1, 31), '女性10'),\n",
       " ('CS001112000021', datetime.date(2001, 12, 15), '女性10'),\n",
       " ('CS001112000023', datetime.date(2004, 1, 26), '女性10'),\n",
       " ('CS001112000024', datetime.date(2001, 1, 16), '女性10'),\n",
       " ('CS001112000029', datetime.date(2005, 1, 24), '女性10'),\n",
       " ('CS001112000030', datetime.date(2003, 3, 2), '女性10'),\n",
       " ('CS001113000004', datetime.date(2003, 2, 22), '女性10'),\n",
       " ('CS001113000010', datetime.date(2005, 5, 9), '女性10')]"
      ]
     },
     "execution_count": 284,
     "metadata": {},
     "output_type": "execute_result"
    }
   ],
   "source": [
    "%%sql\n",
    "SELECT \n",
    "    customer_id,birth_day,\n",
    "    gender || LEAST(CAST(TRUNC(age/10)*10 AS INTEGER),60) AS era\n",
    "FROM customer\n",
    "GROUP BY customer_id\n",
    "LIMIT 10"
   ]
  },
  {
   "cell_type": "markdown",
   "metadata": {},
   "source": [
    "---\n",
    "> S-058: 顧客テーブル（customer）の性別コード（gender_cd）をダミー変数化し、顧客ID（customer_id）とともに抽出せよ。結果は10件表示させれば良い。"
   ]
  },
  {
   "cell_type": "code",
   "execution_count": 294,
   "metadata": {},
   "outputs": [
    {
     "name": "stdout",
     "output_type": "stream",
     "text": [
      " * postgresql://padawan:***@db:5432/dsdojo_db\n",
      "10 rows affected.\n"
     ]
    },
    {
     "data": {
      "text/html": [
       "<table>\n",
       "    <thead>\n",
       "        <tr>\n",
       "            <th>customer_id</th>\n",
       "            <th>male</th>\n",
       "            <th>female</th>\n",
       "            <th>unknown</th>\n",
       "        </tr>\n",
       "    </thead>\n",
       "    <tbody>\n",
       "        <tr>\n",
       "            <td>CS001105000001</td>\n",
       "            <td>1</td>\n",
       "            <td>0</td>\n",
       "            <td>0</td>\n",
       "        </tr>\n",
       "        <tr>\n",
       "            <td>CS001112000009</td>\n",
       "            <td>0</td>\n",
       "            <td>1</td>\n",
       "            <td>0</td>\n",
       "        </tr>\n",
       "        <tr>\n",
       "            <td>CS001112000019</td>\n",
       "            <td>0</td>\n",
       "            <td>1</td>\n",
       "            <td>0</td>\n",
       "        </tr>\n",
       "        <tr>\n",
       "            <td>CS001112000021</td>\n",
       "            <td>0</td>\n",
       "            <td>1</td>\n",
       "            <td>0</td>\n",
       "        </tr>\n",
       "        <tr>\n",
       "            <td>CS001112000023</td>\n",
       "            <td>0</td>\n",
       "            <td>1</td>\n",
       "            <td>0</td>\n",
       "        </tr>\n",
       "        <tr>\n",
       "            <td>CS001112000024</td>\n",
       "            <td>0</td>\n",
       "            <td>1</td>\n",
       "            <td>0</td>\n",
       "        </tr>\n",
       "        <tr>\n",
       "            <td>CS001112000029</td>\n",
       "            <td>0</td>\n",
       "            <td>1</td>\n",
       "            <td>0</td>\n",
       "        </tr>\n",
       "        <tr>\n",
       "            <td>CS001112000030</td>\n",
       "            <td>0</td>\n",
       "            <td>1</td>\n",
       "            <td>0</td>\n",
       "        </tr>\n",
       "        <tr>\n",
       "            <td>CS001113000004</td>\n",
       "            <td>0</td>\n",
       "            <td>1</td>\n",
       "            <td>0</td>\n",
       "        </tr>\n",
       "        <tr>\n",
       "            <td>CS001113000010</td>\n",
       "            <td>0</td>\n",
       "            <td>1</td>\n",
       "            <td>0</td>\n",
       "        </tr>\n",
       "    </tbody>\n",
       "</table>"
      ],
      "text/plain": [
       "[('CS001105000001', 1, 0, 0),\n",
       " ('CS001112000009', 0, 1, 0),\n",
       " ('CS001112000019', 0, 1, 0),\n",
       " ('CS001112000021', 0, 1, 0),\n",
       " ('CS001112000023', 0, 1, 0),\n",
       " ('CS001112000024', 0, 1, 0),\n",
       " ('CS001112000029', 0, 1, 0),\n",
       " ('CS001112000030', 0, 1, 0),\n",
       " ('CS001113000004', 0, 1, 0),\n",
       " ('CS001113000010', 0, 1, 0)]"
      ]
     },
     "execution_count": 294,
     "metadata": {},
     "output_type": "execute_result"
    }
   ],
   "source": [
    "%%sql\n",
    "SELECT \n",
    "    customer_id,\n",
    "    CASE gender_cd WHEN '0' THEN 1 ELSE 0 END AS male,\n",
    "    CASE gender_cd WHEN '1' THEN 1 ELSE 0 END AS female,\n",
    "    CASE gender_cd WHEN '9' THEN 1 ELSE 0 END AS unknown\n",
    "FROM customer\n",
    "GROUP BY customer_id\n",
    "LIMIT 10"
   ]
  },
  {
   "cell_type": "markdown",
   "metadata": {},
   "source": [
    "# 正規化"
   ]
  },
  {
   "cell_type": "markdown",
   "metadata": {},
   "source": [
    "---\n",
    "> S-059: レシート明細テーブル（receipt）の売上金額（amount）を顧客ID（customer_id）ごとに合計し、売上金額合計を平均0、標準偏差1に標準化して顧客ID、売上金額合計とともに表示せよ。標準化に使用する標準偏差は、不偏標準偏差と標本標準偏差のどちらでも良いものとする。ただし、顧客IDが\"Z\"から始まるのものは非会員を表すため、除外して計算すること。結果は10件表示させれば良い。"
   ]
  },
  {
   "cell_type": "code",
   "execution_count": 307,
   "metadata": {},
   "outputs": [
    {
     "name": "stdout",
     "output_type": "stream",
     "text": [
      " * postgresql://padawan:***@db:5432/dsdojo_db\n",
      "10 rows affected.\n"
     ]
    },
    {
     "data": {
      "text/html": [
       "<table>\n",
       "    <thead>\n",
       "        <tr>\n",
       "            <th>customer_id</th>\n",
       "            <th>sum_amount</th>\n",
       "            <th>reg</th>\n",
       "        </tr>\n",
       "    </thead>\n",
       "    <tbody>\n",
       "        <tr>\n",
       "            <td>CS001311000059</td>\n",
       "            <td>2302</td>\n",
       "            <td>-0.09032946448390523062</td>\n",
       "        </tr>\n",
       "        <tr>\n",
       "            <td>CS004614000122</td>\n",
       "            <td>248</td>\n",
       "            <td>-0.84533488878695858131</td>\n",
       "        </tr>\n",
       "        <tr>\n",
       "            <td>CS003512000043</td>\n",
       "            <td>298</td>\n",
       "            <td>-0.82695598361891930792</td>\n",
       "        </tr>\n",
       "        <tr>\n",
       "            <td>CS011615000061</td>\n",
       "            <td>246</td>\n",
       "            <td>-0.84607004499368015224</td>\n",
       "        </tr>\n",
       "        <tr>\n",
       "            <td>CS029212000033</td>\n",
       "            <td>3604</td>\n",
       "            <td>0.38825722609183744835</td>\n",
       "        </tr>\n",
       "        <tr>\n",
       "            <td>CS007515000119</td>\n",
       "            <td>7157</td>\n",
       "            <td>1.6942622273327082</td>\n",
       "        </tr>\n",
       "        <tr>\n",
       "            <td>CS034515000123</td>\n",
       "            <td>3699</td>\n",
       "            <td>0.42317714591111206778</td>\n",
       "        </tr>\n",
       "        <tr>\n",
       "            <td>CS004315000058</td>\n",
       "            <td>490</td>\n",
       "            <td>-0.75638098777364849812</td>\n",
       "        </tr>\n",
       "        <tr>\n",
       "            <td>CS026414000014</td>\n",
       "            <td>6671</td>\n",
       "            <td>1.5156192690993665</td>\n",
       "        </tr>\n",
       "        <tr>\n",
       "            <td>CS001615000099</td>\n",
       "            <td>768</td>\n",
       "            <td>-0.65419427503935013810</td>\n",
       "        </tr>\n",
       "    </tbody>\n",
       "</table>"
      ],
      "text/plain": [
       "[('CS001311000059', 2302, Decimal('-0.09032946448390523062')),\n",
       " ('CS004614000122', 248, Decimal('-0.84533488878695858131')),\n",
       " ('CS003512000043', 298, Decimal('-0.82695598361891930792')),\n",
       " ('CS011615000061', 246, Decimal('-0.84607004499368015224')),\n",
       " ('CS029212000033', 3604, Decimal('0.38825722609183744835')),\n",
       " ('CS007515000119', 7157, Decimal('1.6942622273327082')),\n",
       " ('CS034515000123', 3699, Decimal('0.42317714591111206778')),\n",
       " ('CS004315000058', 490, Decimal('-0.75638098777364849812')),\n",
       " ('CS026414000014', 6671, Decimal('1.5156192690993665')),\n",
       " ('CS001615000099', 768, Decimal('-0.65419427503935013810'))]"
      ]
     },
     "execution_count": 307,
     "metadata": {},
     "output_type": "execute_result"
    }
   ],
   "source": [
    "%%sql\n",
    "WITH \n",
    "cust_sum AS (\n",
    "    SELECT customer_id,SUM(amount) AS sum_amount\n",
    "    FROM receipt\n",
    "    WHERE customer_id NOT LIKE 'Z%'\n",
    "    GROUP BY customer_id\n",
    "),\n",
    "avg_std AS (\n",
    "    SELECT AVG(sum_amount) AS avg_amount,STDDEV_POP(sum_amount) AS std_amount\n",
    "    FROM cust_sum\n",
    ")\n",
    "SELECT customer_id,sum_amount,(sum_amount-avg_amount)/std_amount AS REG\n",
    "FROM cust_sum\n",
    "CROSS JOIN avg_std\n",
    "LIMIT 10"
   ]
  },
  {
   "cell_type": "markdown",
   "metadata": {},
   "source": [
    "---\n",
    "> S-060: レシート明細テーブル（receipt）の売上金額（amount）を顧客ID（customer_id）ごとに合計し、売上金額合計を最小値0、最大値1に正規化して顧客ID、売上金額合計とともに表示せよ。ただし、顧客IDが\"Z\"から始まるのものは非会員を表すため、除外して計算すること。結果は10件表示させれば良い。"
   ]
  },
  {
   "cell_type": "code",
   "execution_count": 309,
   "metadata": {},
   "outputs": [
    {
     "name": "stdout",
     "output_type": "stream",
     "text": [
      " * postgresql://padawan:***@db:5432/dsdojo_db\n",
      "10 rows affected.\n"
     ]
    },
    {
     "data": {
      "text/html": [
       "<table>\n",
       "    <thead>\n",
       "        <tr>\n",
       "            <th>customer_id</th>\n",
       "            <th>sum_amount</th>\n",
       "            <th>reg</th>\n",
       "        </tr>\n",
       "    </thead>\n",
       "    <tbody>\n",
       "        <tr>\n",
       "            <td>CS001311000059</td>\n",
       "            <td>2302</td>\n",
       "            <td>0.09697601668404588113</td>\n",
       "        </tr>\n",
       "        <tr>\n",
       "            <td>CS004614000122</td>\n",
       "            <td>248</td>\n",
       "            <td>0.00773375043448036149</td>\n",
       "        </tr>\n",
       "        <tr>\n",
       "            <td>CS003512000043</td>\n",
       "            <td>298</td>\n",
       "            <td>0.00990615224191866528</td>\n",
       "        </tr>\n",
       "        <tr>\n",
       "            <td>CS011615000061</td>\n",
       "            <td>246</td>\n",
       "            <td>0.00764685436218282934</td>\n",
       "        </tr>\n",
       "        <tr>\n",
       "            <td>CS029212000033</td>\n",
       "            <td>3604</td>\n",
       "            <td>0.15354535974973931178</td>\n",
       "        </tr>\n",
       "        <tr>\n",
       "            <td>CS007515000119</td>\n",
       "            <td>7157</td>\n",
       "            <td>0.30791623218630517901</td>\n",
       "        </tr>\n",
       "        <tr>\n",
       "            <td>CS034515000123</td>\n",
       "            <td>3699</td>\n",
       "            <td>0.15767292318387208898</td>\n",
       "        </tr>\n",
       "        <tr>\n",
       "            <td>CS004315000058</td>\n",
       "            <td>490</td>\n",
       "            <td>0.01824817518248175182</td>\n",
       "        </tr>\n",
       "        <tr>\n",
       "            <td>CS026414000014</td>\n",
       "            <td>6671</td>\n",
       "            <td>0.28680048661800486618</td>\n",
       "        </tr>\n",
       "        <tr>\n",
       "            <td>CS001615000099</td>\n",
       "            <td>768</td>\n",
       "            <td>0.03032672923183872089</td>\n",
       "        </tr>\n",
       "    </tbody>\n",
       "</table>"
      ],
      "text/plain": [
       "[('CS001311000059', 2302, Decimal('0.09697601668404588113')),\n",
       " ('CS004614000122', 248, Decimal('0.00773375043448036149')),\n",
       " ('CS003512000043', 298, Decimal('0.00990615224191866528')),\n",
       " ('CS011615000061', 246, Decimal('0.00764685436218282934')),\n",
       " ('CS029212000033', 3604, Decimal('0.15354535974973931178')),\n",
       " ('CS007515000119', 7157, Decimal('0.30791623218630517901')),\n",
       " ('CS034515000123', 3699, Decimal('0.15767292318387208898')),\n",
       " ('CS004315000058', 490, Decimal('0.01824817518248175182')),\n",
       " ('CS026414000014', 6671, Decimal('0.28680048661800486618')),\n",
       " ('CS001615000099', 768, Decimal('0.03032672923183872089'))]"
      ]
     },
     "execution_count": 309,
     "metadata": {},
     "output_type": "execute_result"
    }
   ],
   "source": [
    "%%sql\n",
    "WITH \n",
    "cust_sum AS (\n",
    "    SELECT customer_id,SUM(amount) AS sum_amount\n",
    "    FROM receipt\n",
    "    WHERE customer_id NOT LIKE 'Z%'\n",
    "    GROUP BY customer_id\n",
    "),\n",
    "avg_std AS (\n",
    "    SELECT MAX(sum_amount) AS max_amount,MIN(sum_amount) AS min_amount\n",
    "    FROM cust_sum\n",
    ")\n",
    "SELECT customer_id,sum_amount,(sum_amount-min_amount)*1.0/(max_amount-min_amount) AS REG\n",
    "FROM cust_sum\n",
    "CROSS JOIN avg_std\n",
    "LIMIT 10"
   ]
  },
  {
   "cell_type": "markdown",
   "metadata": {},
   "source": [
    "# 対数化"
   ]
  },
  {
   "cell_type": "markdown",
   "metadata": {},
   "source": [
    "---\n",
    "> S-061: レシート明細テーブル（receipt）の売上金額（amount）を顧客ID（customer_id）ごとに合計し、売上金額合計を常用対数化（底=10）して顧客ID、売上金額合計とともに表示せよ。ただし、顧客IDが\"Z\"から始まるのものは非会員を表すため、除外して計算すること。結果は10件表示させれば良い。"
   ]
  },
  {
   "cell_type": "code",
   "execution_count": 316,
   "metadata": {},
   "outputs": [
    {
     "name": "stdout",
     "output_type": "stream",
     "text": [
      " * postgresql://padawan:***@db:5432/dsdojo_db\n",
      "10 rows affected.\n"
     ]
    },
    {
     "data": {
      "text/html": [
       "<table>\n",
       "    <thead>\n",
       "        <tr>\n",
       "            <th>customer_id</th>\n",
       "            <th>sum</th>\n",
       "            <th>log</th>\n",
       "        </tr>\n",
       "    </thead>\n",
       "    <tbody>\n",
       "        <tr>\n",
       "            <td>CS001311000059</td>\n",
       "            <td>2302</td>\n",
       "            <td>3.362105319293773</td>\n",
       "        </tr>\n",
       "        <tr>\n",
       "            <td>CS004614000122</td>\n",
       "            <td>248</td>\n",
       "            <td>2.3944516808262164</td>\n",
       "        </tr>\n",
       "        <tr>\n",
       "            <td>CS003512000043</td>\n",
       "            <td>298</td>\n",
       "            <td>2.4742162640762553</td>\n",
       "        </tr>\n",
       "        <tr>\n",
       "            <td>CS011615000061</td>\n",
       "            <td>246</td>\n",
       "            <td>2.3909351071033793</td>\n",
       "        </tr>\n",
       "        <tr>\n",
       "            <td>CS029212000033</td>\n",
       "            <td>3604</td>\n",
       "            <td>3.5567847823070253</td>\n",
       "        </tr>\n",
       "        <tr>\n",
       "            <td>CS007515000119</td>\n",
       "            <td>7157</td>\n",
       "            <td>3.8547310172139424</td>\n",
       "        </tr>\n",
       "        <tr>\n",
       "            <td>CS034515000123</td>\n",
       "            <td>3699</td>\n",
       "            <td>3.568084331315394</td>\n",
       "        </tr>\n",
       "        <tr>\n",
       "            <td>CS004315000058</td>\n",
       "            <td>490</td>\n",
       "            <td>2.690196080028514</td>\n",
       "        </tr>\n",
       "        <tr>\n",
       "            <td>CS026414000014</td>\n",
       "            <td>6671</td>\n",
       "            <td>3.824190940652583</td>\n",
       "        </tr>\n",
       "        <tr>\n",
       "            <td>CS001615000099</td>\n",
       "            <td>768</td>\n",
       "            <td>2.885361220031512</td>\n",
       "        </tr>\n",
       "    </tbody>\n",
       "</table>"
      ],
      "text/plain": [
       "[('CS001311000059', 2302, 3.362105319293773),\n",
       " ('CS004614000122', 248, 2.3944516808262164),\n",
       " ('CS003512000043', 298, 2.4742162640762553),\n",
       " ('CS011615000061', 246, 2.3909351071033793),\n",
       " ('CS029212000033', 3604, 3.5567847823070253),\n",
       " ('CS007515000119', 7157, 3.8547310172139424),\n",
       " ('CS034515000123', 3699, 3.568084331315394),\n",
       " ('CS004315000058', 490, 2.690196080028514),\n",
       " ('CS026414000014', 6671, 3.824190940652583),\n",
       " ('CS001615000099', 768, 2.885361220031512)]"
      ]
     },
     "execution_count": 316,
     "metadata": {},
     "output_type": "execute_result"
    }
   ],
   "source": [
    "%%sql\n",
    "SELECT customer_id,SUM(amount),LOG(SUM(amount))\n",
    "FROM receipt\n",
    "WHERE customer_id NOT LIKE 'Z%'\n",
    "GROUP BY customer_id\n",
    "LIMIT 10"
   ]
  },
  {
   "cell_type": "markdown",
   "metadata": {},
   "source": [
    "---\n",
    "> S-062: レシート明細テーブル（receipt）の売上金額（amount）を顧客ID（customer_id）ごとに合計し、売上金額合計を自然対数化(底=e）して顧客ID、売上金額合計とともに表示せよ（ただし、顧客IDが\"Z\"から始まるのものは非会員を表すため、除外して計算すること）。結果は10件表示させれば良い。"
   ]
  },
  {
   "cell_type": "code",
   "execution_count": 317,
   "metadata": {},
   "outputs": [
    {
     "name": "stdout",
     "output_type": "stream",
     "text": [
      " * postgresql://padawan:***@db:5432/dsdojo_db\n",
      "10 rows affected.\n"
     ]
    },
    {
     "data": {
      "text/html": [
       "<table>\n",
       "    <thead>\n",
       "        <tr>\n",
       "            <th>customer_id</th>\n",
       "            <th>sum</th>\n",
       "            <th>ln</th>\n",
       "        </tr>\n",
       "    </thead>\n",
       "    <tbody>\n",
       "        <tr>\n",
       "            <td>CS001311000059</td>\n",
       "            <td>2302</td>\n",
       "            <td>7.741533589281828</td>\n",
       "        </tr>\n",
       "        <tr>\n",
       "            <td>CS004614000122</td>\n",
       "            <td>248</td>\n",
       "            <td>5.5134287461649825</td>\n",
       "        </tr>\n",
       "        <tr>\n",
       "            <td>CS003512000043</td>\n",
       "            <td>298</td>\n",
       "            <td>5.697093486505405</td>\n",
       "        </tr>\n",
       "        <tr>\n",
       "            <td>CS011615000061</td>\n",
       "            <td>246</td>\n",
       "            <td>5.5053315359323625</td>\n",
       "        </tr>\n",
       "        <tr>\n",
       "            <td>CS029212000033</td>\n",
       "            <td>3604</td>\n",
       "            <td>8.189799618728228</td>\n",
       "        </tr>\n",
       "        <tr>\n",
       "            <td>CS007515000119</td>\n",
       "            <td>7157</td>\n",
       "            <td>8.875846177738598</td>\n",
       "        </tr>\n",
       "        <tr>\n",
       "            <td>CS034515000123</td>\n",
       "            <td>3699</td>\n",
       "            <td>8.215817791832453</td>\n",
       "        </tr>\n",
       "        <tr>\n",
       "            <td>CS004315000058</td>\n",
       "            <td>490</td>\n",
       "            <td>6.194405391104672</td>\n",
       "        </tr>\n",
       "        <tr>\n",
       "            <td>CS026414000014</td>\n",
       "            <td>6671</td>\n",
       "            <td>8.805525052709516</td>\n",
       "        </tr>\n",
       "        <tr>\n",
       "            <td>CS001615000099</td>\n",
       "            <td>768</td>\n",
       "            <td>6.643789733147672</td>\n",
       "        </tr>\n",
       "    </tbody>\n",
       "</table>"
      ],
      "text/plain": [
       "[('CS001311000059', 2302, 7.741533589281828),\n",
       " ('CS004614000122', 248, 5.5134287461649825),\n",
       " ('CS003512000043', 298, 5.697093486505405),\n",
       " ('CS011615000061', 246, 5.5053315359323625),\n",
       " ('CS029212000033', 3604, 8.189799618728228),\n",
       " ('CS007515000119', 7157, 8.875846177738598),\n",
       " ('CS034515000123', 3699, 8.215817791832453),\n",
       " ('CS004315000058', 490, 6.194405391104672),\n",
       " ('CS026414000014', 6671, 8.805525052709516),\n",
       " ('CS001615000099', 768, 6.643789733147672)]"
      ]
     },
     "execution_count": 317,
     "metadata": {},
     "output_type": "execute_result"
    }
   ],
   "source": [
    "%%sql\n",
    "SELECT customer_id,SUM(amount),LN(SUM(amount))\n",
    "FROM receipt\n",
    "WHERE customer_id NOT LIKE 'Z%'\n",
    "GROUP BY customer_id\n",
    "LIMIT 10"
   ]
  },
  {
   "cell_type": "markdown",
   "metadata": {},
   "source": [
    "---\n",
    "> S-063: 商品テーブル（product）の単価（unit_price）と原価（unit_cost）から、各商品の利益額を算出せよ。結果は10件表示させれば良い。"
   ]
  },
  {
   "cell_type": "code",
   "execution_count": 319,
   "metadata": {},
   "outputs": [
    {
     "name": "stdout",
     "output_type": "stream",
     "text": [
      " * postgresql://padawan:***@db:5432/dsdojo_db\n",
      "10 rows affected.\n"
     ]
    },
    {
     "data": {
      "text/html": [
       "<table>\n",
       "    <thead>\n",
       "        <tr>\n",
       "            <th>product_cd</th>\n",
       "            <th>unit_price</th>\n",
       "            <th>unit_cost</th>\n",
       "            <th>?column?</th>\n",
       "        </tr>\n",
       "    </thead>\n",
       "    <tbody>\n",
       "        <tr>\n",
       "            <td>P040101001</td>\n",
       "            <td>198</td>\n",
       "            <td>149</td>\n",
       "            <td>49</td>\n",
       "        </tr>\n",
       "        <tr>\n",
       "            <td>P040101002</td>\n",
       "            <td>218</td>\n",
       "            <td>164</td>\n",
       "            <td>54</td>\n",
       "        </tr>\n",
       "        <tr>\n",
       "            <td>P040101003</td>\n",
       "            <td>230</td>\n",
       "            <td>173</td>\n",
       "            <td>57</td>\n",
       "        </tr>\n",
       "        <tr>\n",
       "            <td>P040101004</td>\n",
       "            <td>248</td>\n",
       "            <td>186</td>\n",
       "            <td>62</td>\n",
       "        </tr>\n",
       "        <tr>\n",
       "            <td>P040101005</td>\n",
       "            <td>268</td>\n",
       "            <td>201</td>\n",
       "            <td>67</td>\n",
       "        </tr>\n",
       "        <tr>\n",
       "            <td>P040101006</td>\n",
       "            <td>298</td>\n",
       "            <td>224</td>\n",
       "            <td>74</td>\n",
       "        </tr>\n",
       "        <tr>\n",
       "            <td>P040101007</td>\n",
       "            <td>338</td>\n",
       "            <td>254</td>\n",
       "            <td>84</td>\n",
       "        </tr>\n",
       "        <tr>\n",
       "            <td>P040101008</td>\n",
       "            <td>420</td>\n",
       "            <td>315</td>\n",
       "            <td>105</td>\n",
       "        </tr>\n",
       "        <tr>\n",
       "            <td>P040101009</td>\n",
       "            <td>498</td>\n",
       "            <td>374</td>\n",
       "            <td>124</td>\n",
       "        </tr>\n",
       "        <tr>\n",
       "            <td>P040101010</td>\n",
       "            <td>580</td>\n",
       "            <td>435</td>\n",
       "            <td>145</td>\n",
       "        </tr>\n",
       "    </tbody>\n",
       "</table>"
      ],
      "text/plain": [
       "[('P040101001', 198, 149, 49),\n",
       " ('P040101002', 218, 164, 54),\n",
       " ('P040101003', 230, 173, 57),\n",
       " ('P040101004', 248, 186, 62),\n",
       " ('P040101005', 268, 201, 67),\n",
       " ('P040101006', 298, 224, 74),\n",
       " ('P040101007', 338, 254, 84),\n",
       " ('P040101008', 420, 315, 105),\n",
       " ('P040101009', 498, 374, 124),\n",
       " ('P040101010', 580, 435, 145)]"
      ]
     },
     "execution_count": 319,
     "metadata": {},
     "output_type": "execute_result"
    }
   ],
   "source": [
    "%%sql\n",
    "SELECT product_cd,unit_price,unit_cost,unit_price-unit_cost\n",
    "FROM product\n",
    "LIMIT 10"
   ]
  },
  {
   "cell_type": "markdown",
   "metadata": {},
   "source": [
    "---\n",
    "> S-064: 商品テーブル（product）の単価（unit_price）と原価（unit_cost）から、各商品の利益率の全体平均を算出せよ。 ただし、単価と原価にはNULLが存在することに注意せよ。"
   ]
  },
  {
   "cell_type": "code",
   "execution_count": 323,
   "metadata": {},
   "outputs": [
    {
     "name": "stdout",
     "output_type": "stream",
     "text": [
      " * postgresql://padawan:***@db:5432/dsdojo_db\n",
      "1 rows affected.\n"
     ]
    },
    {
     "data": {
      "text/html": [
       "<table>\n",
       "    <thead>\n",
       "        <tr>\n",
       "            <th>avg</th>\n",
       "        </tr>\n",
       "    </thead>\n",
       "    <tbody>\n",
       "        <tr>\n",
       "            <td>0.24911389885177001279</td>\n",
       "        </tr>\n",
       "    </tbody>\n",
       "</table>"
      ],
      "text/plain": [
       "[(Decimal('0.24911389885177001279'),)]"
      ]
     },
     "execution_count": 323,
     "metadata": {},
     "output_type": "execute_result"
    }
   ],
   "source": [
    "%%sql\n",
    "SELECT AVG((unit_price*1.0-unit_cost)/unit_price)\n",
    "FROM product\n",
    "LIMIT 10"
   ]
  },
  {
   "cell_type": "markdown",
   "metadata": {},
   "source": [
    "---\n",
    "> S-065: 商品テーブル（product）の各商品について、利益率が30%となる新たな単価を求めよ。ただし、1円未満は切り捨てること。そして結果を10件表示させ、利益率がおよそ30％付近であることを確認せよ。ただし、単価（unit_price）と原価（unit_cost）にはNULLが存在することに注意せよ。"
   ]
  },
  {
   "cell_type": "code",
   "execution_count": 330,
   "metadata": {},
   "outputs": [
    {
     "name": "stdout",
     "output_type": "stream",
     "text": [
      " * postgresql://padawan:***@db:5432/dsdojo_db\n",
      "10 rows affected.\n"
     ]
    },
    {
     "data": {
      "text/html": [
       "<table>\n",
       "    <thead>\n",
       "        <tr>\n",
       "            <th>product_cd</th>\n",
       "            <th>new_unit_price</th>\n",
       "            <th>unit_cost</th>\n",
       "            <th>rate</th>\n",
       "        </tr>\n",
       "    </thead>\n",
       "    <tbody>\n",
       "        <tr>\n",
       "            <td>P040101001</td>\n",
       "            <td>212</td>\n",
       "            <td>149</td>\n",
       "            <td>0.29716981132075471698</td>\n",
       "        </tr>\n",
       "        <tr>\n",
       "            <td>P040101002</td>\n",
       "            <td>234</td>\n",
       "            <td>164</td>\n",
       "            <td>0.29914529914529914530</td>\n",
       "        </tr>\n",
       "        <tr>\n",
       "            <td>P040101003</td>\n",
       "            <td>247</td>\n",
       "            <td>173</td>\n",
       "            <td>0.29959514170040485830</td>\n",
       "        </tr>\n",
       "        <tr>\n",
       "            <td>P040101004</td>\n",
       "            <td>265</td>\n",
       "            <td>186</td>\n",
       "            <td>0.29811320754716981132</td>\n",
       "        </tr>\n",
       "        <tr>\n",
       "            <td>P040101005</td>\n",
       "            <td>287</td>\n",
       "            <td>201</td>\n",
       "            <td>0.29965156794425087108</td>\n",
       "        </tr>\n",
       "        <tr>\n",
       "            <td>P040101006</td>\n",
       "            <td>320</td>\n",
       "            <td>224</td>\n",
       "            <td>0.30000000000000000000</td>\n",
       "        </tr>\n",
       "        <tr>\n",
       "            <td>P040101007</td>\n",
       "            <td>362</td>\n",
       "            <td>254</td>\n",
       "            <td>0.29834254143646408840</td>\n",
       "        </tr>\n",
       "        <tr>\n",
       "            <td>P040101008</td>\n",
       "            <td>450</td>\n",
       "            <td>315</td>\n",
       "            <td>0.30000000000000000000</td>\n",
       "        </tr>\n",
       "        <tr>\n",
       "            <td>P040101009</td>\n",
       "            <td>534</td>\n",
       "            <td>374</td>\n",
       "            <td>0.29962546816479400749</td>\n",
       "        </tr>\n",
       "        <tr>\n",
       "            <td>P040101010</td>\n",
       "            <td>621</td>\n",
       "            <td>435</td>\n",
       "            <td>0.29951690821256038647</td>\n",
       "        </tr>\n",
       "    </tbody>\n",
       "</table>"
      ],
      "text/plain": [
       "[('P040101001', Decimal('212'), 149, Decimal('0.29716981132075471698')),\n",
       " ('P040101002', Decimal('234'), 164, Decimal('0.29914529914529914530')),\n",
       " ('P040101003', Decimal('247'), 173, Decimal('0.29959514170040485830')),\n",
       " ('P040101004', Decimal('265'), 186, Decimal('0.29811320754716981132')),\n",
       " ('P040101005', Decimal('287'), 201, Decimal('0.29965156794425087108')),\n",
       " ('P040101006', Decimal('320'), 224, Decimal('0.30000000000000000000')),\n",
       " ('P040101007', Decimal('362'), 254, Decimal('0.29834254143646408840')),\n",
       " ('P040101008', Decimal('450'), 315, Decimal('0.30000000000000000000')),\n",
       " ('P040101009', Decimal('534'), 374, Decimal('0.29962546816479400749')),\n",
       " ('P040101010', Decimal('621'), 435, Decimal('0.29951690821256038647'))]"
      ]
     },
     "execution_count": 330,
     "metadata": {},
     "output_type": "execute_result"
    }
   ],
   "source": [
    "%%sql\n",
    "WITH new_table AS (\n",
    "SELECT product_cd,TRUNC(unit_cost/0.7) AS new_unit_price,unit_cost\n",
    "FROM product\n",
    "LIMIT 10\n",
    ")\n",
    "\n",
    "SELECT product_cd,new_unit_price,unit_cost,(new_unit_price*1.0-unit_cost)/new_unit_price AS rate\n",
    "FROM new_table"
   ]
  },
  {
   "cell_type": "markdown",
   "metadata": {},
   "source": [
    "---\n",
    "> S-066: 商品テーブル（product）の各商品について、利益率が30%となる新たな単価を求めよ。今回は、1円未満を丸めること（四捨五入または偶数への丸めで良い）。そして結果を10件表示させ、利益率がおよそ30％付近であることを確認せよ。ただし、単価（unit_price）と原価（unit_cost）にはNULLが存在することに注意せよ。"
   ]
  },
  {
   "cell_type": "code",
   "execution_count": 333,
   "metadata": {},
   "outputs": [
    {
     "name": "stdout",
     "output_type": "stream",
     "text": [
      " * postgresql://padawan:***@db:5432/dsdojo_db\n",
      "10 rows affected.\n"
     ]
    },
    {
     "data": {
      "text/html": [
       "<table>\n",
       "    <thead>\n",
       "        <tr>\n",
       "            <th>new_unit_price</th>\n",
       "            <th>unit_cost</th>\n",
       "            <th>rate</th>\n",
       "        </tr>\n",
       "    </thead>\n",
       "    <tbody>\n",
       "        <tr>\n",
       "            <td>213</td>\n",
       "            <td>149</td>\n",
       "            <td>0.30046948356807511737</td>\n",
       "        </tr>\n",
       "        <tr>\n",
       "            <td>234</td>\n",
       "            <td>164</td>\n",
       "            <td>0.29914529914529914530</td>\n",
       "        </tr>\n",
       "        <tr>\n",
       "            <td>247</td>\n",
       "            <td>173</td>\n",
       "            <td>0.29959514170040485830</td>\n",
       "        </tr>\n",
       "        <tr>\n",
       "            <td>266</td>\n",
       "            <td>186</td>\n",
       "            <td>0.30075187969924812030</td>\n",
       "        </tr>\n",
       "        <tr>\n",
       "            <td>287</td>\n",
       "            <td>201</td>\n",
       "            <td>0.29965156794425087108</td>\n",
       "        </tr>\n",
       "        <tr>\n",
       "            <td>320</td>\n",
       "            <td>224</td>\n",
       "            <td>0.30000000000000000000</td>\n",
       "        </tr>\n",
       "        <tr>\n",
       "            <td>363</td>\n",
       "            <td>254</td>\n",
       "            <td>0.30027548209366391185</td>\n",
       "        </tr>\n",
       "        <tr>\n",
       "            <td>450</td>\n",
       "            <td>315</td>\n",
       "            <td>0.30000000000000000000</td>\n",
       "        </tr>\n",
       "        <tr>\n",
       "            <td>534</td>\n",
       "            <td>374</td>\n",
       "            <td>0.29962546816479400749</td>\n",
       "        </tr>\n",
       "        <tr>\n",
       "            <td>621</td>\n",
       "            <td>435</td>\n",
       "            <td>0.29951690821256038647</td>\n",
       "        </tr>\n",
       "    </tbody>\n",
       "</table>"
      ],
      "text/plain": [
       "[(Decimal('213'), 149, Decimal('0.30046948356807511737')),\n",
       " (Decimal('234'), 164, Decimal('0.29914529914529914530')),\n",
       " (Decimal('247'), 173, Decimal('0.29959514170040485830')),\n",
       " (Decimal('266'), 186, Decimal('0.30075187969924812030')),\n",
       " (Decimal('287'), 201, Decimal('0.29965156794425087108')),\n",
       " (Decimal('320'), 224, Decimal('0.30000000000000000000')),\n",
       " (Decimal('363'), 254, Decimal('0.30027548209366391185')),\n",
       " (Decimal('450'), 315, Decimal('0.30000000000000000000')),\n",
       " (Decimal('534'), 374, Decimal('0.29962546816479400749')),\n",
       " (Decimal('621'), 435, Decimal('0.29951690821256038647'))]"
      ]
     },
     "execution_count": 333,
     "metadata": {},
     "output_type": "execute_result"
    }
   ],
   "source": [
    "%%sql\n",
    "WITH new_table AS (\n",
    "    SELECT ROUND(unit_cost/0.7) AS new_unit_price, unit_cost\n",
    "    FROM product\n",
    ")\n",
    "SELECT new_unit_price,unit_cost,(new_unit_price-unit_cost)/new_unit_price AS rate\n",
    "FROM new_table\n",
    "LIMIT 10"
   ]
  },
  {
   "cell_type": "markdown",
   "metadata": {},
   "source": [
    "---\n",
    "> S-067: 商品テーブル（product）の各商品について、利益率が30%となる新たな単価を求めよ。今回は、1円未満を切り上げること。そして結果を10件表示させ、利益率がおよそ30％付近であることを確認せよ。ただし、単価（unit_price）と原価（unit_cost）にはNULLが存在することに注意せよ。"
   ]
  },
  {
   "cell_type": "code",
   "execution_count": 334,
   "metadata": {},
   "outputs": [
    {
     "name": "stdout",
     "output_type": "stream",
     "text": [
      " * postgresql://padawan:***@db:5432/dsdojo_db\n",
      "10 rows affected.\n"
     ]
    },
    {
     "data": {
      "text/html": [
       "<table>\n",
       "    <thead>\n",
       "        <tr>\n",
       "            <th>new_unit_price</th>\n",
       "            <th>unit_cost</th>\n",
       "            <th>rate</th>\n",
       "        </tr>\n",
       "    </thead>\n",
       "    <tbody>\n",
       "        <tr>\n",
       "            <td>213</td>\n",
       "            <td>149</td>\n",
       "            <td>0.30046948356807511737</td>\n",
       "        </tr>\n",
       "        <tr>\n",
       "            <td>235</td>\n",
       "            <td>164</td>\n",
       "            <td>0.30212765957446808511</td>\n",
       "        </tr>\n",
       "        <tr>\n",
       "            <td>248</td>\n",
       "            <td>173</td>\n",
       "            <td>0.30241935483870967742</td>\n",
       "        </tr>\n",
       "        <tr>\n",
       "            <td>266</td>\n",
       "            <td>186</td>\n",
       "            <td>0.30075187969924812030</td>\n",
       "        </tr>\n",
       "        <tr>\n",
       "            <td>288</td>\n",
       "            <td>201</td>\n",
       "            <td>0.30208333333333333333</td>\n",
       "        </tr>\n",
       "        <tr>\n",
       "            <td>320</td>\n",
       "            <td>224</td>\n",
       "            <td>0.30000000000000000000</td>\n",
       "        </tr>\n",
       "        <tr>\n",
       "            <td>363</td>\n",
       "            <td>254</td>\n",
       "            <td>0.30027548209366391185</td>\n",
       "        </tr>\n",
       "        <tr>\n",
       "            <td>450</td>\n",
       "            <td>315</td>\n",
       "            <td>0.30000000000000000000</td>\n",
       "        </tr>\n",
       "        <tr>\n",
       "            <td>535</td>\n",
       "            <td>374</td>\n",
       "            <td>0.30093457943925233645</td>\n",
       "        </tr>\n",
       "        <tr>\n",
       "            <td>622</td>\n",
       "            <td>435</td>\n",
       "            <td>0.30064308681672025723</td>\n",
       "        </tr>\n",
       "    </tbody>\n",
       "</table>"
      ],
      "text/plain": [
       "[(Decimal('213'), 149, Decimal('0.30046948356807511737')),\n",
       " (Decimal('235'), 164, Decimal('0.30212765957446808511')),\n",
       " (Decimal('248'), 173, Decimal('0.30241935483870967742')),\n",
       " (Decimal('266'), 186, Decimal('0.30075187969924812030')),\n",
       " (Decimal('288'), 201, Decimal('0.30208333333333333333')),\n",
       " (Decimal('320'), 224, Decimal('0.30000000000000000000')),\n",
       " (Decimal('363'), 254, Decimal('0.30027548209366391185')),\n",
       " (Decimal('450'), 315, Decimal('0.30000000000000000000')),\n",
       " (Decimal('535'), 374, Decimal('0.30093457943925233645')),\n",
       " (Decimal('622'), 435, Decimal('0.30064308681672025723'))]"
      ]
     },
     "execution_count": 334,
     "metadata": {},
     "output_type": "execute_result"
    }
   ],
   "source": [
    "%%sql\n",
    "WITH new_table AS (\n",
    "    SELECT CEIL(unit_cost/0.7) AS new_unit_price, unit_cost\n",
    "    FROM product\n",
    ")\n",
    "SELECT new_unit_price,unit_cost,(new_unit_price-unit_cost)/new_unit_price AS rate\n",
    "FROM new_table\n",
    "LIMIT 10"
   ]
  },
  {
   "cell_type": "markdown",
   "metadata": {},
   "source": [
    "---\n",
    "> S-068: 商品テーブル（product）の各商品について、消費税率10%の税込み金額を求めよ。 1円未満の端数は切り捨てとし、結果は10件表示すれば良い。ただし、単価（unit_price）にはNULLが存在することに注意せよ。"
   ]
  },
  {
   "cell_type": "code",
   "execution_count": 337,
   "metadata": {},
   "outputs": [
    {
     "name": "stdout",
     "output_type": "stream",
     "text": [
      " * postgresql://padawan:***@db:5432/dsdojo_db\n",
      "10 rows affected.\n"
     ]
    },
    {
     "data": {
      "text/html": [
       "<table>\n",
       "    <thead>\n",
       "        <tr>\n",
       "            <th>product_cd</th>\n",
       "            <th>trunc</th>\n",
       "        </tr>\n",
       "    </thead>\n",
       "    <tbody>\n",
       "        <tr>\n",
       "            <td>P040101001</td>\n",
       "            <td>217</td>\n",
       "        </tr>\n",
       "        <tr>\n",
       "            <td>P040101002</td>\n",
       "            <td>239</td>\n",
       "        </tr>\n",
       "        <tr>\n",
       "            <td>P040101003</td>\n",
       "            <td>253</td>\n",
       "        </tr>\n",
       "        <tr>\n",
       "            <td>P040101004</td>\n",
       "            <td>272</td>\n",
       "        </tr>\n",
       "        <tr>\n",
       "            <td>P040101005</td>\n",
       "            <td>294</td>\n",
       "        </tr>\n",
       "        <tr>\n",
       "            <td>P040101006</td>\n",
       "            <td>327</td>\n",
       "        </tr>\n",
       "        <tr>\n",
       "            <td>P040101007</td>\n",
       "            <td>371</td>\n",
       "        </tr>\n",
       "        <tr>\n",
       "            <td>P040101008</td>\n",
       "            <td>462</td>\n",
       "        </tr>\n",
       "        <tr>\n",
       "            <td>P040101009</td>\n",
       "            <td>547</td>\n",
       "        </tr>\n",
       "        <tr>\n",
       "            <td>P040101010</td>\n",
       "            <td>638</td>\n",
       "        </tr>\n",
       "    </tbody>\n",
       "</table>"
      ],
      "text/plain": [
       "[('P040101001', Decimal('217')),\n",
       " ('P040101002', Decimal('239')),\n",
       " ('P040101003', Decimal('253')),\n",
       " ('P040101004', Decimal('272')),\n",
       " ('P040101005', Decimal('294')),\n",
       " ('P040101006', Decimal('327')),\n",
       " ('P040101007', Decimal('371')),\n",
       " ('P040101008', Decimal('462')),\n",
       " ('P040101009', Decimal('547')),\n",
       " ('P040101010', Decimal('638'))]"
      ]
     },
     "execution_count": 337,
     "metadata": {},
     "output_type": "execute_result"
    }
   ],
   "source": [
    "%%sql\n",
    "SELECT product_cd,TRUNC(unit_price*1.1)\n",
    "FROM product\n",
    "LIMIT 10"
   ]
  },
  {
   "cell_type": "markdown",
   "metadata": {},
   "source": [
    "---\n",
    "> S-069: レシート明細テーブル（receipt）と商品テーブル（product）を結合し、顧客毎に全商品の売上金額合計と、カテゴリ大区分（category_major_cd）が\"07\"（瓶詰缶詰）の売上金額合計を計算の上、両者の比率を求めよ。抽出対象はカテゴリ大区分\"07\"（瓶詰缶詰）の売上実績がある顧客のみとし、結果は10件表示させればよい。"
   ]
  },
  {
   "cell_type": "code",
   "execution_count": 346,
   "metadata": {},
   "outputs": [
    {
     "name": "stdout",
     "output_type": "stream",
     "text": [
      " * postgresql://padawan:***@db:5432/dsdojo_db\n",
      "10 rows affected.\n"
     ]
    },
    {
     "data": {
      "text/html": [
       "<table>\n",
       "    <thead>\n",
       "        <tr>\n",
       "            <th>customer_id</th>\n",
       "            <th>amo_all</th>\n",
       "            <th>amo_07</th>\n",
       "            <th>rate</th>\n",
       "        </tr>\n",
       "    </thead>\n",
       "    <tbody>\n",
       "        <tr>\n",
       "            <td>CS001311000059</td>\n",
       "            <td>2302</td>\n",
       "            <td>102</td>\n",
       "            <td>0.04430929626411815812</td>\n",
       "        </tr>\n",
       "        <tr>\n",
       "            <td>CS011615000061</td>\n",
       "            <td>246</td>\n",
       "            <td>98</td>\n",
       "            <td>0.39837398373983739837</td>\n",
       "        </tr>\n",
       "        <tr>\n",
       "            <td>CS029212000033</td>\n",
       "            <td>3604</td>\n",
       "            <td>3604</td>\n",
       "            <td>1.00000000000000000000</td>\n",
       "        </tr>\n",
       "        <tr>\n",
       "            <td>CS007515000119</td>\n",
       "            <td>7157</td>\n",
       "            <td>2832</td>\n",
       "            <td>0.39569652088864049183</td>\n",
       "        </tr>\n",
       "        <tr>\n",
       "            <td>CS034515000123</td>\n",
       "            <td>3699</td>\n",
       "            <td>1202</td>\n",
       "            <td>0.32495268991619356583</td>\n",
       "        </tr>\n",
       "        <tr>\n",
       "            <td>CS026414000014</td>\n",
       "            <td>6671</td>\n",
       "            <td>3142</td>\n",
       "            <td>0.47099385399490331285</td>\n",
       "        </tr>\n",
       "        <tr>\n",
       "            <td>CS001615000099</td>\n",
       "            <td>768</td>\n",
       "            <td>318</td>\n",
       "            <td>0.41406250000000000000</td>\n",
       "        </tr>\n",
       "        <tr>\n",
       "            <td>CS010515000082</td>\n",
       "            <td>1482</td>\n",
       "            <td>553</td>\n",
       "            <td>0.37314439946018893387</td>\n",
       "        </tr>\n",
       "        <tr>\n",
       "            <td>CS019315000045</td>\n",
       "            <td>813</td>\n",
       "            <td>380</td>\n",
       "            <td>0.46740467404674046740</td>\n",
       "        </tr>\n",
       "        <tr>\n",
       "            <td>CS008513000099</td>\n",
       "            <td>1322</td>\n",
       "            <td>210</td>\n",
       "            <td>0.15885022692889561271</td>\n",
       "        </tr>\n",
       "    </tbody>\n",
       "</table>"
      ],
      "text/plain": [
       "[('CS001311000059', 2302, 102, Decimal('0.04430929626411815812')),\n",
       " ('CS011615000061', 246, 98, Decimal('0.39837398373983739837')),\n",
       " ('CS029212000033', 3604, 3604, Decimal('1.00000000000000000000')),\n",
       " ('CS007515000119', 7157, 2832, Decimal('0.39569652088864049183')),\n",
       " ('CS034515000123', 3699, 1202, Decimal('0.32495268991619356583')),\n",
       " ('CS026414000014', 6671, 3142, Decimal('0.47099385399490331285')),\n",
       " ('CS001615000099', 768, 318, Decimal('0.41406250000000000000')),\n",
       " ('CS010515000082', 1482, 553, Decimal('0.37314439946018893387')),\n",
       " ('CS019315000045', 813, 380, Decimal('0.46740467404674046740')),\n",
       " ('CS008513000099', 1322, 210, Decimal('0.15885022692889561271'))]"
      ]
     },
     "execution_count": 346,
     "metadata": {},
     "output_type": "execute_result"
    }
   ],
   "source": [
    "%%sql\n",
    "WITH\n",
    "amount_all AS ( \n",
    "    SELECT customer_id,SUM(amount) AS amo_all\n",
    "    FROM receipt\n",
    "    GROUP BY customer_id\n",
    "),\n",
    "amount_07 AS ( \n",
    "    SELECT customer_id,SUM(amount) AS amo_07\n",
    "    FROM receipt AS r\n",
    "    JOIN product AS p\n",
    "    ON r.product_cd=p.product_cd AND p.category_major_cd='07'\n",
    "    GROUP BY customer_id\n",
    ")\n",
    "\n",
    "SELECT amount_all.customer_id,amount_all.amo_all,amount_07.amo_07,amount_07.amo_07*1.0/amount_all.amo_all AS rate\n",
    "FROM amount_all\n",
    "JOIN amount_07 \n",
    "ON amount_all.customer_id=amount_07.customer_id\n",
    "LIMIT 10"
   ]
  },
  {
   "cell_type": "markdown",
   "metadata": {},
   "source": [
    "---\n",
    "> S-070: レシート明細テーブル（receipt）の売上日（sales_ymd）に対し、顧客テーブル（customer）の会員申込日（application_date）からの経過日数を計算し、顧客ID（customer_id）、売上日、会員申込日とともに表示せよ。結果は10件表示させれば良い（なお、sales_ymdは数値、application_dateは文字列でデータを保持している点に注意）。"
   ]
  },
  {
   "cell_type": "code",
   "execution_count": 350,
   "metadata": {},
   "outputs": [
    {
     "name": "stdout",
     "output_type": "stream",
     "text": [
      " * postgresql://padawan:***@db:5432/dsdojo_db\n",
      "10 rows affected.\n"
     ]
    },
    {
     "data": {
      "text/html": [
       "<table>\n",
       "    <thead>\n",
       "        <tr>\n",
       "            <th>customer_id</th>\n",
       "            <th>sales_ymd</th>\n",
       "            <th>application_date</th>\n",
       "            <th>extract</th>\n",
       "        </tr>\n",
       "    </thead>\n",
       "    <tbody>\n",
       "        <tr>\n",
       "            <td>CS006214000001</td>\n",
       "            <td>20181103</td>\n",
       "            <td>20150201</td>\n",
       "            <td>1371</td>\n",
       "        </tr>\n",
       "        <tr>\n",
       "            <td>CS008415000097</td>\n",
       "            <td>20181118</td>\n",
       "            <td>20150322</td>\n",
       "            <td>1337</td>\n",
       "        </tr>\n",
       "        <tr>\n",
       "            <td>CS028414000014</td>\n",
       "            <td>20170712</td>\n",
       "            <td>20150711</td>\n",
       "            <td>732</td>\n",
       "        </tr>\n",
       "        <tr>\n",
       "            <td>CS025415000050</td>\n",
       "            <td>20180821</td>\n",
       "            <td>20160131</td>\n",
       "            <td>933</td>\n",
       "        </tr>\n",
       "        <tr>\n",
       "            <td>CS003515000195</td>\n",
       "            <td>20190605</td>\n",
       "            <td>20150306</td>\n",
       "            <td>1552</td>\n",
       "        </tr>\n",
       "        <tr>\n",
       "            <td>CS024514000042</td>\n",
       "            <td>20181205</td>\n",
       "            <td>20151010</td>\n",
       "            <td>1152</td>\n",
       "        </tr>\n",
       "        <tr>\n",
       "            <td>CS040415000178</td>\n",
       "            <td>20190922</td>\n",
       "            <td>20150627</td>\n",
       "            <td>1548</td>\n",
       "        </tr>\n",
       "        <tr>\n",
       "            <td>CS027514000015</td>\n",
       "            <td>20191010</td>\n",
       "            <td>20151101</td>\n",
       "            <td>1439</td>\n",
       "        </tr>\n",
       "        <tr>\n",
       "            <td>CS025415000134</td>\n",
       "            <td>20190918</td>\n",
       "            <td>20150720</td>\n",
       "            <td>1521</td>\n",
       "        </tr>\n",
       "        <tr>\n",
       "            <td>CS021515000126</td>\n",
       "            <td>20171010</td>\n",
       "            <td>20150508</td>\n",
       "            <td>886</td>\n",
       "        </tr>\n",
       "    </tbody>\n",
       "</table>"
      ],
      "text/plain": [
       "[('CS006214000001', 20181103, '20150201', Decimal('1371')),\n",
       " ('CS008415000097', 20181118, '20150322', Decimal('1337')),\n",
       " ('CS028414000014', 20170712, '20150711', Decimal('732')),\n",
       " ('CS025415000050', 20180821, '20160131', Decimal('933')),\n",
       " ('CS003515000195', 20190605, '20150306', Decimal('1552')),\n",
       " ('CS024514000042', 20181205, '20151010', Decimal('1152')),\n",
       " ('CS040415000178', 20190922, '20150627', Decimal('1548')),\n",
       " ('CS027514000015', 20191010, '20151101', Decimal('1439')),\n",
       " ('CS025415000134', 20190918, '20150720', Decimal('1521')),\n",
       " ('CS021515000126', 20171010, '20150508', Decimal('886'))]"
      ]
     },
     "execution_count": 350,
     "metadata": {},
     "output_type": "execute_result"
    }
   ],
   "source": [
    "%%sql\n",
    "SELECT \n",
    "    r.customer_id,r.sales_ymd,c.application_date,\n",
    "    EXTRACT (DAY FROM TO_TIMESTAMP(CAST(r.sales_ymd AS VARCHAR),'YYYYMMDD')-TO_TIMESTAMP(c.application_date,'YYYYMMDD'))\n",
    "FROM receipt AS r\n",
    "JOIN customer AS c\n",
    "ON r.customer_id= c.customer_id\n",
    "LIMIT 10"
   ]
  },
  {
   "cell_type": "markdown",
   "metadata": {},
   "source": [
    "---\n",
    "> S-071: レシート明細テーブル（receipt）の売上日（sales_ymd）に対し、顧客テーブル（customer）の会員申込日（application_date）からの経過月数を計算し、顧客ID（customer_id）、売上日、会員申込日とともに表示せよ。結果は10件表示させれば良い（なお、sales_ymdは数値、application_dateは文字列でデータを保持している点に注意）。1ヶ月未満は切り捨てること。"
   ]
  },
  {
   "cell_type": "code",
   "execution_count": 363,
   "metadata": {},
   "outputs": [
    {
     "name": "stdout",
     "output_type": "stream",
     "text": [
      " * postgresql://padawan:***@db:5432/dsdojo_db\n",
      "10 rows affected.\n"
     ]
    },
    {
     "data": {
      "text/html": [
       "<table>\n",
       "    <thead>\n",
       "        <tr>\n",
       "            <th>customer_id</th>\n",
       "            <th>sales_ymd</th>\n",
       "            <th>application_date</th>\n",
       "            <th>month</th>\n",
       "        </tr>\n",
       "    </thead>\n",
       "    <tbody>\n",
       "        <tr>\n",
       "            <td>CS006214000001</td>\n",
       "            <td>20181103</td>\n",
       "            <td>20150201</td>\n",
       "            <td>45</td>\n",
       "        </tr>\n",
       "        <tr>\n",
       "            <td>CS008415000097</td>\n",
       "            <td>20181118</td>\n",
       "            <td>20150322</td>\n",
       "            <td>43</td>\n",
       "        </tr>\n",
       "        <tr>\n",
       "            <td>CS028414000014</td>\n",
       "            <td>20170712</td>\n",
       "            <td>20150711</td>\n",
       "            <td>24</td>\n",
       "        </tr>\n",
       "        <tr>\n",
       "            <td>CS025415000050</td>\n",
       "            <td>20180821</td>\n",
       "            <td>20160131</td>\n",
       "            <td>30</td>\n",
       "        </tr>\n",
       "        <tr>\n",
       "            <td>CS003515000195</td>\n",
       "            <td>20190605</td>\n",
       "            <td>20150306</td>\n",
       "            <td>50</td>\n",
       "        </tr>\n",
       "        <tr>\n",
       "            <td>CS024514000042</td>\n",
       "            <td>20181205</td>\n",
       "            <td>20151010</td>\n",
       "            <td>37</td>\n",
       "        </tr>\n",
       "        <tr>\n",
       "            <td>CS040415000178</td>\n",
       "            <td>20190922</td>\n",
       "            <td>20150627</td>\n",
       "            <td>50</td>\n",
       "        </tr>\n",
       "        <tr>\n",
       "            <td>CS027514000015</td>\n",
       "            <td>20191010</td>\n",
       "            <td>20151101</td>\n",
       "            <td>47</td>\n",
       "        </tr>\n",
       "        <tr>\n",
       "            <td>CS025415000134</td>\n",
       "            <td>20190918</td>\n",
       "            <td>20150720</td>\n",
       "            <td>49</td>\n",
       "        </tr>\n",
       "        <tr>\n",
       "            <td>CS021515000126</td>\n",
       "            <td>20171010</td>\n",
       "            <td>20150508</td>\n",
       "            <td>29</td>\n",
       "        </tr>\n",
       "    </tbody>\n",
       "</table>"
      ],
      "text/plain": [
       "[('CS006214000001', 20181103, '20150201', Decimal('45')),\n",
       " ('CS008415000097', 20181118, '20150322', Decimal('43')),\n",
       " ('CS028414000014', 20170712, '20150711', Decimal('24')),\n",
       " ('CS025415000050', 20180821, '20160131', Decimal('30')),\n",
       " ('CS003515000195', 20190605, '20150306', Decimal('50')),\n",
       " ('CS024514000042', 20181205, '20151010', Decimal('37')),\n",
       " ('CS040415000178', 20190922, '20150627', Decimal('50')),\n",
       " ('CS027514000015', 20191010, '20151101', Decimal('47')),\n",
       " ('CS025415000134', 20190918, '20150720', Decimal('49')),\n",
       " ('CS021515000126', 20171010, '20150508', Decimal('29'))]"
      ]
     },
     "execution_count": 363,
     "metadata": {},
     "output_type": "execute_result"
    }
   ],
   "source": [
    "%%sql\n",
    "WITH inter AS (\n",
    "    SELECT r.customer_id,r.sales_ymd,c.application_date,AGE(TO_TIMESTAMP(CAST(r.sales_ymd AS VARCHAR),'YYYYMMDD'),TO_TIMESTAMP(c.application_date,'YYYYMMDD')) AS interval\n",
    "    FROM receipt AS r\n",
    "    JOIN customer AS c\n",
    "    ON r.customer_id=c.customer_id\n",
    ")\n",
    "SELECT customer_id,sales_ymd,application_date,EXTRACT (YEAR FROM interval) * 12 + EXTRACT (MONTH FROM interval) AS month\n",
    "FROM inter\n",
    "LIMIT 10"
   ]
  },
  {
   "cell_type": "markdown",
   "metadata": {},
   "source": [
    "---\n",
    "> S-072: レシート明細テーブル（receipt）の売上日（sales_ymd）に対し、顧客テーブル（customer）の会員申込日（application_date）からの経過年数を計算し、顧客ID（customer_id）、売上日、会員申込日とともに表示せよ。結果は10件表示させれば良い（なお、sales_ymdは数値、application_dateは文字列でデータを保持している点に注意）。1年未満は切り捨てること。"
   ]
  },
  {
   "cell_type": "code",
   "execution_count": 364,
   "metadata": {},
   "outputs": [
    {
     "name": "stdout",
     "output_type": "stream",
     "text": [
      " * postgresql://padawan:***@db:5432/dsdojo_db\n",
      "10 rows affected.\n"
     ]
    },
    {
     "data": {
      "text/html": [
       "<table>\n",
       "    <thead>\n",
       "        <tr>\n",
       "            <th>customer_id</th>\n",
       "            <th>sales_ymd</th>\n",
       "            <th>application_date</th>\n",
       "            <th>year</th>\n",
       "        </tr>\n",
       "    </thead>\n",
       "    <tbody>\n",
       "        <tr>\n",
       "            <td>CS006214000001</td>\n",
       "            <td>20181103</td>\n",
       "            <td>20150201</td>\n",
       "            <td>3</td>\n",
       "        </tr>\n",
       "        <tr>\n",
       "            <td>CS008415000097</td>\n",
       "            <td>20181118</td>\n",
       "            <td>20150322</td>\n",
       "            <td>3</td>\n",
       "        </tr>\n",
       "        <tr>\n",
       "            <td>CS028414000014</td>\n",
       "            <td>20170712</td>\n",
       "            <td>20150711</td>\n",
       "            <td>2</td>\n",
       "        </tr>\n",
       "        <tr>\n",
       "            <td>CS025415000050</td>\n",
       "            <td>20180821</td>\n",
       "            <td>20160131</td>\n",
       "            <td>2</td>\n",
       "        </tr>\n",
       "        <tr>\n",
       "            <td>CS003515000195</td>\n",
       "            <td>20190605</td>\n",
       "            <td>20150306</td>\n",
       "            <td>4</td>\n",
       "        </tr>\n",
       "        <tr>\n",
       "            <td>CS024514000042</td>\n",
       "            <td>20181205</td>\n",
       "            <td>20151010</td>\n",
       "            <td>3</td>\n",
       "        </tr>\n",
       "        <tr>\n",
       "            <td>CS040415000178</td>\n",
       "            <td>20190922</td>\n",
       "            <td>20150627</td>\n",
       "            <td>4</td>\n",
       "        </tr>\n",
       "        <tr>\n",
       "            <td>CS027514000015</td>\n",
       "            <td>20191010</td>\n",
       "            <td>20151101</td>\n",
       "            <td>3</td>\n",
       "        </tr>\n",
       "        <tr>\n",
       "            <td>CS025415000134</td>\n",
       "            <td>20190918</td>\n",
       "            <td>20150720</td>\n",
       "            <td>4</td>\n",
       "        </tr>\n",
       "        <tr>\n",
       "            <td>CS021515000126</td>\n",
       "            <td>20171010</td>\n",
       "            <td>20150508</td>\n",
       "            <td>2</td>\n",
       "        </tr>\n",
       "    </tbody>\n",
       "</table>"
      ],
      "text/plain": [
       "[('CS006214000001', 20181103, '20150201', Decimal('3')),\n",
       " ('CS008415000097', 20181118, '20150322', Decimal('3')),\n",
       " ('CS028414000014', 20170712, '20150711', Decimal('2')),\n",
       " ('CS025415000050', 20180821, '20160131', Decimal('2')),\n",
       " ('CS003515000195', 20190605, '20150306', Decimal('4')),\n",
       " ('CS024514000042', 20181205, '20151010', Decimal('3')),\n",
       " ('CS040415000178', 20190922, '20150627', Decimal('4')),\n",
       " ('CS027514000015', 20191010, '20151101', Decimal('3')),\n",
       " ('CS025415000134', 20190918, '20150720', Decimal('4')),\n",
       " ('CS021515000126', 20171010, '20150508', Decimal('2'))]"
      ]
     },
     "execution_count": 364,
     "metadata": {},
     "output_type": "execute_result"
    }
   ],
   "source": [
    "%%sql\n",
    "WITH inter AS (\n",
    "    SELECT r.customer_id,r.sales_ymd,c.application_date,AGE(TO_TIMESTAMP(CAST(r.sales_ymd AS VARCHAR),'YYYYMMDD'),TO_TIMESTAMP(c.application_date,'YYYYMMDD')) AS interval\n",
    "    FROM receipt AS r\n",
    "    JOIN customer AS c\n",
    "    ON r.customer_id=c.customer_id\n",
    ")\n",
    "SELECT customer_id,sales_ymd,application_date,EXTRACT (YEAR FROM interval) AS year\n",
    "FROM inter\n",
    "LIMIT 10"
   ]
  },
  {
   "cell_type": "markdown",
   "metadata": {},
   "source": [
    "---\n",
    "> S-073: レシート明細テーブル（receipt）の売上日（sales_ymd）に対し、顧客テーブル（customer）の会員申込日（application_date）からのエポック秒による経過時間を計算し、顧客ID（customer_id）、売上日、会員申込日とともに表示せよ。結果は10件表示させれば良い（なお、sales_ymdは数値、application_dateは文字列でデータを保持している点に注意）。なお、時間情報は保有していないため各日付は0時0分0秒を表すものとする。"
   ]
  },
  {
   "cell_type": "code",
   "execution_count": 366,
   "metadata": {},
   "outputs": [
    {
     "name": "stdout",
     "output_type": "stream",
     "text": [
      " * postgresql://padawan:***@db:5432/dsdojo_db\n",
      "10 rows affected.\n"
     ]
    },
    {
     "data": {
      "text/html": [
       "<table>\n",
       "    <thead>\n",
       "        <tr>\n",
       "            <th>customer_id</th>\n",
       "            <th>sales_ymd</th>\n",
       "            <th>application_date</th>\n",
       "            <th>epoch</th>\n",
       "        </tr>\n",
       "    </thead>\n",
       "    <tbody>\n",
       "        <tr>\n",
       "            <td>CS006214000001</td>\n",
       "            <td>20181103</td>\n",
       "            <td>20150201</td>\n",
       "            <td>118454400.000000</td>\n",
       "        </tr>\n",
       "        <tr>\n",
       "            <td>CS008415000097</td>\n",
       "            <td>20181118</td>\n",
       "            <td>20150322</td>\n",
       "            <td>115516800.000000</td>\n",
       "        </tr>\n",
       "        <tr>\n",
       "            <td>CS028414000014</td>\n",
       "            <td>20170712</td>\n",
       "            <td>20150711</td>\n",
       "            <td>63244800.000000</td>\n",
       "        </tr>\n",
       "        <tr>\n",
       "            <td>CS025415000050</td>\n",
       "            <td>20180821</td>\n",
       "            <td>20160131</td>\n",
       "            <td>80611200.000000</td>\n",
       "        </tr>\n",
       "        <tr>\n",
       "            <td>CS003515000195</td>\n",
       "            <td>20190605</td>\n",
       "            <td>20150306</td>\n",
       "            <td>134092800.000000</td>\n",
       "        </tr>\n",
       "        <tr>\n",
       "            <td>CS024514000042</td>\n",
       "            <td>20181205</td>\n",
       "            <td>20151010</td>\n",
       "            <td>99532800.000000</td>\n",
       "        </tr>\n",
       "        <tr>\n",
       "            <td>CS040415000178</td>\n",
       "            <td>20190922</td>\n",
       "            <td>20150627</td>\n",
       "            <td>133747200.000000</td>\n",
       "        </tr>\n",
       "        <tr>\n",
       "            <td>CS027514000015</td>\n",
       "            <td>20191010</td>\n",
       "            <td>20151101</td>\n",
       "            <td>124329600.000000</td>\n",
       "        </tr>\n",
       "        <tr>\n",
       "            <td>CS025415000134</td>\n",
       "            <td>20190918</td>\n",
       "            <td>20150720</td>\n",
       "            <td>131414400.000000</td>\n",
       "        </tr>\n",
       "        <tr>\n",
       "            <td>CS021515000126</td>\n",
       "            <td>20171010</td>\n",
       "            <td>20150508</td>\n",
       "            <td>76550400.000000</td>\n",
       "        </tr>\n",
       "    </tbody>\n",
       "</table>"
      ],
      "text/plain": [
       "[('CS006214000001', 20181103, '20150201', Decimal('118454400.000000')),\n",
       " ('CS008415000097', 20181118, '20150322', Decimal('115516800.000000')),\n",
       " ('CS028414000014', 20170712, '20150711', Decimal('63244800.000000')),\n",
       " ('CS025415000050', 20180821, '20160131', Decimal('80611200.000000')),\n",
       " ('CS003515000195', 20190605, '20150306', Decimal('134092800.000000')),\n",
       " ('CS024514000042', 20181205, '20151010', Decimal('99532800.000000')),\n",
       " ('CS040415000178', 20190922, '20150627', Decimal('133747200.000000')),\n",
       " ('CS027514000015', 20191010, '20151101', Decimal('124329600.000000')),\n",
       " ('CS025415000134', 20190918, '20150720', Decimal('131414400.000000')),\n",
       " ('CS021515000126', 20171010, '20150508', Decimal('76550400.000000'))]"
      ]
     },
     "execution_count": 366,
     "metadata": {},
     "output_type": "execute_result"
    }
   ],
   "source": [
    "%%sql\n",
    "\n",
    "SELECT r.customer_id,r.sales_ymd,c.application_date,EXTRACT (epoch FROM TO_TIMESTAMP(CAST(r.sales_ymd AS VARCHAR),'YYYYMMDD')-TO_TIMESTAMP(c.application_date,'YYYYMMDD')) AS epoch\n",
    "FROM receipt AS r\n",
    "JOIN customer AS c\n",
    "ON r.customer_id=c.customer_id\n",
    "LIMIT 10"
   ]
  },
  {
   "cell_type": "markdown",
   "metadata": {},
   "source": [
    "---\n",
    "> S-074: レシート明細テーブル（receipt）の売上日（sales_ymd）に対し、当該週の月曜日からの経過日数を計算し、売上日、当該週の月曜日付とともに表示せよ。結果は10件表示させれば良い（なお、sales_ymdは数値でデータを保持している点に注意）。"
   ]
  },
  {
   "cell_type": "code",
   "execution_count": 387,
   "metadata": {},
   "outputs": [
    {
     "name": "stdout",
     "output_type": "stream",
     "text": [
      " * postgresql://padawan:***@db:5432/dsdojo_db\n",
      "10 rows affected.\n"
     ]
    },
    {
     "data": {
      "text/html": [
       "<table>\n",
       "    <thead>\n",
       "        <tr>\n",
       "            <th>customer_id</th>\n",
       "            <th>sales_ymd</th>\n",
       "            <th>application_date</th>\n",
       "            <th>dt</th>\n",
       "            <th>dow</th>\n",
       "            <th>?column?</th>\n",
       "        </tr>\n",
       "    </thead>\n",
       "    <tbody>\n",
       "        <tr>\n",
       "            <td>CS006214000001</td>\n",
       "            <td>20181103</td>\n",
       "            <td>20150201</td>\n",
       "            <td>2018-11-03</td>\n",
       "            <td>5</td>\n",
       "            <td>2018-10-29</td>\n",
       "        </tr>\n",
       "        <tr>\n",
       "            <td>CS008415000097</td>\n",
       "            <td>20181118</td>\n",
       "            <td>20150322</td>\n",
       "            <td>2018-11-18</td>\n",
       "            <td>6</td>\n",
       "            <td>2018-11-12</td>\n",
       "        </tr>\n",
       "        <tr>\n",
       "            <td>CS028414000014</td>\n",
       "            <td>20170712</td>\n",
       "            <td>20150711</td>\n",
       "            <td>2017-07-12</td>\n",
       "            <td>2</td>\n",
       "            <td>2017-07-10</td>\n",
       "        </tr>\n",
       "        <tr>\n",
       "            <td>CS025415000050</td>\n",
       "            <td>20180821</td>\n",
       "            <td>20160131</td>\n",
       "            <td>2018-08-21</td>\n",
       "            <td>1</td>\n",
       "            <td>2018-08-20</td>\n",
       "        </tr>\n",
       "        <tr>\n",
       "            <td>CS003515000195</td>\n",
       "            <td>20190605</td>\n",
       "            <td>20150306</td>\n",
       "            <td>2019-06-05</td>\n",
       "            <td>2</td>\n",
       "            <td>2019-06-03</td>\n",
       "        </tr>\n",
       "        <tr>\n",
       "            <td>CS024514000042</td>\n",
       "            <td>20181205</td>\n",
       "            <td>20151010</td>\n",
       "            <td>2018-12-05</td>\n",
       "            <td>2</td>\n",
       "            <td>2018-12-03</td>\n",
       "        </tr>\n",
       "        <tr>\n",
       "            <td>CS040415000178</td>\n",
       "            <td>20190922</td>\n",
       "            <td>20150627</td>\n",
       "            <td>2019-09-22</td>\n",
       "            <td>6</td>\n",
       "            <td>2019-09-16</td>\n",
       "        </tr>\n",
       "        <tr>\n",
       "            <td>CS027514000015</td>\n",
       "            <td>20191010</td>\n",
       "            <td>20151101</td>\n",
       "            <td>2019-10-10</td>\n",
       "            <td>3</td>\n",
       "            <td>2019-10-07</td>\n",
       "        </tr>\n",
       "        <tr>\n",
       "            <td>CS025415000134</td>\n",
       "            <td>20190918</td>\n",
       "            <td>20150720</td>\n",
       "            <td>2019-09-18</td>\n",
       "            <td>2</td>\n",
       "            <td>2019-09-16</td>\n",
       "        </tr>\n",
       "        <tr>\n",
       "            <td>CS021515000126</td>\n",
       "            <td>20171010</td>\n",
       "            <td>20150508</td>\n",
       "            <td>2017-10-10</td>\n",
       "            <td>1</td>\n",
       "            <td>2017-10-09</td>\n",
       "        </tr>\n",
       "    </tbody>\n",
       "</table>"
      ],
      "text/plain": [
       "[('CS006214000001', 20181103, '20150201', datetime.date(2018, 11, 3), 5, datetime.date(2018, 10, 29)),\n",
       " ('CS008415000097', 20181118, '20150322', datetime.date(2018, 11, 18), 6, datetime.date(2018, 11, 12)),\n",
       " ('CS028414000014', 20170712, '20150711', datetime.date(2017, 7, 12), 2, datetime.date(2017, 7, 10)),\n",
       " ('CS025415000050', 20180821, '20160131', datetime.date(2018, 8, 21), 1, datetime.date(2018, 8, 20)),\n",
       " ('CS003515000195', 20190605, '20150306', datetime.date(2019, 6, 5), 2, datetime.date(2019, 6, 3)),\n",
       " ('CS024514000042', 20181205, '20151010', datetime.date(2018, 12, 5), 2, datetime.date(2018, 12, 3)),\n",
       " ('CS040415000178', 20190922, '20150627', datetime.date(2019, 9, 22), 6, datetime.date(2019, 9, 16)),\n",
       " ('CS027514000015', 20191010, '20151101', datetime.date(2019, 10, 10), 3, datetime.date(2019, 10, 7)),\n",
       " ('CS025415000134', 20190918, '20150720', datetime.date(2019, 9, 18), 2, datetime.date(2019, 9, 16)),\n",
       " ('CS021515000126', 20171010, '20150508', datetime.date(2017, 10, 10), 1, datetime.date(2017, 10, 9))]"
      ]
     },
     "execution_count": 387,
     "metadata": {},
     "output_type": "execute_result"
    }
   ],
   "source": [
    "%%sql\n",
    "WITH \n",
    "timestamp AS (\n",
    "    SELECT r.customer_id,r.sales_ymd,c.application_date,TO_DATE(CAST(r.sales_ymd AS VARCHAR),'YYYYMMDD') AS dt\n",
    "    FROM receipt AS r\n",
    "    JOIN customer AS c\n",
    "    ON r.customer_id=c.customer_id\n",
    "),\n",
    "days_of_week AS (\n",
    "SELECT customer_id,sales_ymd,application_date,dt,CAST (EXTRACT (dow FROM dt-1) AS INTEGER) AS dow\n",
    "FROM timestamp\n",
    ")\n",
    "SELECT customer_id,sales_ymd,application_date,dt,dow,dt-dow\n",
    "FROM days_of_week\n",
    "LIMIT 10"
   ]
  },
  {
   "cell_type": "markdown",
   "metadata": {},
   "source": [
    "---\n",
    "> S-075: 顧客テーブル（customer）からランダムに1%のデータを抽出し、先頭から10件データを抽出せよ。 "
   ]
  },
  {
   "cell_type": "code",
   "execution_count": 390,
   "metadata": {},
   "outputs": [
    {
     "name": "stdout",
     "output_type": "stream",
     "text": [
      " * postgresql://padawan:***@db:5432/dsdojo_db\n",
      "10 rows affected.\n"
     ]
    },
    {
     "data": {
      "text/html": [
       "<table>\n",
       "    <thead>\n",
       "        <tr>\n",
       "            <th>customer_id</th>\n",
       "            <th>customer_name</th>\n",
       "            <th>gender_cd</th>\n",
       "            <th>gender</th>\n",
       "            <th>birth_day</th>\n",
       "            <th>age</th>\n",
       "            <th>postal_cd</th>\n",
       "            <th>address</th>\n",
       "            <th>application_store_cd</th>\n",
       "            <th>application_date</th>\n",
       "            <th>status_cd</th>\n",
       "        </tr>\n",
       "    </thead>\n",
       "    <tbody>\n",
       "        <tr>\n",
       "            <td>CS007314000053</td>\n",
       "            <td>宮脇 咲</td>\n",
       "            <td>1</td>\n",
       "            <td>女性</td>\n",
       "            <td>1981-04-04</td>\n",
       "            <td>37</td>\n",
       "            <td>285-0855</td>\n",
       "            <td>千葉県佐倉市井野**********</td>\n",
       "            <td>S12007</td>\n",
       "            <td>20141219</td>\n",
       "            <td>0-00000000-0</td>\n",
       "        </tr>\n",
       "        <tr>\n",
       "            <td>CS002511000074</td>\n",
       "            <td>小平 路子</td>\n",
       "            <td>1</td>\n",
       "            <td>女性</td>\n",
       "            <td>1964-12-15</td>\n",
       "            <td>54</td>\n",
       "            <td>187-0001</td>\n",
       "            <td>東京都小平市大沼町**********</td>\n",
       "            <td>S13002</td>\n",
       "            <td>20160322</td>\n",
       "            <td>0-00000000-0</td>\n",
       "        </tr>\n",
       "        <tr>\n",
       "            <td>CS001411000027</td>\n",
       "            <td>長瀬 礼子</td>\n",
       "            <td>1</td>\n",
       "            <td>女性</td>\n",
       "            <td>1969-05-15</td>\n",
       "            <td>49</td>\n",
       "            <td>210-0024</td>\n",
       "            <td>神奈川県川崎市川崎区日進町**********</td>\n",
       "            <td>S13001</td>\n",
       "            <td>20150301</td>\n",
       "            <td>A-20091001-1</td>\n",
       "        </tr>\n",
       "        <tr>\n",
       "            <td>CS004314000055</td>\n",
       "            <td>松井 莉沙</td>\n",
       "            <td>1</td>\n",
       "            <td>女性</td>\n",
       "            <td>1979-07-04</td>\n",
       "            <td>39</td>\n",
       "            <td>167-0022</td>\n",
       "            <td>東京都杉並区下井草**********</td>\n",
       "            <td>S13004</td>\n",
       "            <td>20150618</td>\n",
       "            <td>9-20100423-8</td>\n",
       "        </tr>\n",
       "        <tr>\n",
       "            <td>CS020413000290</td>\n",
       "            <td>杉本 季衣</td>\n",
       "            <td>1</td>\n",
       "            <td>女性</td>\n",
       "            <td>1975-01-20</td>\n",
       "            <td>44</td>\n",
       "            <td>173-0003</td>\n",
       "            <td>東京都板橋区加賀**********</td>\n",
       "            <td>S13020</td>\n",
       "            <td>20160525</td>\n",
       "            <td>0-00000000-0</td>\n",
       "        </tr>\n",
       "        <tr>\n",
       "            <td>CS021413000094</td>\n",
       "            <td>宇佐美 メイサ</td>\n",
       "            <td>1</td>\n",
       "            <td>女性</td>\n",
       "            <td>1970-05-18</td>\n",
       "            <td>48</td>\n",
       "            <td>259-1131</td>\n",
       "            <td>神奈川県伊勢原市伊勢原**********</td>\n",
       "            <td>S14021</td>\n",
       "            <td>20150422</td>\n",
       "            <td>0-00000000-0</td>\n",
       "        </tr>\n",
       "        <tr>\n",
       "            <td>CS003311000062</td>\n",
       "            <td>高柳 由宇</td>\n",
       "            <td>1</td>\n",
       "            <td>女性</td>\n",
       "            <td>1982-09-15</td>\n",
       "            <td>36</td>\n",
       "            <td>206-0812</td>\n",
       "            <td>東京都稲城市矢野口**********</td>\n",
       "            <td>S13003</td>\n",
       "            <td>20151201</td>\n",
       "            <td>4-20100921-2</td>\n",
       "        </tr>\n",
       "        <tr>\n",
       "            <td>CS002514000312</td>\n",
       "            <td>長浜 ひかり</td>\n",
       "            <td>1</td>\n",
       "            <td>女性</td>\n",
       "            <td>1966-02-24</td>\n",
       "            <td>53</td>\n",
       "            <td>184-0015</td>\n",
       "            <td>東京都小金井市貫井北町**********</td>\n",
       "            <td>S13002</td>\n",
       "            <td>20171203</td>\n",
       "            <td>0-00000000-0</td>\n",
       "        </tr>\n",
       "        <tr>\n",
       "            <td>CS029411000064</td>\n",
       "            <td>北沢 はるみ</td>\n",
       "            <td>1</td>\n",
       "            <td>女性</td>\n",
       "            <td>1977-04-12</td>\n",
       "            <td>41</td>\n",
       "            <td>132-0014</td>\n",
       "            <td>東京都江戸川区東瑞江**********</td>\n",
       "            <td>S12029</td>\n",
       "            <td>20160615</td>\n",
       "            <td>0-00000000-0</td>\n",
       "        </tr>\n",
       "        <tr>\n",
       "            <td>CS034715000016</td>\n",
       "            <td>久野 しぼり</td>\n",
       "            <td>1</td>\n",
       "            <td>女性</td>\n",
       "            <td>1947-12-08</td>\n",
       "            <td>71</td>\n",
       "            <td>216-0001</td>\n",
       "            <td>神奈川県川崎市宮前区野川**********</td>\n",
       "            <td>S14034</td>\n",
       "            <td>20150703</td>\n",
       "            <td>0-00000000-0</td>\n",
       "        </tr>\n",
       "    </tbody>\n",
       "</table>"
      ],
      "text/plain": [
       "[('CS007314000053', '宮脇 咲', '1', '女性', datetime.date(1981, 4, 4), 37, '285-0855', '千葉県佐倉市井野**********', 'S12007', '20141219', '0-00000000-0'),\n",
       " ('CS002511000074', '小平 路子', '1', '女性', datetime.date(1964, 12, 15), 54, '187-0001', '東京都小平市大沼町**********', 'S13002', '20160322', '0-00000000-0'),\n",
       " ('CS001411000027', '長瀬 礼子', '1', '女性', datetime.date(1969, 5, 15), 49, '210-0024', '神奈川県川崎市川崎区日進町**********', 'S13001', '20150301', 'A-20091001-1'),\n",
       " ('CS004314000055', '松井 莉沙', '1', '女性', datetime.date(1979, 7, 4), 39, '167-0022', '東京都杉並区下井草**********', 'S13004', '20150618', '9-20100423-8'),\n",
       " ('CS020413000290', '杉本 季衣', '1', '女性', datetime.date(1975, 1, 20), 44, '173-0003', '東京都板橋区加賀**********', 'S13020', '20160525', '0-00000000-0'),\n",
       " ('CS021413000094', '宇佐美 メイサ', '1', '女性', datetime.date(1970, 5, 18), 48, '259-1131', '神奈川県伊勢原市伊勢原**********', 'S14021', '20150422', '0-00000000-0'),\n",
       " ('CS003311000062', '高柳 由宇', '1', '女性', datetime.date(1982, 9, 15), 36, '206-0812', '東京都稲城市矢野口**********', 'S13003', '20151201', '4-20100921-2'),\n",
       " ('CS002514000312', '長浜 ひかり', '1', '女性', datetime.date(1966, 2, 24), 53, '184-0015', '東京都小金井市貫井北町**********', 'S13002', '20171203', '0-00000000-0'),\n",
       " ('CS029411000064', '北沢 はるみ', '1', '女性', datetime.date(1977, 4, 12), 41, '132-0014', '東京都江戸川区東瑞江**********', 'S12029', '20160615', '0-00000000-0'),\n",
       " ('CS034715000016', '久野 しぼり', '1', '女性', datetime.date(1947, 12, 8), 71, '216-0001', '神奈川県川崎市宮前区野川**********', 'S14034', '20150703', '0-00000000-0')]"
      ]
     },
     "execution_count": 390,
     "metadata": {},
     "output_type": "execute_result"
    }
   ],
   "source": [
    "%%sql\n",
    "SELECT *\n",
    "FROM customer\n",
    "WHERE RANDOM()<=0.01\n",
    "LIMIT 10"
   ]
  },
  {
   "cell_type": "markdown",
   "metadata": {},
   "source": [
    "---\n",
    "> S-076:  顧客テーブル（customer）から性別（gender_cd）の割合に基づきランダムに10%のデータを層化抽出し、性別ごとに件数を集計せよ。"
   ]
  },
  {
   "cell_type": "code",
   "execution_count": null,
   "metadata": {},
   "outputs": [],
   "source": [
    "%%sql\n"
   ]
  },
  {
   "cell_type": "markdown",
   "metadata": {},
   "source": [
    "---\n",
    "> S-077: レシート明細テーブル（receipt）の売上金額（amount）を顧客単位に合計し、合計した売上金額の外れ値を抽出せよ。ただし、顧客IDが\"Z\"から始まるのものは非会員を表すため、除外して計算すること。なお、ここでは外れ値を平均から3σ以上離れたものとする。結果は10件表示させれば良い。"
   ]
  },
  {
   "cell_type": "code",
   "execution_count": null,
   "metadata": {},
   "outputs": [],
   "source": [
    "%%sql\n"
   ]
  },
  {
   "cell_type": "markdown",
   "metadata": {},
   "source": [
    "---\n",
    "> S-078: レシート明細テーブル（receipt）の売上金額（amount）を顧客単位に合計し、合計した売上金額の外れ値を抽出せよ。ただし、顧客IDが\"Z\"から始まるのものは非会員を表すため、除外して計算すること。なお、ここでは外れ値を第一四分位と第三四分位の差であるIQRを用いて、「第一四分位数-1.5×IQR」よりも下回るもの、または「第三四分位数+1.5×IQR」を超えるものとする。結果は10件表示させれば良い。"
   ]
  },
  {
   "cell_type": "code",
   "execution_count": null,
   "metadata": {},
   "outputs": [],
   "source": [
    "%%sql\n"
   ]
  },
  {
   "cell_type": "markdown",
   "metadata": {},
   "source": [
    "---\n",
    "> S-079: 商品テーブル（product）の各項目に対し、欠損数を確認せよ。"
   ]
  },
  {
   "cell_type": "code",
   "execution_count": null,
   "metadata": {},
   "outputs": [],
   "source": [
    "%%sql\n"
   ]
  },
  {
   "cell_type": "markdown",
   "metadata": {},
   "source": [
    "---\n",
    "> S-080: 商品テーブル（product）のいずれかの項目に欠損が発生しているレコードを全て削除した新たなproduct_1を作成せよ。なお、削除前後の件数を表示させ、前設問で確認した件数だけ減少していることも確認すること。"
   ]
  },
  {
   "cell_type": "code",
   "execution_count": null,
   "metadata": {},
   "outputs": [],
   "source": [
    "%%sql\n"
   ]
  },
  {
   "cell_type": "markdown",
   "metadata": {},
   "source": [
    "---\n",
    "> S-081: 単価（unit_price）と原価（unit_cost）の欠損値について、それぞれの平均値で補完した新たなproduct_2を作成せよ。なお、平均値については1円未満を丸めること（四捨五入または偶数への丸めで良い）。補完実施後、各項目について欠損が生じていないことも確認すること。"
   ]
  },
  {
   "cell_type": "code",
   "execution_count": null,
   "metadata": {},
   "outputs": [],
   "source": [
    "%%sql\n"
   ]
  },
  {
   "cell_type": "markdown",
   "metadata": {},
   "source": [
    "---\n",
    "> S-082:  単価（unit_price）と原価（unit_cost）の欠損値について、それぞれの中央値で補完した新たなproduct_3を作成せよ。なお、中央値については1円未満を丸めること（四捨五入または偶数への丸めで良い）。補完実施後、各項目について欠損が生じていないことも確認すること。"
   ]
  },
  {
   "cell_type": "code",
   "execution_count": null,
   "metadata": {},
   "outputs": [],
   "source": [
    "%%sql\n"
   ]
  },
  {
   "cell_type": "markdown",
   "metadata": {},
   "source": [
    "---\n",
    "> S-083: 単価（unit_price）と原価（unit_cost）の欠損値について、各商品の小区分（category_small_cd）ごとに算出した中央値で補完した新たなproduct_4を作成せよ。なお、中央値については1円未満を丸めること（四捨五入または偶数への丸めで良い）。補完実施後、各項目について欠損が生じていないことも確認すること。"
   ]
  },
  {
   "cell_type": "code",
   "execution_count": null,
   "metadata": {},
   "outputs": [],
   "source": [
    "%%sql\n"
   ]
  },
  {
   "cell_type": "markdown",
   "metadata": {},
   "source": [
    "---\n",
    "> S-084: 顧客テーブル（customer）の全顧客に対し、全期間の売上金額に占める2019年売上金額の割合を計算せよ。ただし、売上実績がない場合は0として扱うこと。そして計算した割合が0超のものを抽出せよ。 結果は10件表示させれば良い。"
   ]
  },
  {
   "cell_type": "code",
   "execution_count": null,
   "metadata": {},
   "outputs": [],
   "source": [
    "%%sql\n"
   ]
  },
  {
   "cell_type": "markdown",
   "metadata": {},
   "source": [
    "---\n",
    "> S-085: 顧客テーブル（customer）の全顧客に対し、郵便番号（postal_cd）を用いて経度緯度変換用テーブル（geocode）を紐付け、新たなcustomer_1を作成せよ。ただし、複数紐づく場合は経度（longitude）、緯度（latitude）それぞれ平均を算出すること。"
   ]
  },
  {
   "cell_type": "code",
   "execution_count": null,
   "metadata": {},
   "outputs": [],
   "source": [
    "%%sql\n"
   ]
  },
  {
   "cell_type": "markdown",
   "metadata": {},
   "source": [
    "---\n",
    "> S-086: 前設問で作成した緯度経度つき顧客テーブル（customer_1）に対し、申込み店舗コード（application_store_cd）をキーに店舗テーブル（store）と結合せよ。そして申込み店舗の緯度（latitude）・経度情報（longitude)と顧客の緯度・経度を用いて距離（km）を求め、顧客ID（customer_id）、顧客住所（address）、店舗住所（address）とともに表示せよ。計算式は簡易式で良いものとするが、その他精度の高い方式を利用したライブラリを利用してもかまわない。結果は10件表示すれば良い。"
   ]
  },
  {
   "cell_type": "markdown",
   "metadata": {},
   "source": [
    "$$\n",
    "緯度（ラジアン）：\\phi \\\\\n",
    "経度（ラジアン）：\\lambda \\\\\n",
    "距離L = 6371 * arccos(sin \\phi_1 * sin \\phi_2\n",
    "+ cos \\phi_1 * cos \\phi_2 * cos(\\lambda_1 − \\lambda_2))\n",
    "$$"
   ]
  },
  {
   "cell_type": "code",
   "execution_count": null,
   "metadata": {},
   "outputs": [],
   "source": [
    "%%sql\n"
   ]
  },
  {
   "cell_type": "markdown",
   "metadata": {},
   "source": [
    "---\n",
    "> S-087: 顧客テーブル（customer）では、異なる店舗での申込みなどにより同一顧客が複数登録されている。名前（customer_name）と郵便番号（postal_cd）が同じ顧客は同一顧客とみなし、1顧客1レコードとなるように名寄せした名寄顧客テーブル（customer_u）を作成せよ。ただし、同一顧客に対しては売上金額合計が最も高いものを残すものとし、売上金額合計が同一もしくは売上実績がない顧客については顧客ID（customer_id）の番号が小さいものを残すこととする。"
   ]
  },
  {
   "cell_type": "code",
   "execution_count": null,
   "metadata": {},
   "outputs": [],
   "source": [
    "%%sql\n"
   ]
  },
  {
   "cell_type": "markdown",
   "metadata": {},
   "source": [
    "---\n",
    "> S-088: 前設問で作成したデータを元に、顧客テーブルに統合名寄IDを付与したテーブル（customer_n）を作成せよ。ただし、統合名寄IDは以下の仕様で付与するものとする。\n",
    ">\n",
    ">- 重複していない顧客：顧客ID（customer_id）を設定\n",
    ">- 重複している顧客：前設問で抽出したレコードの顧客IDを設定"
   ]
  },
  {
   "cell_type": "code",
   "execution_count": null,
   "metadata": {},
   "outputs": [],
   "source": [
    "%%sql\n"
   ]
  },
  {
   "cell_type": "markdown",
   "metadata": {},
   "source": [
    "---\n",
    "> S-089: 売上実績がある顧客に対し、予測モデル構築のため学習用データとテスト用データに分割したい。それぞれ8:2の割合でランダムにデータを分割せよ。"
   ]
  },
  {
   "cell_type": "code",
   "execution_count": null,
   "metadata": {},
   "outputs": [],
   "source": [
    "%%sql\n"
   ]
  },
  {
   "cell_type": "markdown",
   "metadata": {},
   "source": [
    "---\n",
    "> S-090: レシート明細テーブル（receipt）は2017年1月1日〜2019年10月31日までのデータを有している。売上金額（amount）を月次で集計し、学習用に12ヶ月、テスト用に6ヶ月のモデル構築用データを3セット作成せよ。データの持ち方は自由とする。"
   ]
  },
  {
   "cell_type": "code",
   "execution_count": null,
   "metadata": {},
   "outputs": [],
   "source": [
    "%%sql\n"
   ]
  },
  {
   "cell_type": "markdown",
   "metadata": {},
   "source": [
    "---\n",
    "> S-091: 顧客テーブル（customer）の各顧客に対し、売上実績がある顧客数と売上実績がない顧客数が1:1となるようにアンダーサンプリングで抽出せよ。"
   ]
  },
  {
   "cell_type": "code",
   "execution_count": null,
   "metadata": {},
   "outputs": [],
   "source": [
    "%%sql\n"
   ]
  },
  {
   "cell_type": "markdown",
   "metadata": {},
   "source": [
    "---\n",
    "> S-092: 顧客テーブル（customer）では、性別に関する情報が非正規化の状態で保持されている。これを第三正規化せよ。"
   ]
  },
  {
   "cell_type": "code",
   "execution_count": null,
   "metadata": {},
   "outputs": [],
   "source": [
    "%%sql\n"
   ]
  },
  {
   "cell_type": "markdown",
   "metadata": {},
   "source": [
    "---\n",
    "> S-093: 商品テーブル（product）では各カテゴリのコード値だけを保有し、カテゴリ名は保有していない。カテゴリテーブル（category）と組み合わせて非正規化し、カテゴリ名を保有した新たな商品テーブルを作成せよ。"
   ]
  },
  {
   "cell_type": "code",
   "execution_count": null,
   "metadata": {},
   "outputs": [],
   "source": [
    "%%sql\n"
   ]
  },
  {
   "cell_type": "markdown",
   "metadata": {},
   "source": [
    "---\n",
    "> S-094: 先に作成したカテゴリ名付き商品データを以下の仕様でファイル出力せよ。出力先のパスは\"/tmp/data\"を指定することでJupyterの\"/work/data\"と共有されるようになっている。なお、COPYコマンドの権限は付与済みである。\n",
    ">\n",
    "> - ファイル形式はCSV（カンマ区切り）\n",
    "> - ヘッダ有り\n",
    "> - 文字コードはUTF-8"
   ]
  },
  {
   "cell_type": "code",
   "execution_count": null,
   "metadata": {},
   "outputs": [],
   "source": [
    "%%sql\n"
   ]
  },
  {
   "cell_type": "markdown",
   "metadata": {},
   "source": [
    "---\n",
    "> S-095: 先に作成したカテゴリ名付き商品データを以下の仕様でファイル出力せよ。出力先のパスは\"/tmp/data\"を指定することでJupyterの\"/work/data\"と共有されるようになっている。なお、COPYコマンドの権限は付与済みである。\n",
    ">\n",
    "> - ファイル形式はCSV（カンマ区切り）\n",
    "> - ヘッダ有り\n",
    "> - 文字コードはSJIS"
   ]
  },
  {
   "cell_type": "code",
   "execution_count": null,
   "metadata": {},
   "outputs": [],
   "source": [
    "%%sql\n"
   ]
  },
  {
   "cell_type": "markdown",
   "metadata": {},
   "source": [
    "---\n",
    "> S-096: 先に作成したカテゴリ名付き商品データを以下の仕様でファイル出力せよ。出力先のパスは\"/tmp/data\"を指定することでJupyterの\"/work/data\"と共有されるようになっている。なお、COPYコマンドの権限は付与済みである。\n",
    ">\n",
    "> - ファイル形式はCSV（カンマ区切り）\n",
    "> - ヘッダ無し\n",
    "> - 文字コードはUTF-8"
   ]
  },
  {
   "cell_type": "code",
   "execution_count": null,
   "metadata": {},
   "outputs": [],
   "source": [
    "%%sql\n"
   ]
  },
  {
   "cell_type": "markdown",
   "metadata": {},
   "source": [
    "---\n",
    "> S-097: 先に作成した以下形式のファイルを読み込み、テーブルを作成せよ。また、先頭3件を表示させ、正しく取り込まれていることを確認せよ。\n",
    ">\n",
    "> - ファイル形式はCSV（カンマ区切り）\n",
    "> - ヘッダ有り\n",
    "> - 文字コードはUTF-8"
   ]
  },
  {
   "cell_type": "code",
   "execution_count": null,
   "metadata": {},
   "outputs": [],
   "source": [
    "%%sql\n"
   ]
  },
  {
   "cell_type": "markdown",
   "metadata": {},
   "source": [
    "---\n",
    "> S-098: 先に作成した以下形式のファイルを読み込み、テーブルを作成せよ。また、先頭3件を表示させ、正しく取り込まれていることを確認せよ。\n",
    ">\n",
    "> - ファイル形式はCSV（カンマ区切り）\n",
    "> - ヘッダ無し\n",
    "> - 文字コードはUTF-8"
   ]
  },
  {
   "cell_type": "code",
   "execution_count": null,
   "metadata": {},
   "outputs": [],
   "source": [
    "%%sql\n"
   ]
  },
  {
   "cell_type": "markdown",
   "metadata": {},
   "source": [
    "---\n",
    "> S-099: 先に作成したカテゴリ名付き商品データを以下の仕様でファイル出力せよ。出力先のパスは\"/tmp/data\"を指定することでJupyterの\"/work/data\"と共有されるようになっている。なお、COPYコマンドの権限は付与済みである。\n",
    ">\n",
    "> - ファイル形式はTSV（タブ区切り）\n",
    "> - ヘッダ有り\n",
    "> - 文字コードはUTF-8"
   ]
  },
  {
   "cell_type": "code",
   "execution_count": null,
   "metadata": {},
   "outputs": [],
   "source": [
    "%%sql\n"
   ]
  },
  {
   "cell_type": "markdown",
   "metadata": {},
   "source": [
    "---\n",
    "> S-100: 先に作成した以下形式のファイルを読み込み、テーブルを作成せよ。また、先頭3件を表示させ、正しく取り込まれていることを確認せよ。\n",
    ">\n",
    "> - ファイル形式はTSV（タブ区切り）\n",
    "> - ヘッダ有り\n",
    "> - 文字コードはUTF-8"
   ]
  },
  {
   "cell_type": "code",
   "execution_count": null,
   "metadata": {},
   "outputs": [],
   "source": [
    "%%sql\n"
   ]
  },
  {
   "cell_type": "markdown",
   "metadata": {},
   "source": [
    "# これで１００本終わりです。おつかれさまでした！"
   ]
  }
 ],
 "metadata": {
  "kernelspec": {
   "display_name": "Python 3 (ipykernel)",
   "language": "python",
   "name": "python3"
  },
  "language_info": {
   "codemirror_mode": {
    "name": "ipython",
    "version": 3
   },
   "file_extension": ".py",
   "mimetype": "text/x-python",
   "name": "python",
   "nbconvert_exporter": "python",
   "pygments_lexer": "ipython3",
   "version": "3.9.6"
  }
 },
 "nbformat": 4,
 "nbformat_minor": 4
}
